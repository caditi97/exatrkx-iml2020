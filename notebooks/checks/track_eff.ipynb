{
 "cells": [
  {
   "cell_type": "code",
   "execution_count": 1,
   "metadata": {},
   "outputs": [],
   "source": [
    "import os\n",
    "\n",
    "os.environ['TRKXINPUTDIR']=\"/global/cfs/projectdirs/atlas/xju/heptrkx/trackml_inputs/train_all\"\n",
    "os.environ['TRKXOUTPUTDIR']= \"/global/cfs/projectdirs/m3443/usr/caditi97/iml2020/layerless_check/n1\""
   ]
  },
  {
   "cell_type": "code",
   "execution_count": 2,
   "metadata": {},
   "outputs": [],
   "source": [
    "import pkg_resources\n",
    "import yaml\n",
    "import pprint\n",
    "import random\n",
    "random.seed(1234)\n",
    "import numpy as np\n",
    "import pandas as pd\n",
    "import itertools\n",
    "import matplotlib.pyplot as plt\n",
    "import tqdm\n",
    "from os import listdir\n",
    "from os.path import isfile, join\n",
    "import matplotlib.cm as cm\n",
    "import sys\n",
    "# %matplotlib widget\n",
    "\n",
    "sys.path.append('/global/homes/c/caditi97/exatrkx-iml2020/exatrkx/src/')\n",
    "\n",
    "# 3rd party\n",
    "import torch\n",
    "import torch.nn.functional as F\n",
    "from torch_geometric.data import Data\n",
    "from trackml.dataset import load_event\n",
    "from pytorch_lightning import Trainer\n",
    "from pytorch_lightning.callbacks import ModelCheckpoint\n",
    "\n",
    "\n",
    "# local import\n",
    "from exatrkx import config_dict # for accessing predefined configuration files\n",
    "from exatrkx import outdir_dict # for accessing predefined output directories\n",
    "from exatrkx.src import utils_dir\n",
    "from exatrkx.src import utils_robust\n",
    "from utils_robust import *\n",
    "\n",
    "\n",
    "# for preprocessing\n",
    "from exatrkx import FeatureStore\n",
    "from exatrkx.src import utils_torch\n",
    "\n",
    "# for embedding\n",
    "from exatrkx import LayerlessEmbedding\n",
    "from exatrkx.src import utils_torch\n",
    "from torch_cluster import radius_graph\n",
    "from utils_torch import build_edges\n",
    "from embedding.embedding_base import *\n",
    "\n",
    "# for filtering\n",
    "from exatrkx import VanillaFilter\n",
    "\n",
    "# for GNN\n",
    "import tensorflow as tf\n",
    "from graph_nets import utils_tf\n",
    "from exatrkx import SegmentClassifier\n",
    "import sonnet as snt\n",
    "\n",
    "# for labeling\n",
    "from exatrkx.scripts.tracks_from_gnn import prepare as prepare_labeling\n",
    "from exatrkx.scripts.tracks_from_gnn import clustering as dbscan_clustering\n",
    "\n",
    "# track efficiency\n",
    "from trackml.score import _analyze_tracks\n",
    "from exatrkx.scripts.eval_reco_trkx import make_cmp_plot, pt_configs, eta_configs\n",
    "from functools import partial"
   ]
  },
  {
   "cell_type": "code",
   "execution_count": 3,
   "metadata": {},
   "outputs": [],
   "source": [
    "embed_ckpt_dir = '/global/cfs/cdirs/m3443/data/lightning_models/embedding/checkpoints/epoch=10.ckpt'\n",
    "filter_ckpt_dir = '/global/cfs/cdirs/m3443/data/lightning_models/filtering/checkpoints/epoch=92.ckpt'\n",
    "gnn_ckpt_dir = '/global/cfs/cdirs/m3443/data/lightning_models/gnn'\n",
    "ckpt_idx = -1 # which GNN checkpoint to load\n",
    "dbscan_epsilon, dbscan_minsamples = 0.25, 2 # hyperparameters for DBScan\n",
    "min_hits = 5 # minimum number of hits associated with a particle to define \"reconstructable particles\"\n",
    "frac_reco_matched, frac_truth_matched = 0.5, 0.5 # parameters for track matching\n",
    "noise_keep = [\"0\", \"0.2\", \"0.4\", \"0.6\", \"0.8\", \"1\"]\n",
    "evtid=1000"
   ]
  },
  {
   "cell_type": "code",
   "execution_count": 4,
   "metadata": {},
   "outputs": [],
   "source": [
    "def plot_noise_dist(noise_keeps):\n",
    "    noise = []\n",
    "    not_noise = []\n",
    "    for i in noise_keeps:\n",
    "        data_path = f\"/global/cfs/projectdirs/m3443/usr/caditi97/iml2020/layerless_check/n{i}/feature_store/1556\"\n",
    "        #data = torch.load(f\"/global/cfs/projectdirs/m3443/usr/caditi97/iml2020/feature_store_endcaps/n{i}/1000\")\n",
    "        data = torch.load(data_path)\n",
    "        arr = data['pid']\n",
    "        n_count = np.count_nonzero(arr==0)\n",
    "        not_n = np.count_nonzero(arr)\n",
    "        noise.append(n_count)\n",
    "        not_noise.append(not_n)\n",
    "        print(\"-----\")\n",
    "        print(data)\n",
    "\n",
    "    x = np.arange(len(noise_keeps))  # the label locations\n",
    "    width = 0.35  # the width of the bars\n",
    "\n",
    "    fig, ax = plt.subplots(figsize=(10,5))\n",
    "    rects1 = ax.bar(x - width/2, noise, width, label='noise')\n",
    "    rects2 = ax.bar(x + width/2, not_noise, width, label='not noise')\n",
    "\n",
    "    # Add some text for labels, title and custom x-axis tick labels, etc.\n",
    "    ax.set_ylabel('# of hits')\n",
    "    ax.set_xlabel('keep')\n",
    "    ax.set_xticks(x)\n",
    "    labels = noise_keeps\n",
    "    ax.set_xticklabels(labels)\n",
    "    ax.legend()\n",
    "    \n",
    "    fig2, ax2 = plt.subplots(figsize=(10,5))\n",
    "    ax2.plot(x,noise, label='noise')\n",
    "    ax2.set_ylabel('# of hits')\n",
    "    ax2.set_xlabel('keep')\n",
    "    ax2.set_xticks(x)\n",
    "    labels = noise_keeps\n",
    "    ax2.set_xticklabels(labels)\n",
    "    ax2.legend()\n",
    "    \n",
    "    fig3, ax3 = plt.subplots(figsize=(10,5))\n",
    "    ax3.plot(x,not_noise, label='not noise')\n",
    "    ax3.set_ylabel('# of hits')\n",
    "    ax3.set_xlabel('keep')\n",
    "    ax3.set_xticks(x)\n",
    "    labels = noise_keeps\n",
    "    ax3.set_xticklabels(labels)\n",
    "    ax3.legend()"
   ]
  },
  {
   "cell_type": "code",
   "execution_count": 5,
   "metadata": {},
   "outputs": [
    {
     "name": "stdout",
     "output_type": "stream",
     "text": [
      "-----\n",
      "Data(cell_data=[101386, 9], event_file=\"/global/cfs/projectdirs/atlas/xju/heptrkx/trackml_inputs/train_all/event000001556\", hid=[101386], layerless_true_edges=[2, 121281], layers=[101386], pid=[101386], x=[101386, 3])\n",
      "-----\n",
      "Data(cell_data=[104970, 9], event_file=\"/global/cfs/projectdirs/atlas/xju/heptrkx/trackml_inputs/train_all/event000001556\", hid=[104970], layerless_true_edges=[2, 121281], layers=[101386], pid=[104970], x=[104970, 3])\n",
      "-----\n",
      "Data(cell_data=[108554, 9], event_file=\"/global/cfs/projectdirs/atlas/xju/heptrkx/trackml_inputs/train_100_events/event000001556\", hid=[108554], layerless_true_edges=[2, 121281], layers=[101386], pid=[108554], x=[108554, 3])\n",
      "-----\n",
      "Data(cell_data=[112139, 9], event_file=\"/global/cfs/projectdirs/atlas/xju/heptrkx/trackml_inputs/train_100_events/event000001556\", hid=[112139], layerless_true_edges=[2, 121281], layers=[101386], pid=[112139], x=[112139, 3])\n",
      "-----\n",
      "Data(cell_data=[115723, 9], event_file=\"/global/cfs/projectdirs/atlas/xju/heptrkx/trackml_inputs/train_100_events/event000001556\", hid=[115723], layerless_true_edges=[2, 121281], layers=[101386], pid=[115723], x=[115723, 3])\n",
      "-----\n",
      "Data(cell_data=[119308, 9], event_file=\"/global/cfs/projectdirs/atlas/xju/heptrkx/trackml_inputs/train_100_events/event000001556\", hid=[119308], layerless_true_edges=[2, 121281], layers=[101386], pid=[119308], x=[119308, 3])\n"
     ]
    },
    {
     "data": {
      "image/png": "[encoded data removed]",
      "text/plain": [
       "<Figure size 720x360 with 1 Axes>"
      ]
     },
     "metadata": {
      "needs_background": "light"
     },
     "output_type": "display_data"
    },
    {
     "data": {
      "image/png": "[encoded data removed]",
      "text/plain": [
       "<Figure size 720x360 with 1 Axes>"
      ]
     },
     "metadata": {
      "needs_background": "light"
     },
     "output_type": "display_data"
    },
    {
     "data": {
      "image/png": "[encoded data removed]",
      "text/plain": [
       "<Figure size 720x360 with 1 Axes>"
      ]
     },
     "metadata": {
      "needs_background": "light"
     },
     "output_type": "display_data"
    }
   ],
   "source": [
    "noise_keep = [\"0\", \"0.2\", \"0.4\", \"0.6\", \"0.8\", \"1\"]\n",
    "#  \"0.4\", \"0.6\", \"0.8\", \"1\"\n",
    "plot_noise_dist(noise_keep)"
   ]
  },
  {
   "cell_type": "code",
   "execution_count": 6,
   "metadata": {},
   "outputs": [],
   "source": [
    "def calc_evts(noise_dir):\n",
    "    data = torch.load(noise_dir)\n",
    "    e_spatial = emb_eval(embed_ckpt_dir,data)\n",
    "    output, f_model = filtering(filter_ckpt_dir,data,e_spatial)\n",
    "    predict_tracks = build_graph(output, f_model,data, e_spatial, gnn_ckpt_dir,ckpt_idx,dbscan_epsilon, dbscan_minsamples)\n",
    "    evt_path = data.event_file\n",
    "    m_idx, pt, p_pt = track_eff(evt_path, predict_tracks,min_hits,frac_reco_matched, frac_truth_matched)\n",
    "    return m_idx, pt, p_pt "
   ]
  },
  {
   "cell_type": "code",
   "execution_count": 7,
   "metadata": {},
   "outputs": [
    {
     "name": "stdout",
     "output_type": "stream",
     "text": [
      " APPLYING GNN.....\n",
      "Loaded -1 checkpoint from /global/cfs/cdirs/m3443/data/lightning_models/gnn\n",
      "TRACK LABELLING.....\n"
     ]
    },
    {
     "name": "stderr",
     "output_type": "stream",
     "text": [
      "/global/homes/c/caditi97/.local/lib/python3.7/site-packages/sklearn/neighbors/_base.py:168: EfficiencyWarning: Precomputed sparse input was not sorted by data.\n",
      "  EfficiencyWarning)\n"
     ]
    },
    {
     "name": "stdout",
     "output_type": "stream",
     "text": [
      "----------\n",
      "Processed 0 events from /global/cfs/projectdirs/atlas/xju/heptrkx/trackml_inputs/train_all\n",
      "Reconstructable tracks:         8749\n",
      "Reconstructed tracks:           13504\n",
      "Reconstructable tracks Matched: 8005\n",
      "Tracking efficiency:            0.9150\n",
      "Tracking purity:               0.5928\n",
      "CPU times: user 23min 11s, sys: 5min 57s, total: 29min 9s\n",
      "Wall time: 1min 59s\n"
     ]
    }
   ],
   "source": [
    "%%time\n",
    "m0, p0, pp0 = calc_evts(\"/global/cfs/projectdirs/m3443/usr/caditi97/iml2020/layerless_check/n0/feature_store/1556\")"
   ]
  },
  {
   "cell_type": "code",
   "execution_count": 8,
   "metadata": {},
   "outputs": [
    {
     "name": "stdout",
     "output_type": "stream",
     "text": [
      " APPLYING GNN.....\n",
      "Loaded -1 checkpoint from /global/cfs/cdirs/m3443/data/lightning_models/gnn\n",
      "TRACK LABELLING.....\n"
     ]
    },
    {
     "name": "stderr",
     "output_type": "stream",
     "text": [
      "/global/homes/c/caditi97/.local/lib/python3.7/site-packages/sklearn/neighbors/_base.py:168: EfficiencyWarning: Precomputed sparse input was not sorted by data.\n",
      "  EfficiencyWarning)\n"
     ]
    },
    {
     "name": "stdout",
     "output_type": "stream",
     "text": [
      "----------\n",
      "Processed 0 events from /global/cfs/projectdirs/atlas/xju/heptrkx/trackml_inputs/train_all\n",
      "Reconstructable tracks:         8749\n",
      "Reconstructed tracks:           13749\n",
      "Reconstructable tracks Matched: 7969\n",
      "Tracking efficiency:            0.9108\n",
      "Tracking purity:               0.5796\n",
      "CPU times: user 26min 5s, sys: 6min 25s, total: 32min 30s\n",
      "Wall time: 1min 59s\n"
     ]
    }
   ],
   "source": [
    "%%time\n",
    "m02, p02, pp02 = calc_evts(\"/global/cfs/projectdirs/m3443/usr/caditi97/iml2020/layerless_check/n0.2/feature_store/1556\")"
   ]
  },
  {
   "cell_type": "code",
   "execution_count": 9,
   "metadata": {},
   "outputs": [
    {
     "name": "stdout",
     "output_type": "stream",
     "text": [
      " APPLYING GNN.....\n",
      "Loaded -1 checkpoint from /global/cfs/cdirs/m3443/data/lightning_models/gnn\n",
      "TRACK LABELLING.....\n"
     ]
    },
    {
     "name": "stderr",
     "output_type": "stream",
     "text": [
      "/global/homes/c/caditi97/.local/lib/python3.7/site-packages/sklearn/neighbors/_base.py:168: EfficiencyWarning: Precomputed sparse input was not sorted by data.\n",
      "  EfficiencyWarning)\n"
     ]
    },
    {
     "name": "stdout",
     "output_type": "stream",
     "text": [
      "----------\n",
      "Processed 0 events from /global/cfs/projectdirs/atlas/xju/heptrkx/trackml_inputs/train_all\n",
      "Reconstructable tracks:         8749\n",
      "Reconstructed tracks:           14015\n",
      "Reconstructable tracks Matched: 7956\n",
      "Tracking efficiency:            0.9094\n",
      "Tracking purity:               0.5677\n",
      "CPU times: user 27min 31s, sys: 6min 56s, total: 34min 27s\n",
      "Wall time: 2min 8s\n"
     ]
    }
   ],
   "source": [
    "%%time\n",
    "m04, p04, pp04 = calc_evts(\"/global/cfs/projectdirs/m3443/usr/caditi97/iml2020/layerless_check/n0.4/feature_store/1556\")"
   ]
  },
  {
   "cell_type": "code",
   "execution_count": 10,
   "metadata": {},
   "outputs": [
    {
     "name": "stdout",
     "output_type": "stream",
     "text": [
      " APPLYING GNN.....\n",
      "Loaded -1 checkpoint from /global/cfs/cdirs/m3443/data/lightning_models/gnn\n",
      "TRACK LABELLING.....\n"
     ]
    },
    {
     "name": "stderr",
     "output_type": "stream",
     "text": [
      "/global/homes/c/caditi97/.local/lib/python3.7/site-packages/sklearn/neighbors/_base.py:168: EfficiencyWarning: Precomputed sparse input was not sorted by data.\n",
      "  EfficiencyWarning)\n"
     ]
    },
    {
     "name": "stdout",
     "output_type": "stream",
     "text": [
      "----------\n",
      "Processed 0 events from /global/cfs/projectdirs/atlas/xju/heptrkx/trackml_inputs/train_all\n",
      "Reconstructable tracks:         8749\n",
      "Reconstructed tracks:           14157\n",
      "Reconstructable tracks Matched: 7912\n",
      "Tracking efficiency:            0.9043\n",
      "Tracking purity:               0.5589\n",
      "CPU times: user 30min 17s, sys: 7min 26s, total: 37min 44s\n",
      "Wall time: 2min 15s\n"
     ]
    }
   ],
   "source": [
    "%%time\n",
    "m06, p06, pp06 = calc_evts(\"/global/cfs/projectdirs/m3443/usr/caditi97/iml2020/layerless_check/n0.6/feature_store/1556\")"
   ]
  },
  {
   "cell_type": "code",
   "execution_count": 11,
   "metadata": {},
   "outputs": [
    {
     "name": "stdout",
     "output_type": "stream",
     "text": [
      " APPLYING GNN.....\n",
      "Loaded -1 checkpoint from /global/cfs/cdirs/m3443/data/lightning_models/gnn\n",
      "TRACK LABELLING.....\n"
     ]
    },
    {
     "name": "stderr",
     "output_type": "stream",
     "text": [
      "/global/homes/c/caditi97/.local/lib/python3.7/site-packages/sklearn/neighbors/_base.py:168: EfficiencyWarning: Precomputed sparse input was not sorted by data.\n",
      "  EfficiencyWarning)\n"
     ]
    },
    {
     "name": "stdout",
     "output_type": "stream",
     "text": [
      "----------\n",
      "Processed 0 events from /global/cfs/projectdirs/atlas/xju/heptrkx/trackml_inputs/train_all\n",
      "Reconstructable tracks:         8749\n",
      "Reconstructed tracks:           14416\n",
      "Reconstructable tracks Matched: 7893\n",
      "Tracking efficiency:            0.9022\n",
      "Tracking purity:               0.5475\n",
      "CPU times: user 30min 23s, sys: 7min 55s, total: 38min 19s\n",
      "Wall time: 2min 32s\n"
     ]
    }
   ],
   "source": [
    "%%time\n",
    "m08, p08, pp08 = calc_evts(\"/global/cfs/projectdirs/m3443/usr/caditi97/iml2020/layerless_check/n0.8/feature_store/1556\")"
   ]
  },
  {
   "cell_type": "code",
   "execution_count": 12,
   "metadata": {},
   "outputs": [
    {
     "name": "stdout",
     "output_type": "stream",
     "text": [
      " APPLYING GNN.....\n",
      "Loaded -1 checkpoint from /global/cfs/cdirs/m3443/data/lightning_models/gnn\n",
      "TRACK LABELLING.....\n"
     ]
    },
    {
     "name": "stderr",
     "output_type": "stream",
     "text": [
      "/global/homes/c/caditi97/.local/lib/python3.7/site-packages/sklearn/neighbors/_base.py:168: EfficiencyWarning: Precomputed sparse input was not sorted by data.\n",
      "  EfficiencyWarning)\n"
     ]
    },
    {
     "name": "stdout",
     "output_type": "stream",
     "text": [
      "----------\n",
      "Processed 0 events from /global/cfs/projectdirs/atlas/xju/heptrkx/trackml_inputs/train_all\n",
      "Reconstructable tracks:         8749\n",
      "Reconstructed tracks:           14600\n",
      "Reconstructable tracks Matched: 7866\n",
      "Tracking efficiency:            0.8991\n",
      "Tracking purity:               0.5388\n",
      "CPU times: user 32min 41s, sys: 8min 24s, total: 41min 6s\n",
      "Wall time: 2min 39s\n"
     ]
    }
   ],
   "source": [
    "%%time\n",
    "m1, p1, pp1 = calc_evts(\"/global/cfs/projectdirs/m3443/usr/caditi97/iml2020/layerless_check/n1/feature_store/1556\")"
   ]
  },
  {
   "cell_type": "code",
   "execution_count": 13,
   "metadata": {},
   "outputs": [],
   "source": [
    "import math\n",
    "def get_ratio(x_vals, y_vals):\n",
    "    res = [x/y if y!=0 else 0.0 for x,y in zip(x_vals, y_vals)]\n",
    "    err = [x/y * math.sqrt((x+y)/(x*y)) if y!=0 and x!=0 else 0.0 for x,y in zip(x_vals, y_vals)]\n",
    "    return res[1:], err[1:]"
   ]
  },
  {
   "cell_type": "code",
   "execution_count": 14,
   "metadata": {},
   "outputs": [],
   "source": [
    "def pairwise(iterable):\n",
    "  \"\"\"s -> (s0,s1), (s1,s2), (s2, s3), ...\"\"\"\n",
    "  a, b = itertools.tee(iterable)\n",
    "  next(b, None)\n",
    "  return zip(a, b)"
   ]
  },
  {
   "cell_type": "code",
   "execution_count": 15,
   "metadata": {},
   "outputs": [],
   "source": [
    "# _, ax1 = plt.subplots(figsize=(6,6))\n",
    "# m_vals, bins, _ = ax1.hist(pp0[m0], **pt_configs, label=\"Matched\")\n",
    "# n_vals, _, _ = ax1.hist(pp0, **pt_configs, label=\"Reconstructable\")\n",
    "# ax1.set_xlabel(\"pT [GeV]\")\n",
    "# ax1.set_ylabel(\"Events\")\n",
    "# plt.legend()"
   ]
  },
  {
   "cell_type": "code",
   "execution_count": 16,
   "metadata": {},
   "outputs": [],
   "source": [
    "def get_bins(x,y, config):\n",
    "    _, ax = plt.subplots(figsize=(6,6))\n",
    "    m_vals, bins, _ = ax.hist(x, **config, label=\"Matched\")\n",
    "    n_vals, _, _ = ax.hist(y, **config, label=\"Reconstructable\")\n",
    "    return m_vals,bins,n_vals"
   ]
  },
  {
   "cell_type": "code",
   "execution_count": 17,
   "metadata": {},
   "outputs": [],
   "source": [
    "def get_vals(m_vals,bins,n_vals):\n",
    "    ratio, ratio_err = get_ratio(m_vals, n_vals)\n",
    "    xvals = [0.5*(x[1]+x[0]) for x in pairwise(bins)][1:]\n",
    "    xerrs = [0.5*(x[1]-x[0]) for x in pairwise(bins)][1:]\n",
    "    return xvals,xerrs,ratio"
   ]
  },
  {
   "cell_type": "code",
   "execution_count": 18,
   "metadata": {},
   "outputs": [],
   "source": [
    "def plot_vals(ax,x,y,config,n,xlabel=\"pT [GeV]\"):\n",
    "    m_vals,bins,n_vals = get_bins(x,y, config)\n",
    "    xvals,xerrs,ratio = get_vals(m_vals,bins,n_vals)\n",
    "    ax.errorbar(xvals, ratio, yerr=ratio_err, fmt='o', xerr=xerrs, lw=2)\n",
    "    ax.set_xlabel(xlabel)\n",
    "    ax.set_ylabel('Track efficiency')\n",
    "    ax.set_yticks(np.arange(0.5, 1.05, step=0.05))\n",
    "    ax.set_ylim(0.5, 1.05)\n",
    "    plt.grid(True)"
   ]
  },
  {
   "cell_type": "code",
   "execution_count": 19,
   "metadata": {},
   "outputs": [
    {
     "ename": "NameError",
     "evalue": "name 'ratio_err' is not defined",
     "output_type": "error",
     "traceback": [
      "\u001b[0;31m---------------------------------------------------------------------------\u001b[0m",
      "\u001b[0;31mNameError\u001b[0m                                 Traceback (most recent call last)",
      "\u001b[0;32m<ipython-input-19-e3340b4436d3>\u001b[0m in \u001b[0;36m<module>\u001b[0;34m\u001b[0m\n\u001b[1;32m      1\u001b[0m \u001b[0mfig\u001b[0m\u001b[0;34m,\u001b[0m \u001b[0max2\u001b[0m \u001b[0;34m=\u001b[0m \u001b[0mplt\u001b[0m\u001b[0;34m.\u001b[0m\u001b[0msubplots\u001b[0m\u001b[0;34m(\u001b[0m\u001b[0mfigsize\u001b[0m\u001b[0;34m=\u001b[0m\u001b[0;34m(\u001b[0m\u001b[0;36m13\u001b[0m\u001b[0;34m,\u001b[0m\u001b[0;36m13\u001b[0m\u001b[0;34m)\u001b[0m\u001b[0;34m)\u001b[0m\u001b[0;34m\u001b[0m\u001b[0;34m\u001b[0m\u001b[0m\n\u001b[1;32m      2\u001b[0m \u001b[0;34m\u001b[0m\u001b[0m\n\u001b[0;32m----> 3\u001b[0;31m \u001b[0mplot_vals\u001b[0m\u001b[0;34m(\u001b[0m\u001b[0max2\u001b[0m\u001b[0;34m,\u001b[0m\u001b[0mpp0\u001b[0m\u001b[0;34m[\u001b[0m\u001b[0mm0\u001b[0m\u001b[0;34m]\u001b[0m\u001b[0;34m,\u001b[0m\u001b[0mpp0\u001b[0m\u001b[0;34m,\u001b[0m\u001b[0mpt_configs\u001b[0m\u001b[0;34m,\u001b[0m\u001b[0;34m'0'\u001b[0m\u001b[0;34m)\u001b[0m\u001b[0;34m\u001b[0m\u001b[0;34m\u001b[0m\u001b[0m\n\u001b[0m\u001b[1;32m      4\u001b[0m \u001b[0mplot_vals\u001b[0m\u001b[0;34m(\u001b[0m\u001b[0max2\u001b[0m\u001b[0;34m,\u001b[0m\u001b[0mpp02\u001b[0m\u001b[0;34m[\u001b[0m\u001b[0mm02\u001b[0m\u001b[0;34m]\u001b[0m\u001b[0;34m,\u001b[0m\u001b[0mpp02\u001b[0m\u001b[0;34m,\u001b[0m\u001b[0mpt_configs\u001b[0m\u001b[0;34m,\u001b[0m\u001b[0;34m'0.2'\u001b[0m\u001b[0;34m)\u001b[0m\u001b[0;34m\u001b[0m\u001b[0;34m\u001b[0m\u001b[0m\n\u001b[1;32m      5\u001b[0m \u001b[0mplot_vals\u001b[0m\u001b[0;34m(\u001b[0m\u001b[0max2\u001b[0m\u001b[0;34m,\u001b[0m\u001b[0mpp04\u001b[0m\u001b[0;34m[\u001b[0m\u001b[0mm04\u001b[0m\u001b[0;34m]\u001b[0m\u001b[0;34m,\u001b[0m\u001b[0mpp04\u001b[0m\u001b[0;34m,\u001b[0m\u001b[0mpt_configs\u001b[0m\u001b[0;34m,\u001b[0m\u001b[0;34m'0.4'\u001b[0m\u001b[0;34m)\u001b[0m\u001b[0;34m\u001b[0m\u001b[0;34m\u001b[0m\u001b[0m\n",
      "\u001b[0;32m<ipython-input-18-50b2937f714b>\u001b[0m in \u001b[0;36mplot_vals\u001b[0;34m(ax, x, y, config, n, xlabel)\u001b[0m\n\u001b[1;32m      2\u001b[0m     \u001b[0mm_vals\u001b[0m\u001b[0;34m,\u001b[0m\u001b[0mbins\u001b[0m\u001b[0;34m,\u001b[0m\u001b[0mn_vals\u001b[0m \u001b[0;34m=\u001b[0m \u001b[0mget_bins\u001b[0m\u001b[0;34m(\u001b[0m\u001b[0mx\u001b[0m\u001b[0;34m,\u001b[0m\u001b[0my\u001b[0m\u001b[0;34m,\u001b[0m \u001b[0mconfig\u001b[0m\u001b[0;34m)\u001b[0m\u001b[0;34m\u001b[0m\u001b[0;34m\u001b[0m\u001b[0m\n\u001b[1;32m      3\u001b[0m     \u001b[0mxvals\u001b[0m\u001b[0;34m,\u001b[0m\u001b[0mxerrs\u001b[0m\u001b[0;34m,\u001b[0m\u001b[0mratio\u001b[0m \u001b[0;34m=\u001b[0m \u001b[0mget_vals\u001b[0m\u001b[0;34m(\u001b[0m\u001b[0mm_vals\u001b[0m\u001b[0;34m,\u001b[0m\u001b[0mbins\u001b[0m\u001b[0;34m,\u001b[0m\u001b[0mn_vals\u001b[0m\u001b[0;34m)\u001b[0m\u001b[0;34m\u001b[0m\u001b[0;34m\u001b[0m\u001b[0m\n\u001b[0;32m----> 4\u001b[0;31m     \u001b[0max\u001b[0m\u001b[0;34m.\u001b[0m\u001b[0merrorbar\u001b[0m\u001b[0;34m(\u001b[0m\u001b[0mxvals\u001b[0m\u001b[0;34m,\u001b[0m \u001b[0mratio\u001b[0m\u001b[0;34m,\u001b[0m \u001b[0myerr\u001b[0m\u001b[0;34m=\u001b[0m\u001b[0mratio_err\u001b[0m\u001b[0;34m,\u001b[0m \u001b[0mfmt\u001b[0m\u001b[0;34m=\u001b[0m\u001b[0;34m'o'\u001b[0m\u001b[0;34m,\u001b[0m \u001b[0mxerr\u001b[0m\u001b[0;34m=\u001b[0m\u001b[0mxerrs\u001b[0m\u001b[0;34m,\u001b[0m \u001b[0mlw\u001b[0m\u001b[0;34m=\u001b[0m\u001b[0;36m2\u001b[0m\u001b[0;34m)\u001b[0m\u001b[0;34m\u001b[0m\u001b[0;34m\u001b[0m\u001b[0m\n\u001b[0m\u001b[1;32m      5\u001b[0m     \u001b[0max\u001b[0m\u001b[0;34m.\u001b[0m\u001b[0mset_xlabel\u001b[0m\u001b[0;34m(\u001b[0m\u001b[0mxlabel\u001b[0m\u001b[0;34m)\u001b[0m\u001b[0;34m\u001b[0m\u001b[0;34m\u001b[0m\u001b[0m\n\u001b[1;32m      6\u001b[0m     \u001b[0max\u001b[0m\u001b[0;34m.\u001b[0m\u001b[0mset_ylabel\u001b[0m\u001b[0;34m(\u001b[0m\u001b[0;34m'Track efficiency'\u001b[0m\u001b[0;34m)\u001b[0m\u001b[0;34m\u001b[0m\u001b[0;34m\u001b[0m\u001b[0m\n",
      "\u001b[0;31mNameError\u001b[0m: name 'ratio_err' is not defined"
     ]
    },
    {
     "data": {
      "image/png": "[encoded data removed]",
      "text/plain": [
       "<Figure size 936x936 with 1 Axes>"
      ]
     },
     "metadata": {
      "needs_background": "light"
     },
     "output_type": "display_data"
    },
    {
     "data": {
      "image/png": "[encoded data removed]",
      "text/plain": [
       "<Figure size 432x432 with 1 Axes>"
      ]
     },
     "metadata": {
      "needs_background": "light"
     },
     "output_type": "display_data"
    }
   ],
   "source": [
    "fig, ax2 = plt.subplots(figsize=(13,13))\n",
    "\n",
    "plot_vals(ax2,pp0[m0],pp0,pt_configs,'0')\n",
    "plot_vals(ax2,pp02[m02],pp02,pt_configs,'0.2')\n",
    "plot_vals(ax2,pp04[m04],pp04,pt_configs,'0.4')\n",
    "plot_vals(ax2,pp06[m06],pp06,pt_configs,'0.6')\n",
    "plot_vals(ax2,pp08[m08],pp08,pt_configs,'0.8')\n",
    "plot_vals(ax2,pp1[m1],pp1,pt_configs,'1')\n",
    "\n",
    "plt.legend()\n",
    "plt.show()"
   ]
  },
  {
   "cell_type": "code",
   "execution_count": null,
   "metadata": {},
   "outputs": [],
   "source": [
    "# _, ax3 = plt.subplots(figsize=(13,13))\n",
    "\n",
    "# plot_vals(ax3,p0[m0],p0,eta_configs,'0',r\"$\\eta$\")\n",
    "# plot_vals(ax3,p02[m02],p02,eta_configs,'0.2',r\"$\\eta$\")\n",
    "# plot_vals(ax3,p04[m04],p04,eta_configs,'0.4',r\"$\\eta$\")\n",
    "# plot_vals(ax3,p06[m06],p06,eta_configs,'0.6',r\"$\\eta$\")\n",
    "# plot_vals(ax3,p08[m08],p08,eta_configs,'0.8',r\"$\\eta$\")\n",
    "# plot_vals(ax3,p1[m1],p1,eta_configs,'1',r\"$\\eta$\")\n"
   ]
  },
  {
   "cell_type": "code",
   "execution_count": null,
   "metadata": {},
   "outputs": [],
   "source": []
  }
 ],
 "metadata": {
  "kernelspec": {
   "display_name": "exatrkx-iml",
   "language": "python",
   "name": "exatrkx-iml"
  },
  "language_info": {
   "codemirror_mode": {
    "name": "ipython",
    "version": 3
   },
   "file_extension": ".py",
   "mimetype": "text/x-python",
   "name": "python",
   "nbconvert_exporter": "python",
   "pygments_lexer": "ipython3",
   "version": "3.7.6"
  }
 },
 "nbformat": 4,
 "nbformat_minor": 4
}
