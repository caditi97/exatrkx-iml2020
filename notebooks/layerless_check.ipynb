{
 "cells": [
  {
   "cell_type": "code",
   "execution_count": 1,
   "metadata": {},
   "outputs": [],
   "source": [
    "import os\n",
    "os.environ['TRKXINPUTDIR']=\"/global/cfs/cdirs/m3443/data/trackml-kaggle/train_10evts\"\n",
    "os.environ['TRKXOUTPUTDIR']= \"/global/cfs/projectdirs/m3443/usr/caditi97/iml2020/layerless_check/n1\""
   ]
  },
  {
   "cell_type": "code",
   "execution_count": 2,
   "metadata": {},
   "outputs": [],
   "source": [
    "import pkg_resources\n",
    "import yaml\n",
    "import pprint\n",
    "import random\n",
    "random.seed(1234)\n",
    "import numpy as np\n",
    "import pandas as pd\n",
    "import itertools\n",
    "import matplotlib.pyplot as plt\n",
    "import tqdm\n",
    "from os import listdir\n",
    "from os.path import isfile, join\n",
    "import matplotlib.cm as cm\n",
    "import sys\n",
    "# %matplotlib widget\n",
    "\n",
    "sys.path.append('/global/homes/c/caditi97/exatrkx-iml2020/exatrkx/src/')\n",
    "\n",
    "# 3rd party\n",
    "import torch\n",
    "import torch.nn.functional as F\n",
    "from torch_geometric.data import Data\n",
    "from trackml.dataset import load_event\n",
    "from pytorch_lightning import Trainer\n",
    "from pytorch_lightning.callbacks import ModelCheckpoint\n",
    "\n",
    "\n",
    "# local import\n",
    "from exatrkx import config_dict # for accessing predefined configuration files\n",
    "from exatrkx import outdir_dict # for accessing predefined output directories\n",
    "from exatrkx.src import utils_dir\n",
    "from exatrkx.src import utils_robust\n",
    "from utils_robust import *\n",
    "\n",
    "\n",
    "# for preprocessing\n",
    "from exatrkx import FeatureStore\n",
    "from exatrkx.src import utils_torch\n",
    "\n",
    "# for embedding\n",
    "from exatrkx import LayerlessEmbedding\n",
    "from exatrkx.src import utils_torch\n",
    "from torch_cluster import radius_graph\n",
    "from utils_torch import build_edges\n",
    "from embedding.embedding_base import *\n",
    "\n",
    "# for filtering\n",
    "from exatrkx import VanillaFilter\n",
    "\n",
    "# for GNN\n",
    "import tensorflow as tf\n",
    "from graph_nets import utils_tf\n",
    "from exatrkx import SegmentClassifier\n",
    "import sonnet as snt\n",
    "\n",
    "# for labeling\n",
    "from exatrkx.scripts.tracks_from_gnn import prepare as prepare_labeling\n",
    "from exatrkx.scripts.tracks_from_gnn import clustering as dbscan_clustering\n",
    "\n",
    "# track efficiency\n",
    "from trackml.score import _analyze_tracks\n",
    "from exatrkx.scripts.eval_reco_trkx import make_cmp_plot, pt_configs, eta_configs\n",
    "from functools import partial"
   ]
  },
  {
   "cell_type": "code",
   "execution_count": 3,
   "metadata": {},
   "outputs": [],
   "source": [
    "# embed_ckpt_dir = '/global/cfs/cdirs/m3443/data/lightning_models/embedding/checkpoints/epoch=10.ckpt'\n",
    "# filter_ckpt_dir = '/global/cfs/cdirs/m3443/data/lightning_models/filtering/checkpoints/epoch=92.ckpt'\n",
    "# gnn_ckpt_dir = '/global/cfs/cdirs/m3443/data/lightning_models/gnn'\n",
    "# plots_dir = '/global/homes/c/caditi97/exatrkx-iml2020/exatrkx/src/plots/noise1' # needs to change...\n",
    "# ckpt_idx = -1 # which GNN checkpoint to load\n",
    "# dbscan_epsilon, dbscan_minsamples = 0.25, 2 # hyperparameters for DBScan\n",
    "# min_hits = 5 # minimum number of hits associated with a particle to define \"reconstructable particles\"\n",
    "# frac_reco_matched, frac_truth_matched = 0.5, 0.5 # parameters for track matching\n",
    "# evtid = 1000\n",
    "# event_file = os.path.join(utils_dir.inputdir, 'event{:09}'.format(evtid))"
   ]
  },
  {
   "cell_type": "code",
   "execution_count": 4,
   "metadata": {},
   "outputs": [],
   "source": [
    "action = 'build'\n",
    "\n",
    "config_file = pkg_resources.resource_filename(\n",
    "                    \"exatrkx\",\n",
    "                    os.path.join('configs', config_dict[action]))\n",
    "with open(config_file) as f:\n",
    "    b_config = yaml.load(f, Loader=yaml.FullLoader)\n",
    "    \n",
    "pp = pprint.PrettyPrinter(indent=4)"
   ]
  },
  {
   "cell_type": "code",
   "execution_count": 5,
   "metadata": {},
   "outputs": [
    {
     "name": "stdout",
     "output_type": "stream",
     "text": [
      "{   'adjacent': True,\n",
      "    'cell_information': True,\n",
      "    'endcaps': True,\n",
      "    'layerless': True,\n",
      "    'layerwise': False,\n",
      "    'n_files': 1,\n",
      "    'n_tasks': 1,\n",
      "    'n_workers': 1,\n",
      "    'noise': 1,\n",
      "    'pt_min': 0}\n"
     ]
    }
   ],
   "source": [
    "b_config['pt_min'] = 0\n",
    "b_config['endcaps'] = True\n",
    "b_config['n_workers'] = 1\n",
    "b_config['n_files'] = 1\n",
    "b_config['noise'] = 1\n",
    "pp.pprint(b_config)"
   ]
  },
  {
   "cell_type": "code",
   "execution_count": 6,
   "metadata": {},
   "outputs": [
    {
     "name": "stdout",
     "output_type": "stream",
     "text": [
      "Loading detector...\n",
      "Detector loaded.\n",
      "Writing outputs to /global/cfs/projectdirs/m3443/usr/caditi97/iml2020/layerless_check/n1/feature_store\n",
      "Preparing 1000\n",
      "adding 1% noise\n",
      "Layerless truth graph built for /global/cfs/cdirs/m3443/data/trackml-kaggle/train_10evts/event000001000 with size (2, 123429)\n",
      "Cell features for 1000\n",
      "Loading event /global/cfs/cdirs/m3443/data/trackml-kaggle/train_10evts/event000001000 with a 0 pT cut\n",
      "Writing to  /global/cfs/projectdirs/m3443/usr/caditi97/iml2020/layerless_check/n1/feature_store/1000\n"
     ]
    }
   ],
   "source": [
    "# this cell is only needed for the first run to prodcue the dataset\n",
    "preprocess_dm = FeatureStore(b_config)\n",
    "preprocess_dm.prepare_data()"
   ]
  },
  {
   "cell_type": "code",
   "execution_count": 7,
   "metadata": {},
   "outputs": [],
   "source": [
    "def plot_noise_dist(noise_keeps):\n",
    "    noise = []\n",
    "    not_noise = []\n",
    "    for i in noise_keeps:\n",
    "        data_path = f\"/global/cfs/projectdirs/m3443/usr/caditi97/iml2020/layerless_check/n{i}/feature_store/1000\"\n",
    "        #data = torch.load(f\"/global/cfs/projectdirs/m3443/usr/caditi97/iml2020/feature_store_endcaps/n{i}/1000\")\n",
    "        data = torch.load(data_path)\n",
    "        arr = data['pid']\n",
    "        n_count = np.count_nonzero(arr==0)\n",
    "        not_n = np.count_nonzero(arr)\n",
    "        noise.append(n_count)\n",
    "        not_noise.append(not_n)\n",
    "        print(\"-----\")\n",
    "        print(data)\n",
    "\n",
    "    x = np.arange(len(noise_keeps))  # the label locations\n",
    "    width = 0.35  # the width of the bars\n",
    "\n",
    "    fig, ax = plt.subplots(figsize=(10,5))\n",
    "    rects1 = ax.bar(x - width/2, noise, width, label='noise')\n",
    "    rects2 = ax.bar(x + width/2, not_noise, width, label='not noise')\n",
    "\n",
    "    # Add some text for labels, title and custom x-axis tick labels, etc.\n",
    "    ax.set_ylabel('# of hits')\n",
    "    ax.set_xlabel('keep')\n",
    "    ax.set_xticks(x)\n",
    "    labels = noise_keeps\n",
    "    ax.set_xticklabels(labels)\n",
    "    ax.legend()\n",
    "    \n",
    "    fig2, ax2 = plt.subplots(figsize=(10,5))\n",
    "    ax2.plot(x,noise, label='noise')\n",
    "    ax2.set_ylabel('# of hits')\n",
    "    ax2.set_xlabel('keep')\n",
    "    ax2.set_xticks(x)\n",
    "    labels = noise_keeps\n",
    "    ax2.set_xticklabels(labels)\n",
    "    ax2.legend()\n",
    "    \n",
    "    fig3, ax3 = plt.subplots(figsize=(10,5))\n",
    "    ax3.plot(x,not_noise, label='not noise')\n",
    "    ax3.set_ylabel('# of hits')\n",
    "    ax3.set_xlabel('keep')\n",
    "    ax3.set_xticks(x)\n",
    "    labels = noise_keeps\n",
    "    ax3.set_xticklabels(labels)\n",
    "    ax3.legend()"
   ]
  },
  {
   "cell_type": "code",
   "execution_count": 8,
   "metadata": {},
   "outputs": [
    {
     "name": "stdout",
     "output_type": "stream",
     "text": [
      "-----\n",
      "Data(cell_data=[103305, 9], event_file=\"/global/cfs/cdirs/m3443/data/trackml-kaggle/train_10evts/event000001000\", hid=[103305], layerless_true_edges=[2, 123429], layers=[103305], pid=[103305], x=[103305, 3])\n",
      "-----\n",
      "Data(cell_data=[106831, 9], event_file=\"/global/cfs/cdirs/m3443/data/trackml-kaggle/train_10evts/event000001000\", hid=[106831], layerless_true_edges=[2, 123429], layers=[103305], pid=[106831], x=[106831, 3])\n",
      "-----\n",
      "Data(cell_data=[110358, 9], event_file=\"/global/cfs/cdirs/m3443/data/trackml-kaggle/train_10evts/event000001000\", hid=[110358], layerless_true_edges=[2, 123429], layers=[103305], pid=[110358], x=[110358, 3])\n",
      "-----\n",
      "Data(cell_data=[113885, 9], event_file=\"/global/cfs/cdirs/m3443/data/trackml-kaggle/train_10evts/event000001000\", hid=[113885], layerless_true_edges=[2, 123429], layers=[103305], pid=[113885], x=[113885, 3])\n",
      "-----\n",
      "Data(cell_data=[117412, 9], event_file=\"/global/cfs/cdirs/m3443/data/trackml-kaggle/train_10evts/event000001000\", hid=[117412], layerless_true_edges=[2, 123429], layers=[103305], pid=[117412], x=[117412, 3])\n",
      "-----\n",
      "Data(cell_data=[120939, 9], event_file=\"/global/cfs/cdirs/m3443/data/trackml-kaggle/train_10evts/event000001000\", hid=[120939], layerless_true_edges=[2, 123429], layers=[103305], pid=[120939], x=[120939, 3])\n"
     ]
    },
    {
     "data": {
      "image/png": "[encoded data removed]",
      "text/plain": [
       "<Figure size 720x360 with 1 Axes>"
      ]
     },
     "metadata": {
      "needs_background": "light"
     },
     "output_type": "display_data"
    },
    {
     "data": {
      "image/png": "[encoded data removed]",
      "text/plain": [
       "<Figure size 720x360 with 1 Axes>"
      ]
     },
     "metadata": {
      "needs_background": "light"
     },
     "output_type": "display_data"
    },
    {
     "data": {
      "image/png": "[encoded data removed]",
      "text/plain": [
       "<Figure size 720x360 with 1 Axes>"
      ]
     },
     "metadata": {
      "needs_background": "light"
     },
     "output_type": "display_data"
    }
   ],
   "source": [
    "noise_keep = [\"0\", \"0.2\", \"0.4\", \"0.6\", \"0.8\", \"1\"]\n",
    "#  \"0.4\", \"0.6\", \"0.8\", \"1\"\n",
    "plot_noise_dist(noise_keep)"
   ]
  },
  {
   "cell_type": "code",
   "execution_count": 9,
   "metadata": {},
   "outputs": [],
   "source": [
    "embed_ckpt_dir = '/global/cfs/cdirs/m3443/data/lightning_models/embedding/checkpoints/epoch=10.ckpt'\n",
    "filter_ckpt_dir = '/global/cfs/cdirs/m3443/data/lightning_models/filtering/checkpoints/epoch=92.ckpt'\n",
    "gnn_ckpt_dir = '/global/cfs/cdirs/m3443/data/lightning_models/gnn'\n",
    "plots_dir = '/global/homes/c/caditi97/exatrkx-iml2020/exatrkx/src/plots/run' # needs to change..."
   ]
  },
  {
   "cell_type": "code",
   "execution_count": 10,
   "metadata": {},
   "outputs": [],
   "source": [
    "ckpt_idx = -1 # which GNN checkpoint to load\n",
    "dbscan_epsilon, dbscan_minsamples = 0.25, 2 # hyperparameters for DBScan\n",
    "min_hits = 5 # minimum number of hits associated with a particle to define \"reconstructable particles\"\n",
    "frac_reco_matched, frac_truth_matched = 0.5, 0.5 # parameters for track matching"
   ]
  },
  {
   "cell_type": "code",
   "execution_count": 11,
   "metadata": {},
   "outputs": [
    {
     "data": {
      "text/plain": [
       "\"adjacent\":       False\n",
       "\"clustering\":     build_edges\n",
       "\"emb_dim\":        8\n",
       "\"emb_hidden\":     512\n",
       "\"endcaps\":        True\n",
       "\"factor\":         0.3\n",
       "\"in_channels\":    12\n",
       "\"input_dir\":      /global/cscratch1/sd/danieltm/ExaTrkX/trackml/feature_store_endcaps\n",
       "\"knn\":            20\n",
       "\"knn_val\":        500\n",
       "\"layerless\":      True\n",
       "\"layerwise\":      False\n",
       "\"lr\":             0.002\n",
       "\"margin\":         1\n",
       "\"max_epochs\":     100\n",
       "\"nb_layer\":       6\n",
       "\"noise\":          False\n",
       "\"output_dir\":     global/cscratch1/sd/danieltm/ExaTrkX/trackml_processed/embedding_processed/0_pt_cut_endcaps\n",
       "\"overwrite\":      True\n",
       "\"patience\":       5\n",
       "\"project\":        EmbeddingStudy\n",
       "\"pt_min\":         0\n",
       "\"r_train\":        1\n",
       "\"r_val\":          1.7\n",
       "\"randomisation\":  2\n",
       "\"regime\":         ['rp', 'hnm', 'ci']\n",
       "\"train_split\":    [8, 1, 1]\n",
       "\"wandb_save_dir\": /global/cscratch1/sd/danieltm/ExaTrkX/wandb_data\n",
       "\"warmup\":         500\n",
       "\"weight\":         4"
      ]
     },
     "execution_count": 11,
     "metadata": {},
     "output_type": "execute_result"
    }
   ],
   "source": [
    "emb_ckpt = torch.load(embed_ckpt_dir, map_location='cpu')\n",
    "emb_ckpt['hyper_parameters']['train_split'] = [8,1,1]\n",
    "emb_ckpt['hyper_parameters']['clustering'] = 'build_edges'\n",
    "emb_ckpt['hyper_parameters']['knn_val'] = 500\n",
    "emb_ckpt['hyper_parameters']['r_val'] = 1.7\n",
    "emb_ckpt['hyper_parameters']"
   ]
  },
  {
   "cell_type": "code",
   "execution_count": 12,
   "metadata": {},
   "outputs": [
    {
     "data": {
      "text/plain": [
       "<All keys matched successfully>"
      ]
     },
     "execution_count": 12,
     "metadata": {},
     "output_type": "execute_result"
    }
   ],
   "source": [
    "emb_model = LayerlessEmbedding(emb_ckpt['hyper_parameters'])\n",
    "emb_model.load_state_dict(emb_ckpt[\"state_dict\"])"
   ]
  },
  {
   "cell_type": "code",
   "execution_count": 13,
   "metadata": {},
   "outputs": [
    {
     "data": {
      "text/plain": [
       "LayerlessEmbedding(\n",
       "  (layers): ModuleList(\n",
       "    (0): Linear(in_features=12, out_features=512, bias=True)\n",
       "    (1): Linear(in_features=512, out_features=512, bias=True)\n",
       "    (2): Linear(in_features=512, out_features=512, bias=True)\n",
       "    (3): Linear(in_features=512, out_features=512, bias=True)\n",
       "    (4): Linear(in_features=512, out_features=512, bias=True)\n",
       "    (5): Linear(in_features=512, out_features=512, bias=True)\n",
       "  )\n",
       "  (emb_layer): Linear(in_features=512, out_features=8, bias=True)\n",
       "  (norm): LayerNorm((512,), eps=1e-05, elementwise_affine=True)\n",
       "  (act): Tanh()\n",
       ")"
      ]
     },
     "execution_count": 13,
     "metadata": {},
     "output_type": "execute_result"
    }
   ],
   "source": [
    "emb_model.eval()"
   ]
  },
  {
   "cell_type": "code",
   "execution_count": 14,
   "metadata": {},
   "outputs": [
    {
     "name": "stdout",
     "output_type": "stream",
     "text": [
      "-----------\n",
      "cluster true = 123429\n",
      "cluste true positive = 120268\n",
      "cluster positive = 10048704\n",
      "purity = 0.011968508575832267\n",
      "efficiency = 0.9743901352194378\n",
      "-----------\n",
      "cluster true = 123429\n",
      "cluste true positive = 120226\n",
      "cluster positive = 10910856\n",
      "purity = 0.011018933803177313\n",
      "efficiency = 0.9740498586231761\n",
      "-----------\n",
      "cluster true = 123429\n",
      "cluste true positive = 120174\n",
      "cluster positive = 11804915\n",
      "purity = 0.01017999706054639\n",
      "efficiency = 0.9736285637897091\n",
      "-----------\n",
      "cluster true = 123429\n",
      "cluste true positive = 120117\n",
      "cluster positive = 12707873\n",
      "purity = 0.009452171893754368\n",
      "efficiency = 0.9731667598376395\n",
      "-----------\n",
      "cluster true = 123429\n",
      "cluste true positive = 120048\n",
      "cluster positive = 13663797\n",
      "purity = 0.008785844813121857\n",
      "efficiency = 0.9726077340009236\n",
      "-----------\n",
      "cluster true = 123429\n",
      "cluste true positive = 119986\n",
      "cluster positive = 14602296\n",
      "purity = 0.008216926981893807\n",
      "efficiency = 0.9721054209302514\n",
      "CPU times: user 44.4 s, sys: 19.2 s, total: 1min 3s\n",
      "Wall time: 45.9 s\n"
     ]
    }
   ],
   "source": [
    "%%time\n",
    "p_all = []\n",
    "e_all = []\n",
    "for i in noise_keep:\n",
    "    data_path = f'/global/cfs/projectdirs/m3443/usr/caditi97/iml2020/layerless_check/n{i}/feature_store/1000'\n",
    "    p, e = get_emb_metrics(data_path, emb_model)\n",
    "    p_all.append(p)\n",
    "    e_all.append(e)"
   ]
  },
  {
   "cell_type": "code",
   "execution_count": 15,
   "metadata": {},
   "outputs": [
    {
     "data": {
      "text/plain": [
       "<matplotlib.legend.Legend at 0x2aab8cd00e90>"
      ]
     },
     "execution_count": 15,
     "metadata": {},
     "output_type": "execute_result"
    },
    {
     "data": {
      "image/png": "[encoded data removed]",
      "text/plain": [
       "<Figure size 1080x504 with 2 Axes>"
      ]
     },
     "metadata": {
      "needs_background": "light"
     },
     "output_type": "display_data"
    }
   ],
   "source": [
    "x = np.arange(len(noise_keep))\n",
    "fig1, (ax11,ax22) = plt.subplots(1,2, figsize=(15,7))\n",
    "fig1.suptitle('Evt 1000')\n",
    "fig1.tight_layout(w_pad = 10)\n",
    "ax11.plot(x, p_all, label = 'True Positive / Positive')\n",
    "ax11.set_xlabel('noise_level')\n",
    "ax11.set_ylabel('Purity')\n",
    "ax11.set_xticks(x)\n",
    "ax11.set_xticklabels(noise_keep)\n",
    "ax11.legend()\n",
    "\n",
    "ax22.plot(x, e_all, label = 'True Positive / True')\n",
    "ax22.set_xlabel('noise_level')\n",
    "ax22.set_ylabel('Efficiency')\n",
    "ax22.set_xticks(x)\n",
    "ax22.set_xticklabels(noise_keep)\n",
    "ax22.legend()"
   ]
  },
  {
   "cell_type": "code",
   "execution_count": null,
   "metadata": {},
   "outputs": [],
   "source": []
  },
  {
   "cell_type": "code",
   "execution_count": null,
   "metadata": {},
   "outputs": [],
   "source": []
  },
  {
   "cell_type": "code",
   "execution_count": null,
   "metadata": {},
   "outputs": [],
   "source": []
  }
 ],
 "metadata": {
  "kernelspec": {
   "display_name": "exatrkx-iml",
   "language": "python",
   "name": "exatrkx-iml"
  },
  "language_info": {
   "codemirror_mode": {
    "name": "ipython",
    "version": 3
   },
   "file_extension": ".py",
   "mimetype": "text/x-python",
   "name": "python",
   "nbconvert_exporter": "python",
   "pygments_lexer": "ipython3",
   "version": "3.7.6"
  }
 },
 "nbformat": 4,
 "nbformat_minor": 4
}
