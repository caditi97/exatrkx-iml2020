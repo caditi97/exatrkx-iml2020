{
 "cells": [
  {
   "cell_type": "code",
   "execution_count": 1,
   "metadata": {},
   "outputs": [],
   "source": [
    "import os\n",
    "store_dir = '/global/cfs/projectdirs/m3443/usr/caditi97/iml2020/misaligned/new_mis/'\n",
    "og_evts = '/global/cfs/projectdirs/m3443/data/trackml-kaggle/train_10evts/'\n",
    "os.environ['TRKXINPUTDIR']=f\"{store_dir}shift_x/\"\n",
    "os.environ['TRKXOUTPUTDIR']= f\"{store_dir}shift_x_pre/\""
   ]
  },
  {
   "cell_type": "code",
   "execution_count": 2,
   "metadata": {},
   "outputs": [],
   "source": [
    "import pkg_resources\n",
    "import yaml\n",
    "import pprint\n",
    "import random\n",
    "import numpy as np\n",
    "import pandas as pd\n",
    "import itertools\n",
    "import matplotlib.pyplot as plt\n",
    "import tqdm\n",
    "from os import listdir\n",
    "from os.path import isfile, join\n",
    "import matplotlib.cm as cm\n",
    "import sys\n",
    "import csv\n",
    "import time\n",
    "import pickle\n",
    "import tqdm\n",
    "from tqdm import tqdm\n",
    "import tqdm.notebook as tq\n",
    "from pathlib import Path\n",
    "# %matplotlib widget\n",
    "\n",
    "sys.path.append('/global/homes/c/caditi97/exatrkx-iml2020/exatrkx/src/')\n",
    "\n",
    "# 3rd party\n",
    "import torch\n",
    "import torch.nn.functional as F\n",
    "from torch_geometric.data import Data\n",
    "from trackml.dataset import load_event\n",
    "from pytorch_lightning import Trainer\n",
    "from pytorch_lightning.callbacks import ModelCheckpoint\n",
    "\n",
    "\n",
    "# local import\n",
    "from exatrkx import config_dict # for accessing predefined configuration files\n",
    "from exatrkx import outdir_dict # for accessing predefined output directories\n",
    "from exatrkx.src import utils_dir\n",
    "from exatrkx.src import utils_robust\n",
    "from utils_robust import *\n",
    "\n",
    "\n",
    "# for preprocessing\n",
    "from exatrkx import FeatureStore\n",
    "from exatrkx.src import utils_torch\n",
    "\n",
    "# for embedding\n",
    "from exatrkx import LayerlessEmbedding\n",
    "from exatrkx.src import utils_torch\n",
    "from torch_cluster import radius_graph\n",
    "from utils_torch import build_edges\n",
    "from embedding.embedding_base import *\n",
    "\n",
    "# for filtering\n",
    "from exatrkx import VanillaFilter\n",
    "\n",
    "# for GNN\n",
    "import tensorflow as tf\n",
    "from graph_nets import utils_tf\n",
    "from exatrkx import SegmentClassifier\n",
    "import sonnet as snt\n",
    "\n",
    "# for labeling\n",
    "from exatrkx.scripts.tracks_from_gnn import prepare as prepare_labeling\n",
    "from exatrkx.scripts.tracks_from_gnn import clustering as dbscan_clustering\n",
    "\n",
    "# track efficiency\n",
    "from trackml.score import _analyze_tracks\n",
    "from exatrkx.scripts.eval_reco_trkx import make_cmp_plot, pt_configs, eta_configs\n",
    "from functools import partial"
   ]
  },
  {
   "cell_type": "code",
   "execution_count": 3,
   "metadata": {},
   "outputs": [],
   "source": [
    "event_path = '/global/cfs/cdirs/m3443/data/trackml-kaggle/train_all/'\n",
    "eventid = 'event000001005'"
   ]
  },
  {
   "cell_type": "code",
   "execution_count": 4,
   "metadata": {},
   "outputs": [],
   "source": [
    "misl = [0,0.0025,0.005,0.0075,0.01,0.012,0.015,0.017,0.02,0.1,0.4,0.6,0.8,1]\n",
    "evts = np.arange(1000,1050,1)"
   ]
  },
  {
   "cell_type": "code",
   "execution_count": 5,
   "metadata": {},
   "outputs": [],
   "source": [
    "store_dir = '/global/cfs/projectdirs/m3443/usr/caditi97/iml2020/misaligned/volumes_shifted/'\n",
    "og_evts = '/global/cfs/projectdirs/m3443/data/trackml-kaggle/train_10evts/'"
   ]
  },
  {
   "cell_type": "code",
   "execution_count": 6,
   "metadata": {
    "jupyter": {
     "source_hidden": true
    }
   },
   "outputs": [],
   "source": [
    "def save_pickle(data, store_dir, store_path, eventid):\n",
    "    with open('pathtofile','wb') as csvFile: \n",
    "        writer = csv.writer(csvFile)\n",
    "        writer.writerows(csvstff)"
   ]
  },
  {
   "cell_type": "code",
   "execution_count": 7,
   "metadata": {
    "jupyter": {
     "source_hidden": true
    }
   },
   "outputs": [],
   "source": [
    "def preprocess():\n",
    "    action = 'build'\n",
    "    config_file = pkg_resources.resource_filename(\"exatrkx\",os.path.join('configs', config_dict[action]))\n",
    "    with open(config_file) as f:\n",
    "        b_config = yaml.load(f, Loader=yaml.FullLoader)\n",
    "    pp = pprint.PrettyPrinter(indent=4)\n",
    "    b_config['pt_min'] = 0\n",
    "    b_config['endcaps'] = True\n",
    "    b_config['n_workers'] = 2\n",
    "    b_config['n_files'] = 10\n",
    "    b_config['noise'] = 0\n",
    "    pp.pprint(b_config)\n",
    "    preprocess_dm = FeatureStore(b_config)\n",
    "    preprocess_dm.prepare_data()"
   ]
  },
  {
   "cell_type": "markdown",
   "metadata": {},
   "source": [
    "# Remove Volume 8 Layer 6"
   ]
  },
  {
   "cell_type": "code",
   "execution_count": 8,
   "metadata": {
    "jupyter": {
     "source_hidden": true
    }
   },
   "outputs": [],
   "source": [
    "# def remove_v8l6(hits,cells,particles,truth,store_dir,ev):\n",
    "    \n",
    "#     nhits = hits[(hits['volume_id']==8) & (hits['layer_id']==6)]\n",
    "#     fhits = hits[~hits['hit_id'].isin(nhits['hit_id'])]\n",
    "#     fcells = cells[~cells['hit_id'].isin(fhits['hit_id'])]\n",
    "#     ftruth = truth[~truth['hit_id'].isin(fhits['hit_id'])]\n",
    "#     fparticles = particles[particles['particle_id'].isin(ftruth['particle_id'])]\n",
    "    \n",
    "#     name = f\"{store_dir}remove_v8l6/event00000{ev}-\"\n",
    "    \n",
    "#     fhits.to_csv(name+\"hits.csv\", index=False)\n",
    "#     fcells.to_csv(name+\"cells.csv\", index=False)\n",
    "#     ftruth.to_csv(name+\"truth.csv\", index=False)\n",
    "#     fparticles.to_csv(name+\"particles.csv\", index=False)"
   ]
  },
  {
   "cell_type": "code",
   "execution_count": 9,
   "metadata": {
    "jupyter": {
     "source_hidden": true
    }
   },
   "outputs": [],
   "source": [
    "# # select 10 events, remove v8l6 \n",
    "# for evtid in evts:\n",
    "#     hits, cells, particles, truth = trackml.dataset.load_event(f\"{og_evts}event00000{str(evtid)}\")\n",
    "#     remove_v8l6(hits,cells,particles,truth,store_dir,evtid)"
   ]
  },
  {
   "cell_type": "code",
   "execution_count": 10,
   "metadata": {
    "jupyter": {
     "source_hidden": true
    }
   },
   "outputs": [],
   "source": [
    "# v,_,_,_ = trackml.dataset.load_event(f\"/global/cfs/projectdirs/m3443/usr/caditi97/iml2020/misaligned/new_mis/remove_v8l6/{eventid}\")"
   ]
  },
  {
   "cell_type": "code",
   "execution_count": 11,
   "metadata": {
    "jupyter": {
     "source_hidden": true
    }
   },
   "outputs": [],
   "source": [
    "# # check inference\n",
    "# import os\n",
    "# preprocess()\n",
    "# v[(v['volume_id']==8) & (v['layer_id']==6)]"
   ]
  },
  {
   "cell_type": "markdown",
   "metadata": {},
   "source": [
    "# Shift only x coordinate of every hit"
   ]
  },
  {
   "cell_type": "code",
   "execution_count": 12,
   "metadata": {},
   "outputs": [],
   "source": [
    "def shift_x(hits,cells,particles,truth,store_dir,ev,mis):\n",
    "    \n",
    "    # 1000 micron = 1 milimeter\n",
    "    # one direction\n",
    "    hits.loc[:, 'x'] = hits['x']+mis\n",
    "    \n",
    "    name = f\"{store_dir}shift_x_all/{mis}\"\n",
    "    Path(name).mkdir(parents=True, exist_ok=True)\n",
    "    name = name + f'/event00000{ev}-'\n",
    "    \n",
    "    hits.to_csv(name+\"hits.csv\", index=False)\n",
    "    cells.to_csv(name+\"cells.csv\", index=False)\n",
    "    truth.to_csv(name+\"truth.csv\", index=False)\n",
    "    particles.to_csv(name+\"particles.csv\", index=False)"
   ]
  },
  {
   "cell_type": "code",
   "execution_count": 13,
   "metadata": {},
   "outputs": [
    {
     "name": "stderr",
     "output_type": "stream",
     "text": [
      "  0%|          | 0/14 [00:00<?, ?it/s]"
     ]
    },
    {
     "name": "stdout",
     "output_type": "stream",
     "text": [
      "------ 0 ------\n"
     ]
    },
    {
     "data": {
      "application/vnd.jupyter.widget-view+json": {
       "model_id": "ad91797efa2b4eac8a10a9b222f34863",
       "version_major": 2,
       "version_minor": 0
      },
      "text/plain": [
       "HBox(children=(FloatProgress(value=0.0), HTML(value='')))"
      ]
     },
     "metadata": {},
     "output_type": "display_data"
    },
    {
     "name": "stderr",
     "output_type": "stream",
     "text": [
      "  7%|▋         | 1/14 [11:06<2:24:21, 666.24s/it]"
     ]
    },
    {
     "name": "stdout",
     "output_type": "stream",
     "text": [
      "\n",
      "------ 0.0025 ------\n"
     ]
    },
    {
     "data": {
      "application/vnd.jupyter.widget-view+json": {
       "model_id": "8583ccb3acc34c4d9275ae14678287da",
       "version_major": 2,
       "version_minor": 0
      },
      "text/plain": [
       "HBox(children=(FloatProgress(value=0.0), HTML(value='')))"
      ]
     },
     "metadata": {},
     "output_type": "display_data"
    },
    {
     "name": "stderr",
     "output_type": "stream",
     "text": [
      " 14%|█▍        | 2/14 [15:50<1:50:21, 551.76s/it]"
     ]
    },
    {
     "name": "stdout",
     "output_type": "stream",
     "text": [
      "\n",
      "------ 0.005 ------\n"
     ]
    },
    {
     "data": {
      "application/vnd.jupyter.widget-view+json": {
       "model_id": "a5c957c292b34e65b1af7f47aa999b29",
       "version_major": 2,
       "version_minor": 0
      },
      "text/plain": [
       "HBox(children=(FloatProgress(value=0.0), HTML(value='')))"
      ]
     },
     "metadata": {},
     "output_type": "display_data"
    },
    {
     "name": "stderr",
     "output_type": "stream",
     "text": [
      " 21%|██▏       | 3/14 [20:31<1:26:16, 470.56s/it]"
     ]
    },
    {
     "name": "stdout",
     "output_type": "stream",
     "text": [
      "\n",
      "------ 0.0075 ------\n"
     ]
    },
    {
     "data": {
      "application/vnd.jupyter.widget-view+json": {
       "model_id": "81b9ddafa5984a88ac7727604e62bbe6",
       "version_major": 2,
       "version_minor": 0
      },
      "text/plain": [
       "HBox(children=(FloatProgress(value=0.0), HTML(value='')))"
      ]
     },
     "metadata": {},
     "output_type": "display_data"
    },
    {
     "name": "stderr",
     "output_type": "stream",
     "text": [
      " 29%|██▊       | 4/14 [25:13<1:08:59, 413.94s/it]"
     ]
    },
    {
     "name": "stdout",
     "output_type": "stream",
     "text": [
      "\n",
      "------ 0.01 ------\n"
     ]
    },
    {
     "data": {
      "application/vnd.jupyter.widget-view+json": {
       "model_id": "fae032cc46264ca995b5a870e0fbc37d",
       "version_major": 2,
       "version_minor": 0
      },
      "text/plain": [
       "HBox(children=(FloatProgress(value=0.0), HTML(value='')))"
      ]
     },
     "metadata": {},
     "output_type": "display_data"
    },
    {
     "name": "stderr",
     "output_type": "stream",
     "text": [
      " 36%|███▌      | 5/14 [29:55<56:07, 374.16s/it]  "
     ]
    },
    {
     "name": "stdout",
     "output_type": "stream",
     "text": [
      "\n",
      "------ 0.012 ------\n"
     ]
    },
    {
     "data": {
      "application/vnd.jupyter.widget-view+json": {
       "model_id": "5f8432fe3e3a4b36b858ab331952f1ae",
       "version_major": 2,
       "version_minor": 0
      },
      "text/plain": [
       "HBox(children=(FloatProgress(value=0.0), HTML(value='')))"
      ]
     },
     "metadata": {},
     "output_type": "display_data"
    },
    {
     "name": "stderr",
     "output_type": "stream",
     "text": [
      " 43%|████▎     | 6/14 [34:40<46:20, 347.57s/it]"
     ]
    },
    {
     "name": "stdout",
     "output_type": "stream",
     "text": [
      "\n",
      "------ 0.015 ------\n"
     ]
    },
    {
     "data": {
      "application/vnd.jupyter.widget-view+json": {
       "model_id": "125984893a444bb991a8503254fcd456",
       "version_major": 2,
       "version_minor": 0
      },
      "text/plain": [
       "HBox(children=(FloatProgress(value=0.0), HTML(value='')))"
      ]
     },
     "metadata": {},
     "output_type": "display_data"
    },
    {
     "name": "stderr",
     "output_type": "stream",
     "text": [
      " 50%|█████     | 7/14 [39:21<38:13, 327.67s/it]"
     ]
    },
    {
     "name": "stdout",
     "output_type": "stream",
     "text": [
      "\n",
      "------ 0.017 ------\n"
     ]
    },
    {
     "data": {
      "application/vnd.jupyter.widget-view+json": {
       "model_id": "609e5912383042a58f8dcafb54371f52",
       "version_major": 2,
       "version_minor": 0
      },
      "text/plain": [
       "HBox(children=(FloatProgress(value=0.0), HTML(value='')))"
      ]
     },
     "metadata": {},
     "output_type": "display_data"
    },
    {
     "name": "stderr",
     "output_type": "stream",
     "text": [
      " 57%|█████▋    | 8/14 [44:02<31:21, 313.53s/it]"
     ]
    },
    {
     "name": "stdout",
     "output_type": "stream",
     "text": [
      "\n",
      "------ 0.02 ------\n"
     ]
    },
    {
     "data": {
      "application/vnd.jupyter.widget-view+json": {
       "model_id": "2591a7f95e574cc8932a2df15b187913",
       "version_major": 2,
       "version_minor": 0
      },
      "text/plain": [
       "HBox(children=(FloatProgress(value=0.0), HTML(value='')))"
      ]
     },
     "metadata": {},
     "output_type": "display_data"
    },
    {
     "name": "stderr",
     "output_type": "stream",
     "text": [
      " 64%|██████▍   | 9/14 [48:50<25:28, 305.75s/it]"
     ]
    },
    {
     "name": "stdout",
     "output_type": "stream",
     "text": [
      "\n",
      "------ 0.1 ------\n"
     ]
    },
    {
     "data": {
      "application/vnd.jupyter.widget-view+json": {
       "model_id": "bcfe5a76dc8441589a13738869704463",
       "version_major": 2,
       "version_minor": 0
      },
      "text/plain": [
       "HBox(children=(FloatProgress(value=0.0), HTML(value='')))"
      ]
     },
     "metadata": {},
     "output_type": "display_data"
    },
    {
     "name": "stderr",
     "output_type": "stream",
     "text": [
      " 71%|███████▏  | 10/14 [53:33<19:56, 299.11s/it]"
     ]
    },
    {
     "name": "stdout",
     "output_type": "stream",
     "text": [
      "\n",
      "------ 0.4 ------\n"
     ]
    },
    {
     "data": {
      "application/vnd.jupyter.widget-view+json": {
       "model_id": "7e1a12895dcc4baba2aa49145175155d",
       "version_major": 2,
       "version_minor": 0
      },
      "text/plain": [
       "HBox(children=(FloatProgress(value=0.0), HTML(value='')))"
      ]
     },
     "metadata": {},
     "output_type": "display_data"
    },
    {
     "name": "stderr",
     "output_type": "stream",
     "text": [
      " 79%|███████▊  | 11/14 [58:12<14:39, 293.18s/it]"
     ]
    },
    {
     "name": "stdout",
     "output_type": "stream",
     "text": [
      "\n",
      "------ 0.6 ------\n"
     ]
    },
    {
     "data": {
      "application/vnd.jupyter.widget-view+json": {
       "model_id": "f3875227e46943fe820d3f8b8a3abccc",
       "version_major": 2,
       "version_minor": 0
      },
      "text/plain": [
       "HBox(children=(FloatProgress(value=0.0), HTML(value='')))"
      ]
     },
     "metadata": {},
     "output_type": "display_data"
    },
    {
     "name": "stderr",
     "output_type": "stream",
     "text": [
      " 86%|████████▌ | 12/14 [1:02:51<09:37, 288.86s/it]"
     ]
    },
    {
     "name": "stdout",
     "output_type": "stream",
     "text": [
      "\n",
      "------ 0.8 ------\n"
     ]
    },
    {
     "data": {
      "application/vnd.jupyter.widget-view+json": {
       "model_id": "963a990508ba45c39b66b042ad75ca58",
       "version_major": 2,
       "version_minor": 0
      },
      "text/plain": [
       "HBox(children=(FloatProgress(value=0.0), HTML(value='')))"
      ]
     },
     "metadata": {},
     "output_type": "display_data"
    },
    {
     "name": "stderr",
     "output_type": "stream",
     "text": [
      " 93%|█████████▎| 13/14 [1:07:31<04:46, 286.14s/it]"
     ]
    },
    {
     "name": "stdout",
     "output_type": "stream",
     "text": [
      "\n",
      "------ 1 ------\n"
     ]
    },
    {
     "data": {
      "application/vnd.jupyter.widget-view+json": {
       "model_id": "04b1ca7522f34c4eb7ecc341e30d616f",
       "version_major": 2,
       "version_minor": 0
      },
      "text/plain": [
       "HBox(children=(FloatProgress(value=0.0), HTML(value='')))"
      ]
     },
     "metadata": {},
     "output_type": "display_data"
    },
    {
     "name": "stderr",
     "output_type": "stream",
     "text": [
      "100%|██████████| 14/14 [1:12:05<00:00, 308.95s/it]"
     ]
    },
    {
     "name": "stdout",
     "output_type": "stream",
     "text": [
      "\n"
     ]
    },
    {
     "name": "stderr",
     "output_type": "stream",
     "text": [
      "\n"
     ]
    }
   ],
   "source": [
    "for mis in tqdm(misl):\n",
    "    print(f\"------ {mis} ------\")\n",
    "    for evtid in tq.tqdm(evts):\n",
    "        hits, cells, particles, truth = trackml.dataset.load_event(f\"{event_path}event00000{str(evtid)}\")\n",
    "        shift_x(hits,cells,particles,truth,store_dir,evtid,mis)"
   ]
  },
  {
   "cell_type": "code",
   "execution_count": 14,
   "metadata": {
    "jupyter": {
     "source_hidden": true
    }
   },
   "outputs": [],
   "source": [
    "# oh,oc,op,ot = trackml.dataset.load_event(f\"{og_evts}{eventid}\")\n",
    "# oh"
   ]
  },
  {
   "cell_type": "code",
   "execution_count": 15,
   "metadata": {
    "jupyter": {
     "source_hidden": true
    }
   },
   "outputs": [],
   "source": [
    "# h,c,p,t = trackml.dataset.load_event(f\"/global/cfs/projectdirs/m3443/usr/caditi97/iml2020/misaligned/new_mis/shift_x/1/{eventid}\")\n",
    "# h"
   ]
  },
  {
   "cell_type": "markdown",
   "metadata": {},
   "source": [
    "# Shift only x coordinate of Volume 8 all layers"
   ]
  },
  {
   "cell_type": "code",
   "execution_count": 16,
   "metadata": {
    "jupyter": {
     "source_hidden": true
    }
   },
   "outputs": [],
   "source": [
    "# def shift_x_v8(hits,cells,particles,truth,store_dir,ev,mis):\n",
    "    \n",
    "#     # 1000 micron = 1 milimeter\n",
    "#     #one direction\n",
    "#     hits.loc[(hits['volume_id']==8), 'x'] = hits[hits['volume_id']==8]['x']+mis\n",
    "# #     hits.loc[(hits['volume_id']==8) & (hits['x']<0), 'x'] = hits[hits['volume_id']==8]['x']-mis\n",
    "# #     hits.loc[(hits['volume_id']==8) & (hits['x']>0), 'x'] = hits[hits['volume_id']==8]['x']+mis\n",
    "    \n",
    "#     name = f\"{store_dir}shift_x_v8/{mis}/event00000{ev}-\"\n",
    "    \n",
    "#     hits.to_csv(name+\"hits.csv\", index=False)\n",
    "#     cells.to_csv(name+\"cells.csv\", index=False)\n",
    "#     truth.to_csv(name+\"truth.csv\", index=False)\n",
    "#     particles.to_csv(name+\"particles.csv\", index=False)"
   ]
  },
  {
   "cell_type": "code",
   "execution_count": 17,
   "metadata": {
    "jupyter": {
     "source_hidden": true
    }
   },
   "outputs": [],
   "source": [
    "# for mis in misl:\n",
    "#     for evtid in evts:\n",
    "#         hits, cells, particles, truth = trackml.dataset.load_event(f\"{og_evts}event00000{str(evtid)}\")\n",
    "#         shift_x_v8(hits,cells,particles,truth,store_dir,evtid,mis)"
   ]
  },
  {
   "cell_type": "code",
   "execution_count": 18,
   "metadata": {
    "collapsed": true,
    "jupyter": {
     "outputs_hidden": true,
     "source_hidden": true
    }
   },
   "outputs": [
    {
     "data": {
      "text/html": [
       "<div>\n",
       "<style scoped>\n",
       "    .dataframe tbody tr th:only-of-type {\n",
       "        vertical-align: middle;\n",
       "    }\n",
       "\n",
       "    .dataframe tbody tr th {\n",
       "        vertical-align: top;\n",
       "    }\n",
       "\n",
       "    .dataframe thead th {\n",
       "        text-align: right;\n",
       "    }\n",
       "</style>\n",
       "<table border=\"1\" class=\"dataframe\">\n",
       "  <thead>\n",
       "    <tr style=\"text-align: right;\">\n",
       "      <th></th>\n",
       "      <th>hit_id</th>\n",
       "      <th>x</th>\n",
       "      <th>y</th>\n",
       "      <th>z</th>\n",
       "      <th>volume_id</th>\n",
       "      <th>layer_id</th>\n",
       "      <th>module_id</th>\n",
       "    </tr>\n",
       "  </thead>\n",
       "  <tbody>\n",
       "    <tr>\n",
       "      <th>15213</th>\n",
       "      <td>15214</td>\n",
       "      <td>-32.226700</td>\n",
       "      <td>-4.586000</td>\n",
       "      <td>-474.190002</td>\n",
       "      <td>8</td>\n",
       "      <td>2</td>\n",
       "      <td>1</td>\n",
       "    </tr>\n",
       "    <tr>\n",
       "      <th>15214</th>\n",
       "      <td>15215</td>\n",
       "      <td>-32.626598</td>\n",
       "      <td>-3.442120</td>\n",
       "      <td>-454.467987</td>\n",
       "      <td>8</td>\n",
       "      <td>2</td>\n",
       "      <td>1</td>\n",
       "    </tr>\n",
       "    <tr>\n",
       "      <th>15215</th>\n",
       "      <td>15216</td>\n",
       "      <td>-30.083700</td>\n",
       "      <td>-14.257500</td>\n",
       "      <td>-461.166992</td>\n",
       "      <td>8</td>\n",
       "      <td>2</td>\n",
       "      <td>2</td>\n",
       "    </tr>\n",
       "    <tr>\n",
       "      <th>15216</th>\n",
       "      <td>15217</td>\n",
       "      <td>-18.472500</td>\n",
       "      <td>-26.547300</td>\n",
       "      <td>-477.484985</td>\n",
       "      <td>8</td>\n",
       "      <td>2</td>\n",
       "      <td>3</td>\n",
       "    </tr>\n",
       "    <tr>\n",
       "      <th>15217</th>\n",
       "      <td>15218</td>\n",
       "      <td>-20.716000</td>\n",
       "      <td>-25.466200</td>\n",
       "      <td>-468.579010</td>\n",
       "      <td>8</td>\n",
       "      <td>2</td>\n",
       "      <td>3</td>\n",
       "    </tr>\n",
       "    <tr>\n",
       "      <th>...</th>\n",
       "      <td>...</td>\n",
       "      <td>...</td>\n",
       "      <td>...</td>\n",
       "      <td>...</td>\n",
       "      <td>...</td>\n",
       "      <td>...</td>\n",
       "      <td>...</td>\n",
       "    </tr>\n",
       "    <tr>\n",
       "      <th>41449</th>\n",
       "      <td>41450</td>\n",
       "      <td>-168.143997</td>\n",
       "      <td>36.557201</td>\n",
       "      <td>483.890015</td>\n",
       "      <td>8</td>\n",
       "      <td>8</td>\n",
       "      <td>1090</td>\n",
       "    </tr>\n",
       "    <tr>\n",
       "      <th>41450</th>\n",
       "      <td>41451</td>\n",
       "      <td>-170.589996</td>\n",
       "      <td>25.515100</td>\n",
       "      <td>423.203003</td>\n",
       "      <td>8</td>\n",
       "      <td>8</td>\n",
       "      <td>1091</td>\n",
       "    </tr>\n",
       "    <tr>\n",
       "      <th>41451</th>\n",
       "      <td>41452</td>\n",
       "      <td>-170.440002</td>\n",
       "      <td>17.709600</td>\n",
       "      <td>419.201996</td>\n",
       "      <td>8</td>\n",
       "      <td>8</td>\n",
       "      <td>1091</td>\n",
       "    </tr>\n",
       "    <tr>\n",
       "      <th>41452</th>\n",
       "      <td>41453</td>\n",
       "      <td>-170.417999</td>\n",
       "      <td>16.547100</td>\n",
       "      <td>430.428009</td>\n",
       "      <td>8</td>\n",
       "      <td>8</td>\n",
       "      <td>1091</td>\n",
       "    </tr>\n",
       "    <tr>\n",
       "      <th>41453</th>\n",
       "      <td>41454</td>\n",
       "      <td>-171.050995</td>\n",
       "      <td>1.318630</td>\n",
       "      <td>483.808990</td>\n",
       "      <td>8</td>\n",
       "      <td>8</td>\n",
       "      <td>1092</td>\n",
       "    </tr>\n",
       "  </tbody>\n",
       "</table>\n",
       "<p>26241 rows × 7 columns</p>\n",
       "</div>"
      ],
      "text/plain": [
       "       hit_id           x          y           z  volume_id  layer_id  \\\n",
       "15213   15214  -32.226700  -4.586000 -474.190002          8         2   \n",
       "15214   15215  -32.626598  -3.442120 -454.467987          8         2   \n",
       "15215   15216  -30.083700 -14.257500 -461.166992          8         2   \n",
       "15216   15217  -18.472500 -26.547300 -477.484985          8         2   \n",
       "15217   15218  -20.716000 -25.466200 -468.579010          8         2   \n",
       "...       ...         ...        ...         ...        ...       ...   \n",
       "41449   41450 -168.143997  36.557201  483.890015          8         8   \n",
       "41450   41451 -170.589996  25.515100  423.203003          8         8   \n",
       "41451   41452 -170.440002  17.709600  419.201996          8         8   \n",
       "41452   41453 -170.417999  16.547100  430.428009          8         8   \n",
       "41453   41454 -171.050995   1.318630  483.808990          8         8   \n",
       "\n",
       "       module_id  \n",
       "15213          1  \n",
       "15214          1  \n",
       "15215          2  \n",
       "15216          3  \n",
       "15217          3  \n",
       "...          ...  \n",
       "41449       1090  \n",
       "41450       1091  \n",
       "41451       1091  \n",
       "41452       1091  \n",
       "41453       1092  \n",
       "\n",
       "[26241 rows x 7 columns]"
      ]
     },
     "execution_count": 18,
     "metadata": {},
     "output_type": "execute_result"
    }
   ],
   "source": [
    "# oh,oc,op,ot = trackml.dataset.load_event(f\"{og_evts}{eventid}\")\n",
    "# oh[oh['volume_id'] == 8]"
   ]
  },
  {
   "cell_type": "code",
   "execution_count": 19,
   "metadata": {
    "collapsed": true,
    "jupyter": {
     "outputs_hidden": true,
     "source_hidden": true
    }
   },
   "outputs": [
    {
     "data": {
      "text/html": [
       "<div>\n",
       "<style scoped>\n",
       "    .dataframe tbody tr th:only-of-type {\n",
       "        vertical-align: middle;\n",
       "    }\n",
       "\n",
       "    .dataframe tbody tr th {\n",
       "        vertical-align: top;\n",
       "    }\n",
       "\n",
       "    .dataframe thead th {\n",
       "        text-align: right;\n",
       "    }\n",
       "</style>\n",
       "<table border=\"1\" class=\"dataframe\">\n",
       "  <thead>\n",
       "    <tr style=\"text-align: right;\">\n",
       "      <th></th>\n",
       "      <th>hit_id</th>\n",
       "      <th>x</th>\n",
       "      <th>y</th>\n",
       "      <th>z</th>\n",
       "      <th>volume_id</th>\n",
       "      <th>layer_id</th>\n",
       "      <th>module_id</th>\n",
       "    </tr>\n",
       "  </thead>\n",
       "  <tbody>\n",
       "    <tr>\n",
       "      <th>15213</th>\n",
       "      <td>15214</td>\n",
       "      <td>-31.226700</td>\n",
       "      <td>-4.586000</td>\n",
       "      <td>-474.190002</td>\n",
       "      <td>8</td>\n",
       "      <td>2</td>\n",
       "      <td>1</td>\n",
       "    </tr>\n",
       "    <tr>\n",
       "      <th>15214</th>\n",
       "      <td>15215</td>\n",
       "      <td>-31.626598</td>\n",
       "      <td>-3.442120</td>\n",
       "      <td>-454.467987</td>\n",
       "      <td>8</td>\n",
       "      <td>2</td>\n",
       "      <td>1</td>\n",
       "    </tr>\n",
       "    <tr>\n",
       "      <th>15215</th>\n",
       "      <td>15216</td>\n",
       "      <td>-29.083700</td>\n",
       "      <td>-14.257500</td>\n",
       "      <td>-461.166992</td>\n",
       "      <td>8</td>\n",
       "      <td>2</td>\n",
       "      <td>2</td>\n",
       "    </tr>\n",
       "    <tr>\n",
       "      <th>15216</th>\n",
       "      <td>15217</td>\n",
       "      <td>-17.472500</td>\n",
       "      <td>-26.547300</td>\n",
       "      <td>-477.484985</td>\n",
       "      <td>8</td>\n",
       "      <td>2</td>\n",
       "      <td>3</td>\n",
       "    </tr>\n",
       "    <tr>\n",
       "      <th>15217</th>\n",
       "      <td>15218</td>\n",
       "      <td>-19.716000</td>\n",
       "      <td>-25.466200</td>\n",
       "      <td>-468.579010</td>\n",
       "      <td>8</td>\n",
       "      <td>2</td>\n",
       "      <td>3</td>\n",
       "    </tr>\n",
       "    <tr>\n",
       "      <th>...</th>\n",
       "      <td>...</td>\n",
       "      <td>...</td>\n",
       "      <td>...</td>\n",
       "      <td>...</td>\n",
       "      <td>...</td>\n",
       "      <td>...</td>\n",
       "      <td>...</td>\n",
       "    </tr>\n",
       "    <tr>\n",
       "      <th>41449</th>\n",
       "      <td>41450</td>\n",
       "      <td>-167.143997</td>\n",
       "      <td>36.557201</td>\n",
       "      <td>483.890015</td>\n",
       "      <td>8</td>\n",
       "      <td>8</td>\n",
       "      <td>1090</td>\n",
       "    </tr>\n",
       "    <tr>\n",
       "      <th>41450</th>\n",
       "      <td>41451</td>\n",
       "      <td>-169.589996</td>\n",
       "      <td>25.515100</td>\n",
       "      <td>423.203003</td>\n",
       "      <td>8</td>\n",
       "      <td>8</td>\n",
       "      <td>1091</td>\n",
       "    </tr>\n",
       "    <tr>\n",
       "      <th>41451</th>\n",
       "      <td>41452</td>\n",
       "      <td>-169.440002</td>\n",
       "      <td>17.709600</td>\n",
       "      <td>419.201996</td>\n",
       "      <td>8</td>\n",
       "      <td>8</td>\n",
       "      <td>1091</td>\n",
       "    </tr>\n",
       "    <tr>\n",
       "      <th>41452</th>\n",
       "      <td>41453</td>\n",
       "      <td>-169.417999</td>\n",
       "      <td>16.547100</td>\n",
       "      <td>430.428009</td>\n",
       "      <td>8</td>\n",
       "      <td>8</td>\n",
       "      <td>1091</td>\n",
       "    </tr>\n",
       "    <tr>\n",
       "      <th>41453</th>\n",
       "      <td>41454</td>\n",
       "      <td>-170.050995</td>\n",
       "      <td>1.318630</td>\n",
       "      <td>483.808990</td>\n",
       "      <td>8</td>\n",
       "      <td>8</td>\n",
       "      <td>1092</td>\n",
       "    </tr>\n",
       "  </tbody>\n",
       "</table>\n",
       "<p>26241 rows × 7 columns</p>\n",
       "</div>"
      ],
      "text/plain": [
       "       hit_id           x          y           z  volume_id  layer_id  \\\n",
       "15213   15214  -31.226700  -4.586000 -474.190002          8         2   \n",
       "15214   15215  -31.626598  -3.442120 -454.467987          8         2   \n",
       "15215   15216  -29.083700 -14.257500 -461.166992          8         2   \n",
       "15216   15217  -17.472500 -26.547300 -477.484985          8         2   \n",
       "15217   15218  -19.716000 -25.466200 -468.579010          8         2   \n",
       "...       ...         ...        ...         ...        ...       ...   \n",
       "41449   41450 -167.143997  36.557201  483.890015          8         8   \n",
       "41450   41451 -169.589996  25.515100  423.203003          8         8   \n",
       "41451   41452 -169.440002  17.709600  419.201996          8         8   \n",
       "41452   41453 -169.417999  16.547100  430.428009          8         8   \n",
       "41453   41454 -170.050995   1.318630  483.808990          8         8   \n",
       "\n",
       "       module_id  \n",
       "15213          1  \n",
       "15214          1  \n",
       "15215          2  \n",
       "15216          3  \n",
       "15217          3  \n",
       "...          ...  \n",
       "41449       1090  \n",
       "41450       1091  \n",
       "41451       1091  \n",
       "41452       1091  \n",
       "41453       1092  \n",
       "\n",
       "[26241 rows x 7 columns]"
      ]
     },
     "execution_count": 19,
     "metadata": {},
     "output_type": "execute_result"
    }
   ],
   "source": [
    "# h,c,p,t = trackml.dataset.load_event(f\"/global/cfs/projectdirs/m3443/usr/caditi97/iml2020/misaligned/new_mis/shift_x_v8/1/{eventid}\")\n",
    "# h[h['volume_id'] == 8]"
   ]
  },
  {
   "cell_type": "markdown",
   "metadata": {},
   "source": [
    "# Shift x and y coordinates of all layers in volume 8"
   ]
  },
  {
   "cell_type": "code",
   "execution_count": 20,
   "metadata": {
    "jupyter": {
     "source_hidden": true
    }
   },
   "outputs": [],
   "source": [
    "# def shift_xy_v8(hits,cells,particles,truth,store_dir,ev,mis):\n",
    "    \n",
    "#     # 1000 micron = 1 milimeter\n",
    "#     # two directions\n",
    "# #     hits.loc[(hits['volume_id']==8) & (hits['x']<0), 'x'] = hits[hits['volume_id']==8]['x']-mis\n",
    "# #     hits.loc[(hits['volume_id']==8) & (hits['x']>0), 'x'] = hits[hits['volume_id']==8]['x']+mis\n",
    "# #     hits.loc[(hits['volume_id']==8) & (hits['y']<0), 'x'] = hits[hits['volume_id']==8]['y']-mis\n",
    "# #     hits.loc[(hits['volume_id']==8) & (hits['y']>0), 'x'] = hits[hits['volume_id']==8]['y']+mis\n",
    "#     # one direction\n",
    "#     hits.loc[(hits['volume_id']==8), 'x'] = hits[hits['volume_id']==8]['x']+mis\n",
    "#     hits.loc[(hits['volume_id']==8), 'y'] = hits[hits['volume_id']==8]['y']+mis\n",
    "    \n",
    "#     name = f\"{store_dir}shift_xy_v8/{mis}/event00000{ev}-\"\n",
    "    \n",
    "#     hits.to_csv(name+\"hits.csv\", index=False)\n",
    "#     cells.to_csv(name+\"cells.csv\", index=False)\n",
    "#     truth.to_csv(name+\"truth.csv\", index=False)\n",
    "#     particles.to_csv(name+\"particles.csv\", index=False)"
   ]
  },
  {
   "cell_type": "code",
   "execution_count": 21,
   "metadata": {
    "jupyter": {
     "source_hidden": true
    }
   },
   "outputs": [],
   "source": [
    "# for mis in misl:\n",
    "#     for evtid in evts:\n",
    "#         hits, cells, particles, truth = trackml.dataset.load_event(f\"{og_evts}event00000{str(evtid)}\")\n",
    "#         shift_xy_v8(hits,cells,particles,truth,store_dir,evtid,mis)"
   ]
  },
  {
   "cell_type": "code",
   "execution_count": 22,
   "metadata": {
    "collapsed": true,
    "jupyter": {
     "outputs_hidden": true,
     "source_hidden": true
    }
   },
   "outputs": [
    {
     "data": {
      "text/html": [
       "<div>\n",
       "<style scoped>\n",
       "    .dataframe tbody tr th:only-of-type {\n",
       "        vertical-align: middle;\n",
       "    }\n",
       "\n",
       "    .dataframe tbody tr th {\n",
       "        vertical-align: top;\n",
       "    }\n",
       "\n",
       "    .dataframe thead th {\n",
       "        text-align: right;\n",
       "    }\n",
       "</style>\n",
       "<table border=\"1\" class=\"dataframe\">\n",
       "  <thead>\n",
       "    <tr style=\"text-align: right;\">\n",
       "      <th></th>\n",
       "      <th>hit_id</th>\n",
       "      <th>x</th>\n",
       "      <th>y</th>\n",
       "      <th>z</th>\n",
       "      <th>volume_id</th>\n",
       "      <th>layer_id</th>\n",
       "      <th>module_id</th>\n",
       "    </tr>\n",
       "  </thead>\n",
       "  <tbody>\n",
       "    <tr>\n",
       "      <th>15213</th>\n",
       "      <td>15214</td>\n",
       "      <td>-32.226700</td>\n",
       "      <td>-4.586000</td>\n",
       "      <td>-474.190002</td>\n",
       "      <td>8</td>\n",
       "      <td>2</td>\n",
       "      <td>1</td>\n",
       "    </tr>\n",
       "    <tr>\n",
       "      <th>15214</th>\n",
       "      <td>15215</td>\n",
       "      <td>-32.626598</td>\n",
       "      <td>-3.442120</td>\n",
       "      <td>-454.467987</td>\n",
       "      <td>8</td>\n",
       "      <td>2</td>\n",
       "      <td>1</td>\n",
       "    </tr>\n",
       "    <tr>\n",
       "      <th>15215</th>\n",
       "      <td>15216</td>\n",
       "      <td>-30.083700</td>\n",
       "      <td>-14.257500</td>\n",
       "      <td>-461.166992</td>\n",
       "      <td>8</td>\n",
       "      <td>2</td>\n",
       "      <td>2</td>\n",
       "    </tr>\n",
       "    <tr>\n",
       "      <th>15216</th>\n",
       "      <td>15217</td>\n",
       "      <td>-18.472500</td>\n",
       "      <td>-26.547300</td>\n",
       "      <td>-477.484985</td>\n",
       "      <td>8</td>\n",
       "      <td>2</td>\n",
       "      <td>3</td>\n",
       "    </tr>\n",
       "    <tr>\n",
       "      <th>15217</th>\n",
       "      <td>15218</td>\n",
       "      <td>-20.716000</td>\n",
       "      <td>-25.466200</td>\n",
       "      <td>-468.579010</td>\n",
       "      <td>8</td>\n",
       "      <td>2</td>\n",
       "      <td>3</td>\n",
       "    </tr>\n",
       "    <tr>\n",
       "      <th>...</th>\n",
       "      <td>...</td>\n",
       "      <td>...</td>\n",
       "      <td>...</td>\n",
       "      <td>...</td>\n",
       "      <td>...</td>\n",
       "      <td>...</td>\n",
       "      <td>...</td>\n",
       "    </tr>\n",
       "    <tr>\n",
       "      <th>41449</th>\n",
       "      <td>41450</td>\n",
       "      <td>-168.143997</td>\n",
       "      <td>36.557201</td>\n",
       "      <td>483.890015</td>\n",
       "      <td>8</td>\n",
       "      <td>8</td>\n",
       "      <td>1090</td>\n",
       "    </tr>\n",
       "    <tr>\n",
       "      <th>41450</th>\n",
       "      <td>41451</td>\n",
       "      <td>-170.589996</td>\n",
       "      <td>25.515100</td>\n",
       "      <td>423.203003</td>\n",
       "      <td>8</td>\n",
       "      <td>8</td>\n",
       "      <td>1091</td>\n",
       "    </tr>\n",
       "    <tr>\n",
       "      <th>41451</th>\n",
       "      <td>41452</td>\n",
       "      <td>-170.440002</td>\n",
       "      <td>17.709600</td>\n",
       "      <td>419.201996</td>\n",
       "      <td>8</td>\n",
       "      <td>8</td>\n",
       "      <td>1091</td>\n",
       "    </tr>\n",
       "    <tr>\n",
       "      <th>41452</th>\n",
       "      <td>41453</td>\n",
       "      <td>-170.417999</td>\n",
       "      <td>16.547100</td>\n",
       "      <td>430.428009</td>\n",
       "      <td>8</td>\n",
       "      <td>8</td>\n",
       "      <td>1091</td>\n",
       "    </tr>\n",
       "    <tr>\n",
       "      <th>41453</th>\n",
       "      <td>41454</td>\n",
       "      <td>-171.050995</td>\n",
       "      <td>1.318630</td>\n",
       "      <td>483.808990</td>\n",
       "      <td>8</td>\n",
       "      <td>8</td>\n",
       "      <td>1092</td>\n",
       "    </tr>\n",
       "  </tbody>\n",
       "</table>\n",
       "<p>26241 rows × 7 columns</p>\n",
       "</div>"
      ],
      "text/plain": [
       "       hit_id           x          y           z  volume_id  layer_id  \\\n",
       "15213   15214  -32.226700  -4.586000 -474.190002          8         2   \n",
       "15214   15215  -32.626598  -3.442120 -454.467987          8         2   \n",
       "15215   15216  -30.083700 -14.257500 -461.166992          8         2   \n",
       "15216   15217  -18.472500 -26.547300 -477.484985          8         2   \n",
       "15217   15218  -20.716000 -25.466200 -468.579010          8         2   \n",
       "...       ...         ...        ...         ...        ...       ...   \n",
       "41449   41450 -168.143997  36.557201  483.890015          8         8   \n",
       "41450   41451 -170.589996  25.515100  423.203003          8         8   \n",
       "41451   41452 -170.440002  17.709600  419.201996          8         8   \n",
       "41452   41453 -170.417999  16.547100  430.428009          8         8   \n",
       "41453   41454 -171.050995   1.318630  483.808990          8         8   \n",
       "\n",
       "       module_id  \n",
       "15213          1  \n",
       "15214          1  \n",
       "15215          2  \n",
       "15216          3  \n",
       "15217          3  \n",
       "...          ...  \n",
       "41449       1090  \n",
       "41450       1091  \n",
       "41451       1091  \n",
       "41452       1091  \n",
       "41453       1092  \n",
       "\n",
       "[26241 rows x 7 columns]"
      ]
     },
     "execution_count": 22,
     "metadata": {},
     "output_type": "execute_result"
    }
   ],
   "source": [
    "# oh,oc,op,ot = trackml.dataset.load_event(f\"{og_evts}{eventid}\")\n",
    "# oh[oh['volume_id'] == 8]"
   ]
  },
  {
   "cell_type": "code",
   "execution_count": 23,
   "metadata": {
    "collapsed": true,
    "jupyter": {
     "outputs_hidden": true,
     "source_hidden": true
    }
   },
   "outputs": [
    {
     "data": {
      "text/html": [
       "<div>\n",
       "<style scoped>\n",
       "    .dataframe tbody tr th:only-of-type {\n",
       "        vertical-align: middle;\n",
       "    }\n",
       "\n",
       "    .dataframe tbody tr th {\n",
       "        vertical-align: top;\n",
       "    }\n",
       "\n",
       "    .dataframe thead th {\n",
       "        text-align: right;\n",
       "    }\n",
       "</style>\n",
       "<table border=\"1\" class=\"dataframe\">\n",
       "  <thead>\n",
       "    <tr style=\"text-align: right;\">\n",
       "      <th></th>\n",
       "      <th>hit_id</th>\n",
       "      <th>x</th>\n",
       "      <th>y</th>\n",
       "      <th>z</th>\n",
       "      <th>volume_id</th>\n",
       "      <th>layer_id</th>\n",
       "      <th>module_id</th>\n",
       "    </tr>\n",
       "  </thead>\n",
       "  <tbody>\n",
       "    <tr>\n",
       "      <th>15213</th>\n",
       "      <td>15214</td>\n",
       "      <td>-31.226700</td>\n",
       "      <td>-3.586000</td>\n",
       "      <td>-474.190002</td>\n",
       "      <td>8</td>\n",
       "      <td>2</td>\n",
       "      <td>1</td>\n",
       "    </tr>\n",
       "    <tr>\n",
       "      <th>15214</th>\n",
       "      <td>15215</td>\n",
       "      <td>-31.626598</td>\n",
       "      <td>-2.442120</td>\n",
       "      <td>-454.467987</td>\n",
       "      <td>8</td>\n",
       "      <td>2</td>\n",
       "      <td>1</td>\n",
       "    </tr>\n",
       "    <tr>\n",
       "      <th>15215</th>\n",
       "      <td>15216</td>\n",
       "      <td>-29.083700</td>\n",
       "      <td>-13.257500</td>\n",
       "      <td>-461.166992</td>\n",
       "      <td>8</td>\n",
       "      <td>2</td>\n",
       "      <td>2</td>\n",
       "    </tr>\n",
       "    <tr>\n",
       "      <th>15216</th>\n",
       "      <td>15217</td>\n",
       "      <td>-17.472500</td>\n",
       "      <td>-25.547300</td>\n",
       "      <td>-477.484985</td>\n",
       "      <td>8</td>\n",
       "      <td>2</td>\n",
       "      <td>3</td>\n",
       "    </tr>\n",
       "    <tr>\n",
       "      <th>15217</th>\n",
       "      <td>15218</td>\n",
       "      <td>-19.716000</td>\n",
       "      <td>-24.466200</td>\n",
       "      <td>-468.579010</td>\n",
       "      <td>8</td>\n",
       "      <td>2</td>\n",
       "      <td>3</td>\n",
       "    </tr>\n",
       "    <tr>\n",
       "      <th>...</th>\n",
       "      <td>...</td>\n",
       "      <td>...</td>\n",
       "      <td>...</td>\n",
       "      <td>...</td>\n",
       "      <td>...</td>\n",
       "      <td>...</td>\n",
       "      <td>...</td>\n",
       "    </tr>\n",
       "    <tr>\n",
       "      <th>41449</th>\n",
       "      <td>41450</td>\n",
       "      <td>-167.143997</td>\n",
       "      <td>37.557201</td>\n",
       "      <td>483.890015</td>\n",
       "      <td>8</td>\n",
       "      <td>8</td>\n",
       "      <td>1090</td>\n",
       "    </tr>\n",
       "    <tr>\n",
       "      <th>41450</th>\n",
       "      <td>41451</td>\n",
       "      <td>-169.589996</td>\n",
       "      <td>26.515100</td>\n",
       "      <td>423.203003</td>\n",
       "      <td>8</td>\n",
       "      <td>8</td>\n",
       "      <td>1091</td>\n",
       "    </tr>\n",
       "    <tr>\n",
       "      <th>41451</th>\n",
       "      <td>41452</td>\n",
       "      <td>-169.440002</td>\n",
       "      <td>18.709600</td>\n",
       "      <td>419.201996</td>\n",
       "      <td>8</td>\n",
       "      <td>8</td>\n",
       "      <td>1091</td>\n",
       "    </tr>\n",
       "    <tr>\n",
       "      <th>41452</th>\n",
       "      <td>41453</td>\n",
       "      <td>-169.417999</td>\n",
       "      <td>17.547100</td>\n",
       "      <td>430.428009</td>\n",
       "      <td>8</td>\n",
       "      <td>8</td>\n",
       "      <td>1091</td>\n",
       "    </tr>\n",
       "    <tr>\n",
       "      <th>41453</th>\n",
       "      <td>41454</td>\n",
       "      <td>-170.050995</td>\n",
       "      <td>2.318630</td>\n",
       "      <td>483.808990</td>\n",
       "      <td>8</td>\n",
       "      <td>8</td>\n",
       "      <td>1092</td>\n",
       "    </tr>\n",
       "  </tbody>\n",
       "</table>\n",
       "<p>26241 rows × 7 columns</p>\n",
       "</div>"
      ],
      "text/plain": [
       "       hit_id           x          y           z  volume_id  layer_id  \\\n",
       "15213   15214  -31.226700  -3.586000 -474.190002          8         2   \n",
       "15214   15215  -31.626598  -2.442120 -454.467987          8         2   \n",
       "15215   15216  -29.083700 -13.257500 -461.166992          8         2   \n",
       "15216   15217  -17.472500 -25.547300 -477.484985          8         2   \n",
       "15217   15218  -19.716000 -24.466200 -468.579010          8         2   \n",
       "...       ...         ...        ...         ...        ...       ...   \n",
       "41449   41450 -167.143997  37.557201  483.890015          8         8   \n",
       "41450   41451 -169.589996  26.515100  423.203003          8         8   \n",
       "41451   41452 -169.440002  18.709600  419.201996          8         8   \n",
       "41452   41453 -169.417999  17.547100  430.428009          8         8   \n",
       "41453   41454 -170.050995   2.318630  483.808990          8         8   \n",
       "\n",
       "       module_id  \n",
       "15213          1  \n",
       "15214          1  \n",
       "15215          2  \n",
       "15216          3  \n",
       "15217          3  \n",
       "...          ...  \n",
       "41449       1090  \n",
       "41450       1091  \n",
       "41451       1091  \n",
       "41452       1091  \n",
       "41453       1092  \n",
       "\n",
       "[26241 rows x 7 columns]"
      ]
     },
     "execution_count": 23,
     "metadata": {},
     "output_type": "execute_result"
    }
   ],
   "source": [
    "# h,c,p,t = trackml.dataset.load_event(f\"/global/cfs/projectdirs/m3443/usr/caditi97/iml2020/misaligned/new_mis/shift_xy_v8/1/{eventid}\")\n",
    "# h[h['volume_id'] == 8]"
   ]
  },
  {
   "cell_type": "markdown",
   "metadata": {},
   "source": [
    "# Shift x coordinate of endcap volume 12"
   ]
  },
  {
   "cell_type": "code",
   "execution_count": 24,
   "metadata": {
    "jupyter": {
     "source_hidden": true
    }
   },
   "outputs": [],
   "source": [
    "# def shift_x_v12(hits,cells,particles,truth,store_dir,ev,mis):\n",
    "    \n",
    "#     # 1000 micron = 1 milimeter\n",
    "#     # two directions\n",
    "# #     hits.loc[(hits['volume_id']==8) & (hits['x']<0), 'x'] = hits[hits['volume_id']==8]['x']-mis\n",
    "# #     hits.loc[(hits['volume_id']==8) & (hits['x']>0), 'x'] = hits[hits['volume_id']==8]['x']+mis\n",
    "# #     hits.loc[(hits['volume_id']==8) & (hits['y']<0), 'x'] = hits[hits['volume_id']==8]['y']-mis\n",
    "# #     hits.loc[(hits['volume_id']==8) & (hits['y']>0), 'x'] = hits[hits['volume_id']==8]['y']+mis\n",
    "#     # one direction\n",
    "#     hits.loc[(hits['volume_id']==12), 'x'] = hits[hits['volume_id']==12]['x']+mis\n",
    "#     hits.loc[(hits['volume_id']==12), 'y'] = hits[hits['volume_id']==12]['y']+mis\n",
    "    \n",
    "#     name = f\"{store_dir}shift_x_v12/{mis}/event00000{ev}-\"\n",
    "    \n",
    "#     hits.to_csv(name+\"hits.csv\", index=False)\n",
    "#     cells.to_csv(name+\"cells.csv\", index=False)\n",
    "#     truth.to_csv(name+\"truth.csv\", index=False)\n",
    "#     particles.to_csv(name+\"particles.csv\", index=False)"
   ]
  },
  {
   "cell_type": "code",
   "execution_count": 25,
   "metadata": {
    "jupyter": {
     "source_hidden": true
    }
   },
   "outputs": [],
   "source": [
    "# for mis in misl:\n",
    "#     for evtid in evts:\n",
    "#         hits, cells, particles, truth = trackml.dataset.load_event(f\"{og_evts}event00000{str(evtid)}\")\n",
    "#         shift_x_v12(hits,cells,particles,truth,store_dir,evtid,mis)"
   ]
  },
  {
   "cell_type": "code",
   "execution_count": 26,
   "metadata": {
    "collapsed": true,
    "jupyter": {
     "outputs_hidden": true,
     "source_hidden": true
    }
   },
   "outputs": [
    {
     "data": {
      "text/html": [
       "<div>\n",
       "<style scoped>\n",
       "    .dataframe tbody tr th:only-of-type {\n",
       "        vertical-align: middle;\n",
       "    }\n",
       "\n",
       "    .dataframe tbody tr th {\n",
       "        vertical-align: top;\n",
       "    }\n",
       "\n",
       "    .dataframe thead th {\n",
       "        text-align: right;\n",
       "    }\n",
       "</style>\n",
       "<table border=\"1\" class=\"dataframe\">\n",
       "  <thead>\n",
       "    <tr style=\"text-align: right;\">\n",
       "      <th></th>\n",
       "      <th>hit_id</th>\n",
       "      <th>x</th>\n",
       "      <th>y</th>\n",
       "      <th>z</th>\n",
       "      <th>volume_id</th>\n",
       "      <th>layer_id</th>\n",
       "      <th>module_id</th>\n",
       "    </tr>\n",
       "  </thead>\n",
       "  <tbody>\n",
       "    <tr>\n",
       "      <th>56290</th>\n",
       "      <td>56291</td>\n",
       "      <td>-258.243988</td>\n",
       "      <td>-13.638600</td>\n",
       "      <td>-2948.5</td>\n",
       "      <td>12</td>\n",
       "      <td>2</td>\n",
       "      <td>1</td>\n",
       "    </tr>\n",
       "    <tr>\n",
       "      <th>56291</th>\n",
       "      <td>56292</td>\n",
       "      <td>-243.076996</td>\n",
       "      <td>-5.743410</td>\n",
       "      <td>-2948.5</td>\n",
       "      <td>12</td>\n",
       "      <td>2</td>\n",
       "      <td>1</td>\n",
       "    </tr>\n",
       "    <tr>\n",
       "      <th>56292</th>\n",
       "      <td>56293</td>\n",
       "      <td>-386.362000</td>\n",
       "      <td>-42.857399</td>\n",
       "      <td>-2948.5</td>\n",
       "      <td>12</td>\n",
       "      <td>2</td>\n",
       "      <td>1</td>\n",
       "    </tr>\n",
       "    <tr>\n",
       "      <th>56293</th>\n",
       "      <td>56294</td>\n",
       "      <td>-346.434998</td>\n",
       "      <td>-6.033630</td>\n",
       "      <td>-2948.5</td>\n",
       "      <td>12</td>\n",
       "      <td>2</td>\n",
       "      <td>1</td>\n",
       "    </tr>\n",
       "    <tr>\n",
       "      <th>56294</th>\n",
       "      <td>56295</td>\n",
       "      <td>-334.622986</td>\n",
       "      <td>-23.095699</td>\n",
       "      <td>-2948.5</td>\n",
       "      <td>12</td>\n",
       "      <td>2</td>\n",
       "      <td>1</td>\n",
       "    </tr>\n",
       "    <tr>\n",
       "      <th>...</th>\n",
       "      <td>...</td>\n",
       "      <td>...</td>\n",
       "      <td>...</td>\n",
       "      <td>...</td>\n",
       "      <td>...</td>\n",
       "      <td>...</td>\n",
       "      <td>...</td>\n",
       "    </tr>\n",
       "    <tr>\n",
       "      <th>63435</th>\n",
       "      <td>63436</td>\n",
       "      <td>-524.093994</td>\n",
       "      <td>45.137199</td>\n",
       "      <td>-1221.5</td>\n",
       "      <td>12</td>\n",
       "      <td>12</td>\n",
       "      <td>169</td>\n",
       "    </tr>\n",
       "    <tr>\n",
       "      <th>63436</th>\n",
       "      <td>63437</td>\n",
       "      <td>-550.841003</td>\n",
       "      <td>48.028000</td>\n",
       "      <td>-1215.5</td>\n",
       "      <td>12</td>\n",
       "      <td>12</td>\n",
       "      <td>170</td>\n",
       "    </tr>\n",
       "    <tr>\n",
       "      <th>63437</th>\n",
       "      <td>63438</td>\n",
       "      <td>-683.362976</td>\n",
       "      <td>72.103302</td>\n",
       "      <td>-1215.5</td>\n",
       "      <td>12</td>\n",
       "      <td>12</td>\n",
       "      <td>170</td>\n",
       "    </tr>\n",
       "    <tr>\n",
       "      <th>63438</th>\n",
       "      <td>63439</td>\n",
       "      <td>-592.309021</td>\n",
       "      <td>21.067900</td>\n",
       "      <td>-1215.5</td>\n",
       "      <td>12</td>\n",
       "      <td>12</td>\n",
       "      <td>170</td>\n",
       "    </tr>\n",
       "    <tr>\n",
       "      <th>63439</th>\n",
       "      <td>63440</td>\n",
       "      <td>-545.922974</td>\n",
       "      <td>11.947800</td>\n",
       "      <td>-1215.5</td>\n",
       "      <td>12</td>\n",
       "      <td>12</td>\n",
       "      <td>170</td>\n",
       "    </tr>\n",
       "  </tbody>\n",
       "</table>\n",
       "<p>7150 rows × 7 columns</p>\n",
       "</div>"
      ],
      "text/plain": [
       "       hit_id           x          y       z  volume_id  layer_id  module_id\n",
       "56290   56291 -258.243988 -13.638600 -2948.5         12         2          1\n",
       "56291   56292 -243.076996  -5.743410 -2948.5         12         2          1\n",
       "56292   56293 -386.362000 -42.857399 -2948.5         12         2          1\n",
       "56293   56294 -346.434998  -6.033630 -2948.5         12         2          1\n",
       "56294   56295 -334.622986 -23.095699 -2948.5         12         2          1\n",
       "...       ...         ...        ...     ...        ...       ...        ...\n",
       "63435   63436 -524.093994  45.137199 -1221.5         12        12        169\n",
       "63436   63437 -550.841003  48.028000 -1215.5         12        12        170\n",
       "63437   63438 -683.362976  72.103302 -1215.5         12        12        170\n",
       "63438   63439 -592.309021  21.067900 -1215.5         12        12        170\n",
       "63439   63440 -545.922974  11.947800 -1215.5         12        12        170\n",
       "\n",
       "[7150 rows x 7 columns]"
      ]
     },
     "execution_count": 26,
     "metadata": {},
     "output_type": "execute_result"
    }
   ],
   "source": [
    "# oh,oc,op,ot = trackml.dataset.load_event(f\"{og_evts}{eventid}\")\n",
    "# oh[oh['volume_id'] == 12]"
   ]
  },
  {
   "cell_type": "code",
   "execution_count": 27,
   "metadata": {
    "jupyter": {
     "source_hidden": true
    }
   },
   "outputs": [],
   "source": [
    "# h,c,p,t = trackml.dataset.load_event(f\"/global/cfs/projectdirs/m3443/usr/caditi97/iml2020/misaligned/new_mis/shift_x_v12/1/{eventid}\")\n",
    "# h[h['volume_id'] == 12]"
   ]
  },
  {
   "cell_type": "code",
   "execution_count": 6,
   "metadata": {},
   "outputs": [],
   "source": [
    "def shift(hits,cells,particles,truth,store_dir,ev,mis,vol):\n",
    "    \n",
    "    hits.loc[(hits['volume_id']==vol), f'x'] = hits[hits['volume_id']==vol][f'x']+mis\n",
    "    \n",
    "    name = f\"{store_dir}shift_x_{vol}/{mis}\"\n",
    "    Path(name).mkdir(parents=True, exist_ok=True)\n",
    "    name = name + f'/event00000{ev}-'\n",
    "    \n",
    "    hits.to_csv(name+\"hits.csv\", index=False)\n",
    "    cells.to_csv(name+\"cells.csv\", index=False)\n",
    "    truth.to_csv(name+\"truth.csv\", index=False)\n",
    "    particles.to_csv(name+\"particles.csv\", index=False)"
   ]
  },
  {
   "cell_type": "code",
   "execution_count": 7,
   "metadata": {},
   "outputs": [],
   "source": [
    "vols = [7,8,9,12,13,14,16,17,18]\n",
    "misl = [0.4,0.6,0.8,1]\n",
    "evts = np.arange(1000,1050,1)"
   ]
  },
  {
   "cell_type": "markdown",
   "metadata": {},
   "source": [
    "# Shift x of all volume by 0 to 1 mm"
   ]
  },
  {
   "cell_type": "code",
   "execution_count": 8,
   "metadata": {},
   "outputs": [
    {
     "name": "stderr",
     "output_type": "stream",
     "text": [
      "  0%|          | 0/4 [00:00<?, ?it/s]"
     ]
    },
    {
     "name": "stdout",
     "output_type": "stream",
     "text": [
      "------ 0.4 ------\n"
     ]
    },
    {
     "data": {
      "application/vnd.jupyter.widget-view+json": {
       "model_id": "8c4f62fde2d64aaea78b10de4726af79",
       "version_major": 2,
       "version_minor": 0
      },
      "text/plain": [
       "HBox(children=(FloatProgress(value=0.0, max=50.0), HTML(value='')))"
      ]
     },
     "metadata": {},
     "output_type": "display_data"
    },
    {
     "name": "stderr",
     "output_type": "stream",
     "text": [
      " 25%|██▌       | 1/4 [20:15<1:00:47, 1215.91s/it]"
     ]
    },
    {
     "name": "stdout",
     "output_type": "stream",
     "text": [
      "\n",
      "------ 0.6 ------\n"
     ]
    },
    {
     "data": {
      "application/vnd.jupyter.widget-view+json": {
       "model_id": "03da927376514224b7da3f3145079194",
       "version_major": 2,
       "version_minor": 0
      },
      "text/plain": [
       "HBox(children=(FloatProgress(value=0.0, max=50.0), HTML(value='')))"
      ]
     },
     "metadata": {},
     "output_type": "display_data"
    },
    {
     "name": "stderr",
     "output_type": "stream",
     "text": [
      " 50%|█████     | 2/4 [40:15<40:22, 1211.11s/it]  "
     ]
    },
    {
     "name": "stdout",
     "output_type": "stream",
     "text": [
      "\n",
      "------ 0.8 ------\n"
     ]
    },
    {
     "data": {
      "application/vnd.jupyter.widget-view+json": {
       "model_id": "16635a4205ba4448a0584762a950ea10",
       "version_major": 2,
       "version_minor": 0
      },
      "text/plain": [
       "HBox(children=(FloatProgress(value=0.0, max=50.0), HTML(value='')))"
      ]
     },
     "metadata": {},
     "output_type": "display_data"
    },
    {
     "name": "stderr",
     "output_type": "stream",
     "text": [
      " 75%|███████▌  | 3/4 [1:01:14<20:25, 1225.26s/it]"
     ]
    },
    {
     "name": "stdout",
     "output_type": "stream",
     "text": [
      "\n",
      "------ 1 ------\n"
     ]
    },
    {
     "data": {
      "application/vnd.jupyter.widget-view+json": {
       "model_id": "ce7189d95cc64f70b7157e09ed2bb87e",
       "version_major": 2,
       "version_minor": 0
      },
      "text/plain": [
       "HBox(children=(FloatProgress(value=0.0, max=50.0), HTML(value='')))"
      ]
     },
     "metadata": {},
     "output_type": "display_data"
    },
    {
     "name": "stderr",
     "output_type": "stream",
     "text": [
      "100%|██████████| 4/4 [1:21:23<00:00, 1220.81s/it]"
     ]
    },
    {
     "name": "stdout",
     "output_type": "stream",
     "text": [
      "\n"
     ]
    },
    {
     "name": "stderr",
     "output_type": "stream",
     "text": [
      "\n"
     ]
    }
   ],
   "source": [
    "for mis in tqdm(misl):\n",
    "    print(f\"------ {mis} ------\")\n",
    "    for evtid in tq.tqdm(evts):\n",
    "        for vol in vols:\n",
    "            hits, cells, particles, truth = trackml.dataset.load_event(f\"{event_path}event00000{str(evtid)}\")\n",
    "            shift(hits,cells,particles,truth,store_dir,evtid,mis,vol)"
   ]
  },
  {
   "cell_type": "code",
   "execution_count": null,
   "metadata": {},
   "outputs": [],
   "source": []
  }
 ],
 "metadata": {
  "kernelspec": {
   "display_name": "exatrkx-iml",
   "language": "python",
   "name": "exatrkx-iml"
  },
  "language_info": {
   "codemirror_mode": {
    "name": "ipython",
    "version": 3
   },
   "file_extension": ".py",
   "mimetype": "text/x-python",
   "name": "python",
   "nbconvert_exporter": "python",
   "pygments_lexer": "ipython3",
   "version": "3.7.6"
  }
 },
 "nbformat": 4,
 "nbformat_minor": 4
}
