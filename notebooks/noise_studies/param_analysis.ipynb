{
 "cells": [
  {
   "cell_type": "code",
   "execution_count": 1,
   "metadata": {},
   "outputs": [],
   "source": [
    "import os\n",
    "os.environ['TRKXINPUTDIR']=\"/global/cfs/projectdirs/atlas/xju/heptrkx/trackml_inputs/train_all\"\n",
    "os.environ['TRKXOUTPUTDIR']= \"/global/cfs/projectdirs/m3443/usr/caditi97/iml2020/outtest\" "
   ]
  },
  {
   "cell_type": "code",
   "execution_count": 2,
   "metadata": {},
   "outputs": [],
   "source": [
    "import pkg_resources\n",
    "import yaml\n",
    "import pprint\n",
    "import random\n",
    "import time\n",
    "import pickle\n",
    "random.seed(1234)\n",
    "import numpy as np\n",
    "import pandas as pd\n",
    "import itertools\n",
    "import matplotlib.pyplot as plt\n",
    "from tqdm import tqdm\n",
    "from os import listdir\n",
    "from os.path import isfile, join\n",
    "import matplotlib.cm as cm\n",
    "import sys\n",
    "import warnings\n",
    "warnings.filterwarnings('ignore')\n",
    "from os import listdir\n",
    "from os.path import isfile, join\n",
    "import gc\n",
    "\n",
    "# %matplotlib widget\n",
    "\n",
    "sys.path.append('/global/homes/c/caditi97/exatrkx-iml2020/exatrkx/src/')\n",
    "\n",
    "# 3rd party\n",
    "import torch\n",
    "import torch.nn.functional as F\n",
    "from torch_geometric.data import Data\n",
    "from trackml.dataset import load_event\n",
    "from pytorch_lightning import Trainer\n",
    "from pytorch_lightning.callbacks import ModelCheckpoint\n",
    "\n",
    "\n",
    "# local import\n",
    "from exatrkx import config_dict # for accessing predefined configuration files\n",
    "from exatrkx import outdir_dict # for accessing predefined output directories\n",
    "from exatrkx.src import utils_dir\n",
    "from exatrkx.src import utils_robust\n",
    "from utils_robust import *\n",
    "\n",
    "\n",
    "# for preprocessing\n",
    "from exatrkx import FeatureStore\n",
    "from exatrkx.src import utils_torch\n",
    "\n",
    "# for embedding\n",
    "from exatrkx import LayerlessEmbedding\n",
    "from exatrkx.src import utils_torch\n",
    "from torch_cluster import radius_graph\n",
    "from utils_torch import build_edges\n",
    "from embedding.embedding_base import *\n",
    "\n",
    "# for filtering\n",
    "from exatrkx import VanillaFilter\n",
    "\n",
    "# for GNN\n",
    "import tensorflow as tf\n",
    "from graph_nets import utils_tf\n",
    "from exatrkx import SegmentClassifier\n",
    "import sonnet as snt\n",
    "\n",
    "# for labeling\n",
    "from exatrkx.scripts.tracks_from_gnn import prepare as prepare_labeling\n",
    "from exatrkx.scripts.tracks_from_gnn import clustering as dbscan_clustering\n",
    "\n",
    "# track efficiency\n",
    "from trackml.score import _analyze_tracks\n",
    "from exatrkx.scripts.eval_reco_trkx import make_cmp_plot, pt_configs, eta_configs\n",
    "from functools import partial"
   ]
  },
  {
   "cell_type": "code",
   "execution_count": 3,
   "metadata": {},
   "outputs": [],
   "source": [
    "noise_keep = [\"0\",\"0.2\", \"0.4\", \"0.6\", \"0.8\", \"1\"]\n",
    "embed_ckpt_dir = '/global/cfs/cdirs/m3443/data/lightning_models/embedding/checkpoints/epoch=10.ckpt'\n",
    "filter_ckpt_dir = '/global/cfs/cdirs/m3443/data/lightning_models/filtering/checkpoints/epoch=92.ckpt'\n",
    "gnn_ckpt_dir = '/global/cfs/cdirs/m3443/data/lightning_models/gnn'\n",
    "plots_dir = '/global/homes/c/caditi97/exatrkx-iml2020/exatrkx/src/plots/run1000' # needs to change...\n",
    "ckpt_idx = -1 # which GNN checkpoint to load\n",
    "dbscan_epsilon, dbscan_minsamples = 0.25, 2 # hyperparameters for DBScan\n",
    "min_hits = 5 # minimum number of hits associated with a particle to define \"reconstructable particles\"\n",
    "frac_reco_matched, frac_truth_matched = 0.5, 0.5 # parameters for track matching"
   ]
  },
  {
   "cell_type": "code",
   "execution_count": 4,
   "metadata": {},
   "outputs": [
    {
     "data": {
      "text/plain": [
       "True"
      ]
     },
     "execution_count": 4,
     "metadata": {},
     "output_type": "execute_result"
    }
   ],
   "source": [
    "torch.cuda.is_available()"
   ]
  },
  {
   "cell_type": "code",
   "execution_count": 5,
   "metadata": {},
   "outputs": [],
   "source": [
    "def calc_evts(data_n,rval=1.7,kval=500):\n",
    "    matched_idx = []\n",
    "    peta = []\n",
    "    par_pt = []\n",
    "    total_times = []\n",
    "    build_edges = []\n",
    "    build_graphs = []\n",
    "    predict_times = []\n",
    "    filter_times = []\n",
    "    doub_pur = []\n",
    "    doub_eff = []\n",
    "    \n",
    "    for data in tqdm(data_n):\n",
    "        \n",
    "        #############################################\n",
    "        #                EMBEDDING                  #\n",
    "        #############################################\n",
    "        device = 'cuda' if torch.cuda.is_available() else 'cpu'\n",
    "        e_ckpt = torch.load(embed_ckpt_dir, map_location=device)\n",
    "        e_config = e_ckpt['hyper_parameters']\n",
    "        e_config['clustering'] = 'build_edges'\n",
    "        e_config['knn_val'] = kval\n",
    "        e_config['r_val'] = rval\n",
    "        e_model = LayerlessEmbedding(e_config).to(device)\n",
    "        e_model.load_state_dict(e_ckpt[\"state_dict\"])\n",
    "        e_model.eval()\n",
    "        \n",
    "        with torch.no_grad():\n",
    "            # had to move everything to device\n",
    "            spatial = e_model(torch.cat([data.cell_data.to(device), data.x.to(device)], axis=-1))\n",
    "            \n",
    "        #total_start = time.time()\n",
    "        \n",
    "        #############################################\n",
    "        #               BUILD EDGES                 #\n",
    "        #############################################\n",
    "        edges_start = time.time()\n",
    "        e_spatial = utils_torch.build_edges(spatial.to(device), e_model.hparams['r_val'], e_model.hparams['knn_val'])\n",
    "        edges_end = time.time()\n",
    "        \n",
    "        R_dist = torch.sqrt(data.x[:,0]**2 + data.x[:,2]**2) # distance away from origin...\n",
    "        e_spatial = e_spatial[:, (R_dist[e_spatial[0]] <= R_dist[e_spatial[1]])]\n",
    "        \n",
    "        #############################################\n",
    "        #              DOUBLET METRICS              #\n",
    "        #############################################\n",
    "        e_bidir = torch.cat([data.layerless_true_edges,torch.stack([data.layerless_true_edges[1],\n",
    "                        data.layerless_true_edges[0]], axis=1).T], axis=-1)\n",
    "        # did not have to convert e_spatail to tensor??\n",
    "        e_spatial_n, y_cluster = graph_intersection(e_spatial, e_bidir)\n",
    "        cluster_true = len(data.layerless_true_edges[0])\n",
    "        cluster_true_positive = y_cluster.sum()\n",
    "        cluster_positive = len(e_spatial_n[0])\n",
    "        pur = cluster_true_positive/cluster_positive\n",
    "        eff = cluster_true_positive/cluster_true      \n",
    "        \n",
    "        #############################################\n",
    "        #                  FILTER                   #\n",
    "        #############################################\n",
    "        f_ckpt = torch.load(filter_ckpt_dir, map_location='cpu')\n",
    "        f_config = f_ckpt['hyper_parameters']\n",
    "        f_config['train_split'] = [0, 0, 1]\n",
    "        f_config['filter_cut'] = 0.18\n",
    "\n",
    "        f_model = VanillaFilter(f_config).to(device)\n",
    "        f_model.load_state_dict(f_ckpt['state_dict'])\n",
    "        f_model.eval()\n",
    "        \n",
    "        filter_start = time.time()\n",
    "        emb = None # embedding information was not used in the filtering stage.\n",
    "        chunks = 10\n",
    "        output_list = []\n",
    "        for j in range(chunks):\n",
    "            subset_ind = torch.chunk(torch.arange(e_spatial.shape[1]), chunks)[j]\n",
    "            with torch.no_grad():\n",
    "                output = f_model(torch.cat([data.cell_data.to(device), data.x.to(device)], axis=-1), e_spatial[:, subset_ind], emb).squeeze()  #.to(device)\n",
    "            output_list.append(output)\n",
    "            del subset_ind\n",
    "            del output\n",
    "            gc.collect()\n",
    "        output = torch.cat(output_list)\n",
    "        output = torch.sigmoid(output)\n",
    "\n",
    "        # The filtering network assigns a score to each edge. \n",
    "        # In the end, edges with socres > `filter_cut` are selected to construct graphs.\n",
    "        # edge_list = e_spatial[:, output.to('cpu') > f_model.hparams['filter_cut']]\n",
    "        edge_list = e_spatial[:, output > f_model.hparams['filter_cut']]\n",
    "        filter_end = time.time()\n",
    "\n",
    "        #############################################\n",
    "        #               BUILD GRAPH                 #\n",
    "        #############################################\n",
    "        # ### Form a graph\n",
    "        # Now moving TensorFlow for GNN inference.\n",
    "        n_nodes = data.x.shape[0]\n",
    "        n_edges = edge_list.shape[1]\n",
    "        nodes = data.x.cpu().numpy().astype(np.float32)\n",
    "        edges = np.zeros((n_edges, 1), dtype=np.float32)\n",
    "        senders = edge_list[0].cpu()\n",
    "        receivers = edge_list[1].cpu()\n",
    "\n",
    "        input_datadict = {\n",
    "            \"n_node\": n_nodes,\n",
    "            \"n_edge\": n_edges,\n",
    "            \"nodes\": nodes,\n",
    "            \"edges\": edges,\n",
    "            \"senders\": senders,\n",
    "            \"receivers\": receivers,\n",
    "            \"globals\": np.array([n_nodes], dtype=np.float32)\n",
    "        }\n",
    "\n",
    "        input_graph = utils_tf.data_dicts_to_graphs_tuple([input_datadict])\n",
    "\n",
    "        num_processing_steps_tr = 8\n",
    "        optimizer = snt.optimizers.Adam(0.001)\n",
    "        model = SegmentClassifier()\n",
    "\n",
    "        output_dir = gnn_ckpt_dir\n",
    "        checkpoint = tf.train.Checkpoint(optimizer=optimizer, model=model)\n",
    "        ckpt_manager = tf.train.CheckpointManager(checkpoint, directory=output_dir, max_to_keep=10)\n",
    "        status = checkpoint.restore(ckpt_manager.checkpoints[ckpt_idx]).expect_partial()\n",
    "\n",
    "        # clean up GPU memory\n",
    "        del e_spatial\n",
    "        del e_model\n",
    "        del f_model\n",
    "        gc.collect()\n",
    "        if device == 'cuda':\n",
    "            torch.cuda.empty_cache()\n",
    "\n",
    "        graph_start = time.time()\n",
    "        outputs_gnn = model(input_graph, num_processing_steps_tr)\n",
    "        output_graph = outputs_gnn[-1]\n",
    "        graph_end = time.time()\n",
    "        \n",
    "        #############################################\n",
    "        #             TRACK LABELLING               #\n",
    "        #############################################\n",
    "        predict_start = time.time()\n",
    "        input_matrix = prepare_labeling(tf.squeeze(output_graph.edges).cpu().numpy(), senders, receivers, n_nodes)\n",
    "        predict_tracks = dbscan_clustering(data.hid.cpu(), input_matrix, dbscan_epsilon, dbscan_minsamples)\n",
    "        # trkx_groups = predict_track_df.groupby(['track_id'])\n",
    "        # all_trk_ids = np.unique(predict_track_df.track_id)\n",
    "        # n_trkxs = all_trk_ids.shape[0]\n",
    "        # predict_tracks = [trkx_groups.get_group(all_trk_ids[idx])['hit_id'].to_numpy().tolist() for idx in range(n_trkxs)]\n",
    "        predict_end = time.time()\n",
    "          \n",
    "        \n",
    "        #############################################\n",
    "        #            END-TO-END METRICS             #\n",
    "        #############################################\n",
    "        evt_path = data.event_file\n",
    "        m_idx, pt, p_pt = track_eff(evt_path, predict_tracks,min_hits,frac_reco_matched, frac_truth_matched)\n",
    "        \n",
    "        #total_end = time.time()\n",
    "        \n",
    "        #############################################\n",
    "        #               SAVE TO LIST                #\n",
    "        #############################################\n",
    "        \n",
    "        #total_times.append(total_end-total_start)\n",
    "        build_edges.append(edges_end-edges_start)\n",
    "        predict_times.append(predict_end-predict_start)\n",
    "        filter_times.append(filter_end-filter_start)\n",
    "        build_graphs.append(graph_end-graph_start)\n",
    "        \n",
    "        matched_idx.append(m_idx)\n",
    "        peta.append(pt)\n",
    "        par_pt.append(p_pt)\n",
    "        \n",
    "        doub_pur.append(pur)\n",
    "        doub_eff.append(eff)\n",
    "        \n",
    "    this_dict = {\n",
    "        'matched_idx' : matched_idx,\n",
    "        'peta' : peta,\n",
    "        'par_pt' : par_pt,\n",
    "        'doublet_purity' : doub_pur,\n",
    "        'doublet_efficiency' : doub_eff,\n",
    "        #'total_times' : total_times,\n",
    "        'build_edges' : build_edges,\n",
    "        'build_graphs' : build_graphs,\n",
    "        'filter_times' : filter_times,\n",
    "        'predict_times' : predict_times\n",
    "    }\n",
    "    \n",
    "    return this_dict"
   ]
  },
  {
   "cell_type": "code",
   "execution_count": 6,
   "metadata": {},
   "outputs": [],
   "source": [
    "def create_pickle(data_n,rval=1.7,kval=500):\n",
    "    dictn = calc_evts(data_n,rval,kval)\n",
    "    with open(f'/global/cfs/projectdirs/m3443/usr/caditi97/iml2020/val/lists_n{rval}.pickle', 'wb') as handle:\n",
    "        pickle.dump(dictn, handle)"
   ]
  },
  {
   "cell_type": "code",
   "execution_count": 42,
   "metadata": {},
   "outputs": [],
   "source": [
    "def get_data_np(mypath):\n",
    "    onlyfiles = [f for f in listdir(mypath) if isfile(join(mypath, f))][:20]\n",
    "    data_n = []\n",
    "    for file in onlyfiles:\n",
    "        data = torch.load(join(mypath,file))\n",
    "        data_n.append(data)\n",
    "    return data_n"
   ]
  },
  {
   "cell_type": "code",
   "execution_count": 8,
   "metadata": {},
   "outputs": [],
   "source": [
    "def open_pickle(pickle_dir):\n",
    "    with open(pickle_dir, 'rb') as handle:\n",
    "        unpickler = pickle.Unpickler(handle)\n",
    "        b = unpickler.load()\n",
    "    return b"
   ]
  },
  {
   "cell_type": "code",
   "execution_count": 9,
   "metadata": {},
   "outputs": [],
   "source": [
    "r_vals = np.arange(1,2,0.1)\n",
    "knn_vals = np.arange(400,501,10)"
   ]
  },
  {
   "cell_type": "code",
   "execution_count": 10,
   "metadata": {},
   "outputs": [],
   "source": [
    "noise_dir = f'/global/cfs/projectdirs/m3443/usr/caditi97/iml2020/layerless_check/n1/feature_store'\n",
    "data_n = get_data_np(noise_dir)"
   ]
  },
  {
   "cell_type": "code",
   "execution_count": 11,
   "metadata": {
    "collapsed": true,
    "jupyter": {
     "outputs_hidden": true
    }
   },
   "outputs": [
    {
     "name": "stderr",
     "output_type": "stream",
     "text": [
      "  0%|          | 0/5 [00:00<?, ?it/s]"
     ]
    },
    {
     "name": "stdout",
     "output_type": "stream",
     "text": [
      "------ r_val 1.0------\n",
      "WARNING:tensorflow:From <ipython-input-5-da9a17efafca>:140: _EagerTensorBase.cpu (from tensorflow.python.framework.ops) is deprecated and will be removed in a future version.\n",
      "Instructions for updating:\n",
      "Use tf.identity instead.\n"
     ]
    },
    {
     "name": "stderr",
     "output_type": "stream",
     "text": [
      "100%|██████████| 5/5 [01:20<00:00, 16.01s/it]\n",
      "  0%|          | 0/5 [00:00<?, ?it/s]"
     ]
    },
    {
     "name": "stdout",
     "output_type": "stream",
     "text": [
      "--------------------\n",
      "------ r_val 1.1------\n"
     ]
    },
    {
     "name": "stderr",
     "output_type": "stream",
     "text": [
      "100%|██████████| 5/5 [01:26<00:00, 17.27s/it]\n",
      "  0%|          | 0/5 [00:00<?, ?it/s]"
     ]
    },
    {
     "name": "stdout",
     "output_type": "stream",
     "text": [
      "--------------------\n",
      "------ r_val 1.2000000000000002------\n"
     ]
    },
    {
     "name": "stderr",
     "output_type": "stream",
     "text": [
      "100%|██████████| 5/5 [01:38<00:00, 19.71s/it]\n",
      "  0%|          | 0/5 [00:00<?, ?it/s]"
     ]
    },
    {
     "name": "stdout",
     "output_type": "stream",
     "text": [
      "--------------------\n",
      "------ r_val 1.3000000000000003------\n"
     ]
    },
    {
     "name": "stderr",
     "output_type": "stream",
     "text": [
      "100%|██████████| 5/5 [02:02<00:00, 24.53s/it]\n",
      "  0%|          | 0/5 [00:00<?, ?it/s]"
     ]
    },
    {
     "name": "stdout",
     "output_type": "stream",
     "text": [
      "--------------------\n",
      "------ r_val 1.4000000000000004------\n"
     ]
    },
    {
     "name": "stderr",
     "output_type": "stream",
     "text": [
      "100%|██████████| 5/5 [02:31<00:00, 30.38s/it]\n",
      "  0%|          | 0/5 [00:00<?, ?it/s]"
     ]
    },
    {
     "name": "stdout",
     "output_type": "stream",
     "text": [
      "--------------------\n",
      "------ r_val 1.5000000000000004------\n"
     ]
    },
    {
     "name": "stderr",
     "output_type": "stream",
     "text": [
      "100%|██████████| 5/5 [03:08<00:00, 37.60s/it]\n",
      "  0%|          | 0/5 [00:00<?, ?it/s]"
     ]
    },
    {
     "name": "stdout",
     "output_type": "stream",
     "text": [
      "--------------------\n",
      "------ r_val 1.6000000000000005------\n"
     ]
    },
    {
     "name": "stderr",
     "output_type": "stream",
     "text": [
      "100%|██████████| 5/5 [03:49<00:00, 45.83s/it]\n",
      "  0%|          | 0/5 [00:00<?, ?it/s]"
     ]
    },
    {
     "name": "stdout",
     "output_type": "stream",
     "text": [
      "--------------------\n",
      "------ r_val 1.7000000000000006------\n"
     ]
    },
    {
     "name": "stderr",
     "output_type": "stream",
     "text": [
      "100%|██████████| 5/5 [04:26<00:00, 53.34s/it]\n",
      "  0%|          | 0/5 [00:00<?, ?it/s]"
     ]
    },
    {
     "name": "stdout",
     "output_type": "stream",
     "text": [
      "--------------------\n",
      "------ r_val 1.8000000000000007------\n"
     ]
    },
    {
     "name": "stderr",
     "output_type": "stream",
     "text": [
      "100%|██████████| 5/5 [05:58<00:00, 71.61s/it]\n",
      "  0%|          | 0/5 [00:00<?, ?it/s]"
     ]
    },
    {
     "name": "stdout",
     "output_type": "stream",
     "text": [
      "--------------------\n",
      "------ r_val 1.9000000000000008------\n"
     ]
    },
    {
     "name": "stderr",
     "output_type": "stream",
     "text": [
      "100%|██████████| 5/5 [08:29<00:00, 101.84s/it]"
     ]
    },
    {
     "name": "stdout",
     "output_type": "stream",
     "text": [
      "--------------------\n"
     ]
    },
    {
     "name": "stderr",
     "output_type": "stream",
     "text": [
      "\n"
     ]
    }
   ],
   "source": [
    "# for r in r_vals:\n",
    "#     print(f\"------ r_val {r}------\")\n",
    "#     create_pickle(data_n,rval=r)\n",
    "#     print(\"--------------------\")"
   ]
  },
  {
   "cell_type": "code",
   "execution_count": 43,
   "metadata": {},
   "outputs": [
    {
     "name": "stderr",
     "output_type": "stream",
     "text": [
      "  0%|          | 0/5 [00:01<?, ?it/s]\n"
     ]
    },
    {
     "ename": "RuntimeError",
     "evalue": "CUDA out of memory. Tried to allocate 760.00 MiB (GPU 0; 15.78 GiB total capacity; 1.52 GiB already allocated; 482.75 MiB free; 1.98 GiB reserved in total by PyTorch)",
     "output_type": "error",
     "traceback": [
      "\u001b[0;31m---------------------------------------------------------------------------\u001b[0m",
      "\u001b[0;31mRuntimeError\u001b[0m                              Traceback (most recent call last)",
      "\u001b[0;32m<ipython-input-43-20f798d53f56>\u001b[0m in \u001b[0;36m<module>\u001b[0;34m\u001b[0m\n\u001b[0;32m----> 1\u001b[0;31m \u001b[0mcreate_pickle\u001b[0m\u001b[0;34m(\u001b[0m\u001b[0mdata_n\u001b[0m\u001b[0;34m,\u001b[0m\u001b[0mrval\u001b[0m\u001b[0;34m=\u001b[0m\u001b[0;36m2.0\u001b[0m\u001b[0;34m)\u001b[0m\u001b[0;34m\u001b[0m\u001b[0;34m\u001b[0m\u001b[0m\n\u001b[0m",
      "\u001b[0;32m<ipython-input-6-1a86ff89aedc>\u001b[0m in \u001b[0;36mcreate_pickle\u001b[0;34m(data_n, rval, kval)\u001b[0m\n\u001b[1;32m      1\u001b[0m \u001b[0;32mdef\u001b[0m \u001b[0mcreate_pickle\u001b[0m\u001b[0;34m(\u001b[0m\u001b[0mdata_n\u001b[0m\u001b[0;34m,\u001b[0m\u001b[0mrval\u001b[0m\u001b[0;34m=\u001b[0m\u001b[0;36m1.7\u001b[0m\u001b[0;34m,\u001b[0m\u001b[0mkval\u001b[0m\u001b[0;34m=\u001b[0m\u001b[0;36m500\u001b[0m\u001b[0;34m)\u001b[0m\u001b[0;34m:\u001b[0m\u001b[0;34m\u001b[0m\u001b[0;34m\u001b[0m\u001b[0m\n\u001b[0;32m----> 2\u001b[0;31m     \u001b[0mdictn\u001b[0m \u001b[0;34m=\u001b[0m \u001b[0mcalc_evts\u001b[0m\u001b[0;34m(\u001b[0m\u001b[0mdata_n\u001b[0m\u001b[0;34m,\u001b[0m\u001b[0mrval\u001b[0m\u001b[0;34m,\u001b[0m\u001b[0mkval\u001b[0m\u001b[0;34m)\u001b[0m\u001b[0;34m\u001b[0m\u001b[0;34m\u001b[0m\u001b[0m\n\u001b[0m\u001b[1;32m      3\u001b[0m     \u001b[0;32mwith\u001b[0m \u001b[0mopen\u001b[0m\u001b[0;34m(\u001b[0m\u001b[0;34mf'/global/cfs/projectdirs/m3443/usr/caditi97/iml2020/val/lists_n{rval}.pickle'\u001b[0m\u001b[0;34m,\u001b[0m \u001b[0;34m'wb'\u001b[0m\u001b[0;34m)\u001b[0m \u001b[0;32mas\u001b[0m \u001b[0mhandle\u001b[0m\u001b[0;34m:\u001b[0m\u001b[0;34m\u001b[0m\u001b[0;34m\u001b[0m\u001b[0m\n\u001b[1;32m      4\u001b[0m         \u001b[0mpickle\u001b[0m\u001b[0;34m.\u001b[0m\u001b[0mdump\u001b[0m\u001b[0;34m(\u001b[0m\u001b[0mdictn\u001b[0m\u001b[0;34m,\u001b[0m \u001b[0mhandle\u001b[0m\u001b[0;34m)\u001b[0m\u001b[0;34m\u001b[0m\u001b[0;34m\u001b[0m\u001b[0m\n",
      "\u001b[0;32m<ipython-input-5-da9a17efafca>\u001b[0m in \u001b[0;36mcalc_evts\u001b[0;34m(data_n, rval, kval)\u001b[0m\n\u001b[1;32m     36\u001b[0m         \u001b[0;31m#############################################\u001b[0m\u001b[0;34m\u001b[0m\u001b[0;34m\u001b[0m\u001b[0;34m\u001b[0m\u001b[0m\n\u001b[1;32m     37\u001b[0m         \u001b[0medges_start\u001b[0m \u001b[0;34m=\u001b[0m \u001b[0mtime\u001b[0m\u001b[0;34m.\u001b[0m\u001b[0mtime\u001b[0m\u001b[0;34m(\u001b[0m\u001b[0;34m)\u001b[0m\u001b[0;34m\u001b[0m\u001b[0;34m\u001b[0m\u001b[0m\n\u001b[0;32m---> 38\u001b[0;31m         \u001b[0me_spatial\u001b[0m \u001b[0;34m=\u001b[0m \u001b[0mutils_torch\u001b[0m\u001b[0;34m.\u001b[0m\u001b[0mbuild_edges\u001b[0m\u001b[0;34m(\u001b[0m\u001b[0mspatial\u001b[0m\u001b[0;34m.\u001b[0m\u001b[0mto\u001b[0m\u001b[0;34m(\u001b[0m\u001b[0mdevice\u001b[0m\u001b[0;34m)\u001b[0m\u001b[0;34m,\u001b[0m \u001b[0me_model\u001b[0m\u001b[0;34m.\u001b[0m\u001b[0mhparams\u001b[0m\u001b[0;34m[\u001b[0m\u001b[0;34m'r_val'\u001b[0m\u001b[0;34m]\u001b[0m\u001b[0;34m,\u001b[0m \u001b[0me_model\u001b[0m\u001b[0;34m.\u001b[0m\u001b[0mhparams\u001b[0m\u001b[0;34m[\u001b[0m\u001b[0;34m'knn_val'\u001b[0m\u001b[0;34m]\u001b[0m\u001b[0;34m)\u001b[0m\u001b[0;34m\u001b[0m\u001b[0;34m\u001b[0m\u001b[0m\n\u001b[0m\u001b[1;32m     39\u001b[0m         \u001b[0medges_end\u001b[0m \u001b[0;34m=\u001b[0m \u001b[0mtime\u001b[0m\u001b[0;34m.\u001b[0m\u001b[0mtime\u001b[0m\u001b[0;34m(\u001b[0m\u001b[0;34m)\u001b[0m\u001b[0;34m\u001b[0m\u001b[0;34m\u001b[0m\u001b[0m\n\u001b[1;32m     40\u001b[0m \u001b[0;34m\u001b[0m\u001b[0m\n",
      "\u001b[0;32m/global/u2/c/caditi97/exatrkx-iml2020/exatrkx/src/utils_torch.py\u001b[0m in \u001b[0;36mbuild_edges\u001b[0;34m(spatial, r_max, k_max, return_indices)\u001b[0m\n\u001b[1;32m     46\u001b[0m     \u001b[0mind\u001b[0m \u001b[0;34m=\u001b[0m \u001b[0mtorch\u001b[0m\u001b[0;34m.\u001b[0m\u001b[0mTensor\u001b[0m\u001b[0;34m.\u001b[0m\u001b[0mrepeat\u001b[0m\u001b[0;34m(\u001b[0m\u001b[0mtorch\u001b[0m\u001b[0;34m.\u001b[0m\u001b[0marange\u001b[0m\u001b[0;34m(\u001b[0m\u001b[0mI\u001b[0m\u001b[0;34m.\u001b[0m\u001b[0mshape\u001b[0m\u001b[0;34m[\u001b[0m\u001b[0;36m0\u001b[0m\u001b[0;34m]\u001b[0m\u001b[0;34m)\u001b[0m\u001b[0;34m,\u001b[0m \u001b[0;34m(\u001b[0m\u001b[0mI\u001b[0m\u001b[0;34m.\u001b[0m\u001b[0mshape\u001b[0m\u001b[0;34m[\u001b[0m\u001b[0;36m1\u001b[0m\u001b[0;34m]\u001b[0m\u001b[0;34m,\u001b[0m \u001b[0;36m1\u001b[0m\u001b[0;34m)\u001b[0m\u001b[0;34m,\u001b[0m \u001b[0;36m1\u001b[0m\u001b[0;34m)\u001b[0m\u001b[0;34m.\u001b[0m\u001b[0mT\u001b[0m\u001b[0;34m.\u001b[0m\u001b[0mto\u001b[0m\u001b[0;34m(\u001b[0m\u001b[0mdevice\u001b[0m\u001b[0;34m)\u001b[0m\u001b[0;34m\u001b[0m\u001b[0;34m\u001b[0m\u001b[0m\n\u001b[1;32m     47\u001b[0m \u001b[0;34m\u001b[0m\u001b[0m\n\u001b[0;32m---> 48\u001b[0;31m     \u001b[0medge_list\u001b[0m \u001b[0;34m=\u001b[0m \u001b[0mtorch\u001b[0m\u001b[0;34m.\u001b[0m\u001b[0mstack\u001b[0m\u001b[0;34m(\u001b[0m\u001b[0;34m[\u001b[0m\u001b[0mind\u001b[0m\u001b[0;34m[\u001b[0m\u001b[0mD\u001b[0m \u001b[0;34m<=\u001b[0m \u001b[0mr_max\u001b[0m\u001b[0;34m**\u001b[0m\u001b[0;36m2\u001b[0m\u001b[0;34m]\u001b[0m\u001b[0;34m,\u001b[0m \u001b[0mI\u001b[0m\u001b[0;34m[\u001b[0m\u001b[0mD\u001b[0m \u001b[0;34m<=\u001b[0m \u001b[0mr_max\u001b[0m\u001b[0;34m**\u001b[0m\u001b[0;36m2\u001b[0m\u001b[0;34m]\u001b[0m\u001b[0;34m]\u001b[0m\u001b[0;34m)\u001b[0m\u001b[0;34m\u001b[0m\u001b[0;34m\u001b[0m\u001b[0m\n\u001b[0m\u001b[1;32m     49\u001b[0m \u001b[0;34m\u001b[0m\u001b[0m\n\u001b[1;32m     50\u001b[0m     \u001b[0;32mif\u001b[0m \u001b[0mreturn_indices\u001b[0m\u001b[0;34m:\u001b[0m\u001b[0;34m\u001b[0m\u001b[0;34m\u001b[0m\u001b[0m\n",
      "\u001b[0;31mRuntimeError\u001b[0m: CUDA out of memory. Tried to allocate 760.00 MiB (GPU 0; 15.78 GiB total capacity; 1.52 GiB already allocated; 482.75 MiB free; 1.98 GiB reserved in total by PyTorch)"
     ]
    }
   ],
   "source": [
    "create_pickle(data_n,rval=2.0)"
   ]
  },
  {
   "cell_type": "code",
   "execution_count": 23,
   "metadata": {},
   "outputs": [],
   "source": [
    "plt.rcParams.update({'axes.titlesize' : 16, 'axes.labelsize' : 16, 'lines.linewidth' : 2, 'lines.markersize' : 10,\n",
    "                    'xtick.labelsize' : 14, 'xtick.major.width' : 2,\n",
    "                    'ytick.labelsize' : 14, 'ytick.major.width' : 2,\n",
    "                    'grid.alpha' : 0.5, \"legend.frameon\" : False, 'legend.fontsize' : 16})"
   ]
  },
  {
   "cell_type": "code",
   "execution_count": 24,
   "metadata": {},
   "outputs": [],
   "source": [
    "def get_pickle_data(pickle_path,n):\n",
    "    list_data = {}\n",
    "\n",
    "    list_data[f'{n}'] = open_pickle(pickle_path)\n",
    "\n",
    "    d = list_data[f'{n}']\n",
    "\n",
    "    p = d['doublet_purity']\n",
    "    p = np.mean(p)\n",
    "\n",
    "    e = d['doublet_efficiency']\n",
    "    e = np.mean(e)\n",
    "    \n",
    "    b = d['build_edges']\n",
    "    b = np.mean(b)\n",
    "    \n",
    "    g = d['build_graphs']\n",
    "    g = np.mean(g)\n",
    "    \n",
    "    return p,e,b,g"
   ]
  },
  {
   "cell_type": "code",
   "execution_count": 29,
   "metadata": {},
   "outputs": [],
   "source": [
    "pur = []\n",
    "eff = []\n",
    "be = []\n",
    "gt = []\n",
    "for r in r_vals:\n",
    "    pickle_path = f\"/global/cfs/projectdirs/m3443/usr/caditi97/iml2020/val/lists_n{r}.pickle\"\n",
    "    p,e,b,g = get_pickle_data(pickle_path,r)\n",
    "    pur.append(p)\n",
    "    eff.append(e)\n",
    "    be.append(b)\n",
    "    gt.append(g)"
   ]
  },
  {
   "cell_type": "code",
   "execution_count": 37,
   "metadata": {},
   "outputs": [],
   "source": [
    "import pandas as pd\n",
    "from pandas import DataFrame as df\n"
   ]
  },
  {
   "cell_type": "code",
   "execution_count": 41,
   "metadata": {},
   "outputs": [
    {
     "data": {
      "text/html": [
       "<div>\n",
       "<style scoped>\n",
       "    .dataframe tbody tr th:only-of-type {\n",
       "        vertical-align: middle;\n",
       "    }\n",
       "\n",
       "    .dataframe tbody tr th {\n",
       "        vertical-align: top;\n",
       "    }\n",
       "\n",
       "    .dataframe thead th {\n",
       "        text-align: right;\n",
       "    }\n",
       "</style>\n",
       "<table border=\"1\" class=\"dataframe\">\n",
       "  <thead>\n",
       "    <tr style=\"text-align: right;\">\n",
       "      <th></th>\n",
       "      <th>r_val</th>\n",
       "      <th>Purity</th>\n",
       "      <th>Efficiency</th>\n",
       "      <th>Build Edges (s)</th>\n",
       "      <th>Build Graphs (s)</th>\n",
       "    </tr>\n",
       "  </thead>\n",
       "  <tbody>\n",
       "    <tr>\n",
       "      <th>0</th>\n",
       "      <td>1.0</td>\n",
       "      <td>0.113752</td>\n",
       "      <td>0.873765</td>\n",
       "      <td>0.857565</td>\n",
       "      <td>9.558240</td>\n",
       "    </tr>\n",
       "    <tr>\n",
       "      <th>1</th>\n",
       "      <td>1.1</td>\n",
       "      <td>0.075929</td>\n",
       "      <td>0.905177</td>\n",
       "      <td>0.722892</td>\n",
       "      <td>11.546320</td>\n",
       "    </tr>\n",
       "    <tr>\n",
       "      <th>2</th>\n",
       "      <td>1.2</td>\n",
       "      <td>0.049695</td>\n",
       "      <td>0.927167</td>\n",
       "      <td>0.702571</td>\n",
       "      <td>13.870653</td>\n",
       "    </tr>\n",
       "    <tr>\n",
       "      <th>3</th>\n",
       "      <td>1.3</td>\n",
       "      <td>0.032427</td>\n",
       "      <td>0.943087</td>\n",
       "      <td>0.725325</td>\n",
       "      <td>18.418355</td>\n",
       "    </tr>\n",
       "    <tr>\n",
       "      <th>4</th>\n",
       "      <td>1.4</td>\n",
       "      <td>0.021423</td>\n",
       "      <td>0.954794</td>\n",
       "      <td>0.730152</td>\n",
       "      <td>23.862278</td>\n",
       "    </tr>\n",
       "    <tr>\n",
       "      <th>5</th>\n",
       "      <td>1.5</td>\n",
       "      <td>0.014769</td>\n",
       "      <td>0.963565</td>\n",
       "      <td>0.761790</td>\n",
       "      <td>30.436123</td>\n",
       "    </tr>\n",
       "    <tr>\n",
       "      <th>6</th>\n",
       "      <td>1.6</td>\n",
       "      <td>0.010868</td>\n",
       "      <td>0.969652</td>\n",
       "      <td>0.759149</td>\n",
       "      <td>37.895290</td>\n",
       "    </tr>\n",
       "    <tr>\n",
       "      <th>7</th>\n",
       "      <td>1.7</td>\n",
       "      <td>0.008489</td>\n",
       "      <td>0.973461</td>\n",
       "      <td>0.719185</td>\n",
       "      <td>44.360780</td>\n",
       "    </tr>\n",
       "    <tr>\n",
       "      <th>8</th>\n",
       "      <td>1.8</td>\n",
       "      <td>0.006945</td>\n",
       "      <td>0.975648</td>\n",
       "      <td>0.757529</td>\n",
       "      <td>57.732125</td>\n",
       "    </tr>\n",
       "    <tr>\n",
       "      <th>9</th>\n",
       "      <td>1.9</td>\n",
       "      <td>0.005912</td>\n",
       "      <td>0.976991</td>\n",
       "      <td>0.764742</td>\n",
       "      <td>83.665907</td>\n",
       "    </tr>\n",
       "  </tbody>\n",
       "</table>\n",
       "</div>"
      ],
      "text/plain": [
       "   r_val    Purity  Efficiency  Build Edges (s)  Build Graphs (s)\n",
       "0    1.0  0.113752    0.873765         0.857565          9.558240\n",
       "1    1.1  0.075929    0.905177         0.722892         11.546320\n",
       "2    1.2  0.049695    0.927167         0.702571         13.870653\n",
       "3    1.3  0.032427    0.943087         0.725325         18.418355\n",
       "4    1.4  0.021423    0.954794         0.730152         23.862278\n",
       "5    1.5  0.014769    0.963565         0.761790         30.436123\n",
       "6    1.6  0.010868    0.969652         0.759149         37.895290\n",
       "7    1.7  0.008489    0.973461         0.719185         44.360780\n",
       "8    1.8  0.006945    0.975648         0.757529         57.732125\n",
       "9    1.9  0.005912    0.976991         0.764742         83.665907"
      ]
     },
     "execution_count": 41,
     "metadata": {},
     "output_type": "execute_result"
    }
   ],
   "source": [
    "d = {'r_val': r_vals, 'Purity' : pur, 'Efficiency' : eff, 'Build Edges (s)': be, 'Build Graphs (s)' : gt}\n",
    "table = df(data=d)\n",
    "table"
   ]
  },
  {
   "cell_type": "code",
   "execution_count": 32,
   "metadata": {},
   "outputs": [
    {
     "data": {
      "text/plain": [
       "Text(0.5, 0.98, 'Change in r_val at 20% noise')"
      ]
     },
     "execution_count": 32,
     "metadata": {},
     "output_type": "execute_result"
    },
    {
     "data": {
      "image/png": "[encoded data removed]",
      "text/plain": [
       "<Figure size 1080x1080 with 4 Axes>"
      ]
     },
     "metadata": {
      "needs_background": "light"
     },
     "output_type": "display_data"
    }
   ],
   "source": [
    "fig,ax = plt.subplots(2,2,figsize = (15,15))\n",
    "\n",
    "ax[0][0].plot(r_vals,pur)\n",
    "ax[0][0].set_xlabel('r_val')\n",
    "ax[0][0].set_ylabel('Purity')\n",
    "ax[0][0].set_xticks(r_vals)\n",
    "\n",
    "\n",
    "ax[0][1].plot(r_vals,eff)\n",
    "ax[0][1].set_xlabel('r_val')\n",
    "ax[0][1].set_ylabel('Efficiency')\n",
    "ax[0][1].set_xticks(r_vals)\n",
    "\n",
    "\n",
    "ax[1][0].plot(r_vals,be)\n",
    "ax[1][0].set_xlabel('r_val')\n",
    "ax[1][0].set_ylabel('Build Edges Wall Time (s)')\n",
    "ax[1][0].set_xticks(r_vals)\n",
    "\n",
    "\n",
    "ax[1][1].plot(r_vals,gt)\n",
    "ax[1][1].set_xlabel('r_val')\n",
    "ax[1][1].set_ylabel('Build Graphs Wall Time (s)')\n",
    "ax[1][1].set_xticks(r_vals)\n",
    "\n",
    "fig.suptitle(\"Change in r_val at 20% noise\")"
   ]
  },
  {
   "cell_type": "code",
   "execution_count": null,
   "metadata": {},
   "outputs": [],
   "source": []
  }
 ],
 "metadata": {
  "kernelspec": {
   "display_name": "exatrkx-iml",
   "language": "python",
   "name": "exatrkx-iml"
  },
  "language_info": {
   "codemirror_mode": {
    "name": "ipython",
    "version": 3
   },
   "file_extension": ".py",
   "mimetype": "text/x-python",
   "name": "python",
   "nbconvert_exporter": "python",
   "pygments_lexer": "ipython3",
   "version": "3.7.6"
  }
 },
 "nbformat": 4,
 "nbformat_minor": 4
}
