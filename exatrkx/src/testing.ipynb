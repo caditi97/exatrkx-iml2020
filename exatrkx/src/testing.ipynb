{
 "cells": [
  {
   "cell_type": "code",
   "execution_count": 1,
   "metadata": {},
   "outputs": [],
   "source": [
    "import trackml\n",
    "from trackml.dataset import load_event\n",
    "import sys\n",
    "import os\n",
    "sys.path.append('..')\n",
    "sys.path.append('/global/homes/c/caditi97/exatrkx-iml2020/exatrkx/src/')\n",
    "sys.path.append('/global/homes/c/caditi97/exatrkx-iml2020/exatrkx/src/tests')\n",
    "%matplotlib inline\n",
    "\n",
    "os.environ['TRKXINPUTDIR']=\"/global/cfs/cdirs/m3443/data/trackml-kaggle/train_10evts\"\n",
    "os.environ['TRKXOUTPUTDIR']= \"/global/cfs/projectdirs/m3443/usr/caditi97/iml2020/out0\"\n",
    "\n",
    "from utils_robust import *\n",
    "from gen_tests import*"
   ]
  },
  {
   "cell_type": "code",
   "execution_count": 2,
   "metadata": {},
   "outputs": [],
   "source": [
    "hits, cells, particles, truth = load_event('/global/cfs/cdirs/m3443/data/trackml-kaggle/train_10evts/event000001000')"
   ]
  },
  {
   "cell_type": "code",
   "execution_count": 3,
   "metadata": {},
   "outputs": [
    {
     "data": {
      "text/html": [
       "<div>\n",
       "<style scoped>\n",
       "    .dataframe tbody tr th:only-of-type {\n",
       "        vertical-align: middle;\n",
       "    }\n",
       "\n",
       "    .dataframe tbody tr th {\n",
       "        vertical-align: top;\n",
       "    }\n",
       "\n",
       "    .dataframe thead th {\n",
       "        text-align: right;\n",
       "    }\n",
       "</style>\n",
       "<table border=\"1\" class=\"dataframe\">\n",
       "  <thead>\n",
       "    <tr style=\"text-align: right;\">\n",
       "      <th></th>\n",
       "      <th>hit_id</th>\n",
       "      <th>x</th>\n",
       "      <th>y</th>\n",
       "      <th>z</th>\n",
       "      <th>volume_id</th>\n",
       "      <th>layer_id</th>\n",
       "      <th>module_id</th>\n",
       "    </tr>\n",
       "  </thead>\n",
       "  <tbody>\n",
       "    <tr>\n",
       "      <th>0</th>\n",
       "      <td>1</td>\n",
       "      <td>-64.409897</td>\n",
       "      <td>-7.163700</td>\n",
       "      <td>-1502.5</td>\n",
       "      <td>7</td>\n",
       "      <td>2</td>\n",
       "      <td>1</td>\n",
       "    </tr>\n",
       "    <tr>\n",
       "      <th>1</th>\n",
       "      <td>2</td>\n",
       "      <td>-55.336102</td>\n",
       "      <td>0.635342</td>\n",
       "      <td>-1502.5</td>\n",
       "      <td>7</td>\n",
       "      <td>2</td>\n",
       "      <td>1</td>\n",
       "    </tr>\n",
       "    <tr>\n",
       "      <th>2</th>\n",
       "      <td>3</td>\n",
       "      <td>-83.830498</td>\n",
       "      <td>-1.143010</td>\n",
       "      <td>-1502.5</td>\n",
       "      <td>7</td>\n",
       "      <td>2</td>\n",
       "      <td>1</td>\n",
       "    </tr>\n",
       "    <tr>\n",
       "      <th>3</th>\n",
       "      <td>4</td>\n",
       "      <td>-96.109100</td>\n",
       "      <td>-8.241030</td>\n",
       "      <td>-1502.5</td>\n",
       "      <td>7</td>\n",
       "      <td>2</td>\n",
       "      <td>1</td>\n",
       "    </tr>\n",
       "    <tr>\n",
       "      <th>4</th>\n",
       "      <td>5</td>\n",
       "      <td>-62.673599</td>\n",
       "      <td>-9.371200</td>\n",
       "      <td>-1502.5</td>\n",
       "      <td>7</td>\n",
       "      <td>2</td>\n",
       "      <td>1</td>\n",
       "    </tr>\n",
       "    <tr>\n",
       "      <th>...</th>\n",
       "      <td>...</td>\n",
       "      <td>...</td>\n",
       "      <td>...</td>\n",
       "      <td>...</td>\n",
       "      <td>...</td>\n",
       "      <td>...</td>\n",
       "      <td>...</td>\n",
       "    </tr>\n",
       "    <tr>\n",
       "      <th>120934</th>\n",
       "      <td>120935</td>\n",
       "      <td>-763.862976</td>\n",
       "      <td>51.569401</td>\n",
       "      <td>2944.5</td>\n",
       "      <td>18</td>\n",
       "      <td>12</td>\n",
       "      <td>97</td>\n",
       "    </tr>\n",
       "    <tr>\n",
       "      <th>120935</th>\n",
       "      <td>120936</td>\n",
       "      <td>-808.705017</td>\n",
       "      <td>3.459260</td>\n",
       "      <td>2944.5</td>\n",
       "      <td>18</td>\n",
       "      <td>12</td>\n",
       "      <td>97</td>\n",
       "    </tr>\n",
       "    <tr>\n",
       "      <th>120936</th>\n",
       "      <td>120937</td>\n",
       "      <td>-982.935974</td>\n",
       "      <td>41.460899</td>\n",
       "      <td>2952.5</td>\n",
       "      <td>18</td>\n",
       "      <td>12</td>\n",
       "      <td>98</td>\n",
       "    </tr>\n",
       "    <tr>\n",
       "      <th>120937</th>\n",
       "      <td>120938</td>\n",
       "      <td>-942.698975</td>\n",
       "      <td>18.489100</td>\n",
       "      <td>2952.5</td>\n",
       "      <td>18</td>\n",
       "      <td>12</td>\n",
       "      <td>98</td>\n",
       "    </tr>\n",
       "    <tr>\n",
       "      <th>120938</th>\n",
       "      <td>120939</td>\n",
       "      <td>-922.890015</td>\n",
       "      <td>2.092850</td>\n",
       "      <td>2952.5</td>\n",
       "      <td>18</td>\n",
       "      <td>12</td>\n",
       "      <td>98</td>\n",
       "    </tr>\n",
       "  </tbody>\n",
       "</table>\n",
       "<p>120939 rows × 7 columns</p>\n",
       "</div>"
      ],
      "text/plain": [
       "        hit_id           x          y       z  volume_id  layer_id  module_id\n",
       "0            1  -64.409897  -7.163700 -1502.5          7         2          1\n",
       "1            2  -55.336102   0.635342 -1502.5          7         2          1\n",
       "2            3  -83.830498  -1.143010 -1502.5          7         2          1\n",
       "3            4  -96.109100  -8.241030 -1502.5          7         2          1\n",
       "4            5  -62.673599  -9.371200 -1502.5          7         2          1\n",
       "...        ...         ...        ...     ...        ...       ...        ...\n",
       "120934  120935 -763.862976  51.569401  2944.5         18        12         97\n",
       "120935  120936 -808.705017   3.459260  2944.5         18        12         97\n",
       "120936  120937 -982.935974  41.460899  2952.5         18        12         98\n",
       "120937  120938 -942.698975  18.489100  2952.5         18        12         98\n",
       "120938  120939 -922.890015   2.092850  2952.5         18        12         98\n",
       "\n",
       "[120939 rows x 7 columns]"
      ]
     },
     "execution_count": 3,
     "metadata": {},
     "output_type": "execute_result"
    }
   ],
   "source": [
    "hits"
   ]
  },
  {
   "cell_type": "code",
   "execution_count": 4,
   "metadata": {},
   "outputs": [
    {
     "data": {
      "text/plain": [
       "True"
      ]
     },
     "execution_count": 4,
     "metadata": {},
     "output_type": "execute_result"
    }
   ],
   "source": [
    "(truth['hit_id'].values == hits['hit_id'].values).all()"
   ]
  },
  {
   "cell_type": "code",
   "execution_count": 5,
   "metadata": {},
   "outputs": [
    {
     "data": {
      "text/html": [
       "<div>\n",
       "<style scoped>\n",
       "    .dataframe tbody tr th:only-of-type {\n",
       "        vertical-align: middle;\n",
       "    }\n",
       "\n",
       "    .dataframe tbody tr th {\n",
       "        vertical-align: top;\n",
       "    }\n",
       "\n",
       "    .dataframe thead th {\n",
       "        text-align: right;\n",
       "    }\n",
       "</style>\n",
       "<table border=\"1\" class=\"dataframe\">\n",
       "  <thead>\n",
       "    <tr style=\"text-align: right;\">\n",
       "      <th></th>\n",
       "      <th>hit_id</th>\n",
       "      <th>particle_id</th>\n",
       "      <th>tx</th>\n",
       "      <th>ty</th>\n",
       "      <th>tz</th>\n",
       "      <th>tpx</th>\n",
       "      <th>tpy</th>\n",
       "      <th>tpz</th>\n",
       "      <th>weight</th>\n",
       "    </tr>\n",
       "  </thead>\n",
       "  <tbody>\n",
       "    <tr>\n",
       "      <th>0</th>\n",
       "      <td>1</td>\n",
       "      <td>0</td>\n",
       "      <td>-64.411598</td>\n",
       "      <td>-7.164120</td>\n",
       "      <td>-1502.5</td>\n",
       "      <td>250710.000000</td>\n",
       "      <td>-149908.000000</td>\n",
       "      <td>-956385.000000</td>\n",
       "      <td>0.000000</td>\n",
       "    </tr>\n",
       "    <tr>\n",
       "      <th>1</th>\n",
       "      <td>2</td>\n",
       "      <td>22525763437723648</td>\n",
       "      <td>-55.338501</td>\n",
       "      <td>0.630805</td>\n",
       "      <td>-1502.5</td>\n",
       "      <td>-0.570605</td>\n",
       "      <td>0.028390</td>\n",
       "      <td>-15.492200</td>\n",
       "      <td>0.000010</td>\n",
       "    </tr>\n",
       "    <tr>\n",
       "      <th>2</th>\n",
       "      <td>3</td>\n",
       "      <td>0</td>\n",
       "      <td>-83.828003</td>\n",
       "      <td>-1.145580</td>\n",
       "      <td>-1502.5</td>\n",
       "      <td>626295.000000</td>\n",
       "      <td>-169767.000000</td>\n",
       "      <td>-760877.000000</td>\n",
       "      <td>0.000000</td>\n",
       "    </tr>\n",
       "    <tr>\n",
       "      <th>3</th>\n",
       "      <td>4</td>\n",
       "      <td>297237712845406208</td>\n",
       "      <td>-96.122902</td>\n",
       "      <td>-8.230360</td>\n",
       "      <td>-1502.5</td>\n",
       "      <td>-0.225235</td>\n",
       "      <td>-0.050968</td>\n",
       "      <td>-3.702320</td>\n",
       "      <td>0.000008</td>\n",
       "    </tr>\n",
       "    <tr>\n",
       "      <th>4</th>\n",
       "      <td>5</td>\n",
       "      <td>418835796137607168</td>\n",
       "      <td>-62.659401</td>\n",
       "      <td>-9.375040</td>\n",
       "      <td>-1502.5</td>\n",
       "      <td>-0.281806</td>\n",
       "      <td>-0.023487</td>\n",
       "      <td>-6.573180</td>\n",
       "      <td>0.000009</td>\n",
       "    </tr>\n",
       "    <tr>\n",
       "      <th>...</th>\n",
       "      <td>...</td>\n",
       "      <td>...</td>\n",
       "      <td>...</td>\n",
       "      <td>...</td>\n",
       "      <td>...</td>\n",
       "      <td>...</td>\n",
       "      <td>...</td>\n",
       "      <td>...</td>\n",
       "      <td>...</td>\n",
       "    </tr>\n",
       "    <tr>\n",
       "      <th>120934</th>\n",
       "      <td>120935</td>\n",
       "      <td>445864815605317632</td>\n",
       "      <td>-763.383972</td>\n",
       "      <td>51.544998</td>\n",
       "      <td>2944.5</td>\n",
       "      <td>-1.640200</td>\n",
       "      <td>0.208933</td>\n",
       "      <td>6.293810</td>\n",
       "      <td>0.000018</td>\n",
       "    </tr>\n",
       "    <tr>\n",
       "      <th>120935</th>\n",
       "      <td>120936</td>\n",
       "      <td>900720956266250240</td>\n",
       "      <td>-804.664978</td>\n",
       "      <td>3.186900</td>\n",
       "      <td>2944.5</td>\n",
       "      <td>-0.315684</td>\n",
       "      <td>-0.094259</td>\n",
       "      <td>1.328200</td>\n",
       "      <td>0.000007</td>\n",
       "    </tr>\n",
       "    <tr>\n",
       "      <th>120936</th>\n",
       "      <td>120937</td>\n",
       "      <td>238705348779704320</td>\n",
       "      <td>-986.989014</td>\n",
       "      <td>41.731300</td>\n",
       "      <td>2952.5</td>\n",
       "      <td>-0.212508</td>\n",
       "      <td>0.095667</td>\n",
       "      <td>0.731932</td>\n",
       "      <td>0.000009</td>\n",
       "    </tr>\n",
       "    <tr>\n",
       "      <th>120937</th>\n",
       "      <td>120938</td>\n",
       "      <td>373800349619716096</td>\n",
       "      <td>-947.005005</td>\n",
       "      <td>18.764999</td>\n",
       "      <td>2952.5</td>\n",
       "      <td>-0.165762</td>\n",
       "      <td>-0.103945</td>\n",
       "      <td>0.800783</td>\n",
       "      <td>0.000007</td>\n",
       "    </tr>\n",
       "    <tr>\n",
       "      <th>120938</th>\n",
       "      <td>120939</td>\n",
       "      <td>238694972138717184</td>\n",
       "      <td>-926.257019</td>\n",
       "      <td>2.309990</td>\n",
       "      <td>2952.5</td>\n",
       "      <td>-1.741690</td>\n",
       "      <td>0.112363</td>\n",
       "      <td>5.503780</td>\n",
       "      <td>0.000021</td>\n",
       "    </tr>\n",
       "  </tbody>\n",
       "</table>\n",
       "<p>120939 rows × 9 columns</p>\n",
       "</div>"
      ],
      "text/plain": [
       "        hit_id         particle_id          tx         ty      tz  \\\n",
       "0            1                   0  -64.411598  -7.164120 -1502.5   \n",
       "1            2   22525763437723648  -55.338501   0.630805 -1502.5   \n",
       "2            3                   0  -83.828003  -1.145580 -1502.5   \n",
       "3            4  297237712845406208  -96.122902  -8.230360 -1502.5   \n",
       "4            5  418835796137607168  -62.659401  -9.375040 -1502.5   \n",
       "...        ...                 ...         ...        ...     ...   \n",
       "120934  120935  445864815605317632 -763.383972  51.544998  2944.5   \n",
       "120935  120936  900720956266250240 -804.664978   3.186900  2944.5   \n",
       "120936  120937  238705348779704320 -986.989014  41.731300  2952.5   \n",
       "120937  120938  373800349619716096 -947.005005  18.764999  2952.5   \n",
       "120938  120939  238694972138717184 -926.257019   2.309990  2952.5   \n",
       "\n",
       "                  tpx            tpy            tpz    weight  \n",
       "0       250710.000000 -149908.000000 -956385.000000  0.000000  \n",
       "1           -0.570605       0.028390     -15.492200  0.000010  \n",
       "2       626295.000000 -169767.000000 -760877.000000  0.000000  \n",
       "3           -0.225235      -0.050968      -3.702320  0.000008  \n",
       "4           -0.281806      -0.023487      -6.573180  0.000009  \n",
       "...               ...            ...            ...       ...  \n",
       "120934      -1.640200       0.208933       6.293810  0.000018  \n",
       "120935      -0.315684      -0.094259       1.328200  0.000007  \n",
       "120936      -0.212508       0.095667       0.731932  0.000009  \n",
       "120937      -0.165762      -0.103945       0.800783  0.000007  \n",
       "120938      -1.741690       0.112363       5.503780  0.000021  \n",
       "\n",
       "[120939 rows x 9 columns]"
      ]
     },
     "execution_count": 5,
     "metadata": {},
     "output_type": "execute_result"
    }
   ],
   "source": [
    "truth"
   ]
  },
  {
   "cell_type": "code",
   "execution_count": 6,
   "metadata": {},
   "outputs": [],
   "source": [
    "noise_keeps = [\"0\", \"0.2\", \"0.4\", \"0.6\", \"0.8\", \"1\"]"
   ]
  },
  {
   "cell_type": "code",
   "execution_count": 7,
   "metadata": {},
   "outputs": [
    {
     "name": "stdout",
     "output_type": "stream",
     "text": [
      "adding 0.0% noise\n",
      "adding 0.2% noise\n",
      "adding 0.4% noise\n",
      "adding 0.6% noise\n",
      "adding 0.8% noise\n",
      "adding 1.0% noise\n"
     ]
    }
   ],
   "source": [
    "for i in noise_keeps:\n",
    "    test_noise_reduced(float(i))"
   ]
  },
  {
   "cell_type": "code",
   "execution_count": 8,
   "metadata": {},
   "outputs": [
    {
     "name": "stdout",
     "output_type": "stream",
     "text": [
      "adding 0.0% noise\n",
      "adding 0.2% noise\n",
      "adding 0.4% noise\n",
      "adding 0.6% noise\n",
      "adding 0.8% noise\n",
      "adding 1.0% noise\n"
     ]
    }
   ],
   "source": [
    "for i in noise_keeps:\n",
    "    test_noise_perc(float(i))"
   ]
  },
  {
   "cell_type": "code",
   "execution_count": 11,
   "metadata": {},
   "outputs": [
    {
     "data": {
      "text/plain": [
       "\"adjacent\":       False\n",
       "\"clustering\":     build_edges\n",
       "\"emb_dim\":        8\n",
       "\"emb_hidden\":     512\n",
       "\"endcaps\":        True\n",
       "\"factor\":         0.3\n",
       "\"in_channels\":    12\n",
       "\"input_dir\":      /global/cscratch1/sd/danieltm/ExaTrkX/trackml/feature_store_endcaps\n",
       "\"knn\":            20\n",
       "\"layerless\":      True\n",
       "\"layerwise\":      False\n",
       "\"lr\":             0.002\n",
       "\"margin\":         1\n",
       "\"max_epochs\":     100\n",
       "\"nb_layer\":       6\n",
       "\"noise\":          False\n",
       "\"output_dir\":     global/cscratch1/sd/danieltm/ExaTrkX/trackml_processed/embedding_processed/0_pt_cut_endcaps\n",
       "\"overwrite\":      True\n",
       "\"patience\":       5\n",
       "\"project\":        EmbeddingStudy\n",
       "\"pt_min\":         0\n",
       "\"r_train\":        1\n",
       "\"r_val\":          0.5\n",
       "\"randomisation\":  2\n",
       "\"regime\":         ['rp', 'hnm', 'ci']\n",
       "\"train_split\":    [8, 1, 1]\n",
       "\"wandb_save_dir\": /global/cscratch1/sd/danieltm/ExaTrkX/wandb_data\n",
       "\"warmup\":         500\n",
       "\"weight\":         4"
      ]
     },
     "execution_count": 11,
     "metadata": {},
     "output_type": "execute_result"
    }
   ],
   "source": [
    "emb_ckpt_path = '/global/cfs/cdirs/m3443/data/lightning_models/embedding/checkpoints/epoch=10.ckpt'\n",
    "emb_ckpt = get_emb_ckpt(emb_ckpt_path, [8,1,1], 'build_edges')\n",
    "emb_ckpt['hyper_parameters']"
   ]
  },
  {
   "cell_type": "code",
   "execution_count": 35,
   "metadata": {},
   "outputs": [],
   "source": [
    "emb_model = LayerlessEmbedding(emb_ckpt['hyper_parameters'])\n",
    "best_emb = emb_model.load_from_checkpoint(emb_ckpt_path, hparams=emb_ckpt['hyper_parameters'])\n",
    "d_path = f\"/global/cfs/projectdirs/m3443/usr/caditi97/iml2020/out0.2/feature_store/1000\"\n",
    "data_in = torch.load(d_path)\n",
    "spatial = best_emb(torch.cat([data_in.cell_data, data_in.x], axis=-1))"
   ]
  },
  {
   "cell_type": "code",
   "execution_count": 36,
   "metadata": {},
   "outputs": [
    {
     "data": {
      "text/plain": [
       "torch.Size([106831, 8])"
      ]
     },
     "execution_count": 36,
     "metadata": {},
     "output_type": "execute_result"
    }
   ],
   "source": [
    "spatial.shape"
   ]
  },
  {
   "cell_type": "code",
   "execution_count": 37,
   "metadata": {},
   "outputs": [
    {
     "data": {
      "text/plain": [
       "array([[-5.579532  , -1.206653  , -1.4777976 , ...,  1.5655249 ,\n",
       "         1.5605438 , -7.6560698 ],\n",
       "       [-6.0134916 , -0.74658716, -0.52752614, ...,  1.0500622 ,\n",
       "         2.044065  , -6.8963113 ],\n",
       "       [-8.142564  , -1.9133985 , -0.17157817, ..., -0.17405261,\n",
       "         1.3430582 , -7.085015  ],\n",
       "       ...,\n",
       "       [-5.9516487 , -1.2699625 , -1.3564788 , ..., -0.19923931,\n",
       "         3.0088768 , -6.591668  ],\n",
       "       [-5.514652  , -2.6908712 , -0.87472785, ...,  0.67530155,\n",
       "         2.246176  , -5.807191  ],\n",
       "       [-5.5401387 , -3.5001502 , -1.1726224 , ...,  1.1569593 ,\n",
       "         2.459205  , -5.564975  ]], dtype=float32)"
      ]
     },
     "execution_count": 37,
     "metadata": {},
     "output_type": "execute_result"
    }
   ],
   "source": [
    "spatial_np = spatial.detach().numpy()\n",
    "spatial_np"
   ]
  },
  {
   "cell_type": "code",
   "execution_count": 38,
   "metadata": {},
   "outputs": [
    {
     "data": {
      "text/plain": [
       "array([707072631936913409, 711571558639865857, 932249520928985089, ...,\n",
       "       909731385353179137, 837679151434436609, 837679151434436609])"
      ]
     },
     "execution_count": 38,
     "metadata": {},
     "output_type": "execute_result"
    }
   ],
   "source": [
    "pid_np = data_in.pid.detach().numpy()\n",
    "pid_np"
   ]
  },
  {
   "cell_type": "code",
   "execution_count": 41,
   "metadata": {},
   "outputs": [],
   "source": [
    "if(torch.cuda.is_available()):\n",
    "    spatial = spatial.cuda()\n",
    "e_spatial = utils_torch.build_edges(spatial, best_emb.hparams['r_val'], best_emb.hparams['knn'])"
   ]
  },
  {
   "cell_type": "code",
   "execution_count": 42,
   "metadata": {},
   "outputs": [
    {
     "data": {
      "text/plain": [
       "torch.Size([2, 227652])"
      ]
     },
     "execution_count": 42,
     "metadata": {},
     "output_type": "execute_result"
    }
   ],
   "source": [
    "e_spatial.shape"
   ]
  },
  {
   "cell_type": "code",
   "execution_count": 50,
   "metadata": {},
   "outputs": [
    {
     "data": {
      "text/plain": [
       "tensor([    2, 15264], device='cuda:0')"
      ]
     },
     "execution_count": 50,
     "metadata": {},
     "output_type": "execute_result"
    }
   ],
   "source": [
    "e_spatial[:, 0]"
   ]
  },
  {
   "cell_type": "code",
   "execution_count": 43,
   "metadata": {},
   "outputs": [
    {
     "ename": "TypeError",
     "evalue": "can't convert cuda:0 device type tensor to numpy. Use Tensor.cpu() to copy the tensor to host memory first.",
     "output_type": "error",
     "traceback": [
      "\u001b[0;31m---------------------------------------------------------------------------\u001b[0m",
      "\u001b[0;31mTypeError\u001b[0m                                 Traceback (most recent call last)",
      "\u001b[0;32m<ipython-input-43-b0e353426fd6>\u001b[0m in \u001b[0;36m<module>\u001b[0;34m\u001b[0m\n\u001b[0;32m----> 1\u001b[0;31m \u001b[0me_spatial_np\u001b[0m \u001b[0;34m=\u001b[0m \u001b[0me_spatial\u001b[0m\u001b[0;34m.\u001b[0m\u001b[0mdetach\u001b[0m\u001b[0;34m(\u001b[0m\u001b[0;34m)\u001b[0m\u001b[0;34m.\u001b[0m\u001b[0mnumpy\u001b[0m\u001b[0;34m(\u001b[0m\u001b[0;34m)\u001b[0m\u001b[0;34m\u001b[0m\u001b[0;34m\u001b[0m\u001b[0m\n\u001b[0m",
      "\u001b[0;31mTypeError\u001b[0m: can't convert cuda:0 device type tensor to numpy. Use Tensor.cpu() to copy the tensor to host memory first."
     ]
    }
   ],
   "source": []
  },
  {
   "cell_type": "code",
   "execution_count": null,
   "metadata": {},
   "outputs": [],
   "source": []
  }
 ],
 "metadata": {
  "kernelspec": {
   "display_name": "exatrkx-iml",
   "language": "python",
   "name": "exatrkx-iml"
  },
  "language_info": {
   "codemirror_mode": {
    "name": "ipython",
    "version": 3
   },
   "file_extension": ".py",
   "mimetype": "text/x-python",
   "name": "python",
   "nbconvert_exporter": "python",
   "pygments_lexer": "ipython3",
   "version": "3.7.6"
  }
 },
 "nbformat": 4,
 "nbformat_minor": 4
}
