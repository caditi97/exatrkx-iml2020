{
 "cells": [
  {
   "cell_type": "markdown",
   "metadata": {},
   "source": [
    "# Embedding and Filtering Inference "
   ]
  },
  {
   "cell_type": "markdown",
   "metadata": {},
   "source": [
    "Set default input and output directories according to local paths for data"
   ]
  },
  {
   "cell_type": "code",
   "execution_count": null,
   "metadata": {},
   "outputs": [],
   "source": [
    "import os\n",
    "os.environ['TRKXINPUTDIR']=\"/global/cfs/cdirs/m3443/data/trackml-kaggle/train_10evts\"\n",
    "os.environ['TRKXOUTPUTDIR']= \"/global/cfs/projectdirs/m3443/usr/caditi97/iml2020/outtest\" "
   ]
  },
  {
   "cell_type": "markdown",
   "metadata": {},
   "source": [
    "Import necessary libraries and functions"
   ]
  },
  {
   "cell_type": "code",
   "execution_count": 2,
   "metadata": {},
   "outputs": [],
   "source": [
    "import pkg_resources\n",
    "import yaml\n",
    "import pprint\n",
    "import random\n",
    "random.seed(1234)\n",
    "import numpy as np\n",
    "import pandas as pd\n",
    "import itertools\n",
    "import matplotlib.pyplot as plt\n",
    "import tqdm\n",
    "from os import listdir\n",
    "from os.path import isfile, join\n",
    "# %matplotlib widget\n",
    "\n",
    "# 3rd party\n",
    "import torch\n",
    "import torch.nn.functional as F\n",
    "from torch_geometric.data import Data\n",
    "from trackml.dataset import load_event\n",
    "from pytorch_lightning import Trainer\n",
    "from pytorch_lightning.callbacks import ModelCheckpoint\n",
    "\n",
    "\n",
    "# local import\n",
    "from exatrkx import config_dict # for accessing predefined configuration files\n",
    "from exatrkx import outdir_dict # for accessing predefined output directories\n",
    "from exatrkx.src import utils_dir\n",
    "\n",
    "\n",
    "# for preprocessing\n",
    "from exatrkx import FeatureStore\n",
    "from exatrkx.src import utils_torch\n",
    "\n",
    "# for embedding\n",
    "from exatrkx import LayerlessEmbedding\n",
    "from exatrkx.src import utils_torch\n",
    "from torch_cluster import radius_graph\n",
    "from utils_torch import build_edges\n",
    "from embedding.embedding_base import *\n",
    "\n",
    "# for filtering\n",
    "from exatrkx import VanillaFilter\n",
    "\n",
    "# for GNN\n",
    "import tensorflow as tf\n",
    "from graph_nets import utils_tf\n",
    "from exatrkx import SegmentClassifier\n",
    "import sonnet as snt\n",
    "\n",
    "# for labeling\n",
    "from exatrkx.scripts.tracks_from_gnn import prepare as prepare_labeling\n",
    "from exatrkx.scripts.tracks_from_gnn import clustering as dbscan_clustering\n",
    "\n",
    "# track efficiency\n",
    "from trackml.score import _analyze_tracks\n",
    "from exatrkx.scripts.eval_reco_trkx import make_cmp_plot, pt_configs, eta_configs\n",
    "from functools import partial"
   ]
  },
  {
   "cell_type": "markdown",
   "metadata": {},
   "source": [
    "## Embedding"
   ]
  },
  {
   "cell_type": "markdown",
   "metadata": {},
   "source": [
    "Set checkpoint and other directory paths"
   ]
  },
  {
   "cell_type": "code",
   "execution_count": 3,
   "metadata": {},
   "outputs": [],
   "source": [
    "embed_ckpt_dir = '/global/cfs/cdirs/m3443/data/lightning_models/embedding/checkpoints/epoch=10.ckpt'\n",
    "filter_ckpt_dir = '/global/cfs/cdirs/m3443/data/lightning_models/filtering/checkpoints/epoch=92.ckpt'\n",
    "gnn_ckpt_dir = '/global/cfs/cdirs/m3443/data/lightning_models/gnn'\n",
    "plots_dir = '/global/homes/c/caditi97/exatrkx-iml2020/exatrkx/src/plots/run1' # needs to change..."
   ]
  },
  {
   "cell_type": "markdown",
   "metadata": {},
   "source": [
    "Fixing some parameters"
   ]
  },
  {
   "cell_type": "code",
   "execution_count": 4,
   "metadata": {},
   "outputs": [],
   "source": [
    "noise_keep = [\"0\", \"0.2\", \"0.4\", \"0.6\", \"0.8\", \"1\"]\n",
    "ckpt_idx = -1 # which GNN checkpoint to load\n",
    "dbscan_epsilon, dbscan_minsamples = 0.25, 2 # hyperparameters for DBScan\n",
    "min_hits = 5 # minimum number of hits associated with a particle to define \"reconstructable particles\"\n",
    "frac_reco_matched, frac_truth_matched = 0.5, 0.5 # parameters for track matching"
   ]
  },
  {
   "cell_type": "markdown",
   "metadata": {},
   "source": [
    "Load embedding model from checkpoint"
   ]
  },
  {
   "cell_type": "code",
   "execution_count": 5,
   "metadata": {},
   "outputs": [
    {
     "data": {
      "text/plain": [
       "\"adjacent\":       False\n",
       "\"clustering\":     build_edges\n",
       "\"emb_dim\":        8\n",
       "\"emb_hidden\":     512\n",
       "\"endcaps\":        True\n",
       "\"factor\":         0.3\n",
       "\"in_channels\":    12\n",
       "\"input_dir\":      /global/cscratch1/sd/danieltm/ExaTrkX/trackml/feature_store_endcaps\n",
       "\"knn\":            20\n",
       "\"knn_val\":        500\n",
       "\"layerless\":      True\n",
       "\"layerwise\":      False\n",
       "\"lr\":             0.002\n",
       "\"margin\":         1\n",
       "\"max_epochs\":     100\n",
       "\"nb_layer\":       6\n",
       "\"noise\":          False\n",
       "\"output_dir\":     global/cscratch1/sd/danieltm/ExaTrkX/trackml_processed/embedding_processed/0_pt_cut_endcaps\n",
       "\"overwrite\":      True\n",
       "\"patience\":       5\n",
       "\"project\":        EmbeddingStudy\n",
       "\"pt_min\":         0\n",
       "\"r_train\":        1\n",
       "\"r_val\":          1.7\n",
       "\"randomisation\":  2\n",
       "\"regime\":         ['rp', 'hnm', 'ci']\n",
       "\"train_split\":    [8, 1, 1]\n",
       "\"wandb_save_dir\": /global/cscratch1/sd/danieltm/ExaTrkX/wandb_data\n",
       "\"warmup\":         500\n",
       "\"weight\":         4"
      ]
     },
     "execution_count": 5,
     "metadata": {},
     "output_type": "execute_result"
    }
   ],
   "source": [
    "emb_ckpt = torch.load(embed_ckpt_dir)\n",
    "emb_ckpt['hyper_parameters']['train_split'] = [8,1,1]\n",
    "emb_ckpt['hyper_parameters']['clustering'] = 'build_edges'\n",
    "emb_ckpt['hyper_parameters']['knn_val'] = 500\n",
    "emb_ckpt['hyper_parameters']['r_val'] = 1.7\n",
    "emb_ckpt['hyper_parameters']"
   ]
  },
  {
   "cell_type": "code",
   "execution_count": 6,
   "metadata": {},
   "outputs": [
    {
     "data": {
      "text/plain": [
       "<All keys matched successfully>"
      ]
     },
     "execution_count": 6,
     "metadata": {},
     "output_type": "execute_result"
    }
   ],
   "source": [
    "emb_model = LayerlessEmbedding(emb_ckpt['hyper_parameters'])\n",
    "emb_model.load_state_dict(emb_ckpt[\"state_dict\"])"
   ]
  },
  {
   "cell_type": "markdown",
   "metadata": {},
   "source": [
    "Put model in evaluation state"
   ]
  },
  {
   "cell_type": "code",
   "execution_count": 7,
   "metadata": {},
   "outputs": [
    {
     "data": {
      "text/plain": [
       "LayerlessEmbedding(\n",
       "  (layers): ModuleList(\n",
       "    (0): Linear(in_features=12, out_features=512, bias=True)\n",
       "    (1): Linear(in_features=512, out_features=512, bias=True)\n",
       "    (2): Linear(in_features=512, out_features=512, bias=True)\n",
       "    (3): Linear(in_features=512, out_features=512, bias=True)\n",
       "    (4): Linear(in_features=512, out_features=512, bias=True)\n",
       "    (5): Linear(in_features=512, out_features=512, bias=True)\n",
       "  )\n",
       "  (emb_layer): Linear(in_features=512, out_features=8, bias=True)\n",
       "  (norm): LayerNorm((512,), eps=1e-05, elementwise_affine=True)\n",
       "  (act): Tanh()\n",
       ")"
      ]
     },
     "execution_count": 7,
     "metadata": {},
     "output_type": "execute_result"
    }
   ],
   "source": [
    "emb_model.eval()"
   ]
  },
  {
   "cell_type": "markdown",
   "metadata": {},
   "source": [
    "Define embedding metrics (function gets metrics for one event)"
   ]
  },
  {
   "cell_type": "code",
   "execution_count": 8,
   "metadata": {},
   "outputs": [],
   "source": [
    "def get_emb_metrics(data_path, emb_model):\n",
    "    data = torch.load(data_path)\n",
    "    spatial = emb_model(torch.cat([data.cell_data, data.x], axis=-1))\n",
    "    \n",
    "    if(torch.cuda.is_available()):\n",
    "        spatial = spatial.cuda()\n",
    "        \n",
    "    e_spatial = utils_torch.build_edges(spatial, emb_model.hparams['r_val'], emb_model.hparams['knn_val'])\n",
    "    e_spatial_np = e_spatial.cpu().numpy()\n",
    "    \n",
    "    # remove R dist from out to in\n",
    "    R_dist = torch.sqrt(data.x[:,0]**2 + data.x[:,2]**2)\n",
    "    \n",
    "    e_spatial_np = e_spatial_np[:, (R_dist[e_spatial_np[0]] <= R_dist[e_spatial_np[1]])]\n",
    "    e_bidir = torch.cat([data.layerless_true_edges,torch.stack([data.layerless_true_edges[1],\n",
    "                        data.layerless_true_edges[0]], axis=1).T], axis=-1)\n",
    "    e_spatial_n, y_cluster = graph_intersection(torch.from_numpy(e_spatial_np), e_bidir)\n",
    "    \n",
    "    cluster_true = 2*len(data.layerless_true_edges[0])\n",
    "    cluster_true_positive = y_cluster.sum()\n",
    "    cluster_positive = len(e_spatial_n[0])\n",
    "    purity = cluster_true_positive/cluster_positive\n",
    "    eff = cluster_true_positive/cluster_true\n",
    "    \n",
    "    return purity, eff"
   ]
  },
  {
   "cell_type": "markdown",
   "metadata": {},
   "source": [
    "Metrics for one event and all noise configurations"
   ]
  },
  {
   "cell_type": "code",
   "execution_count": 9,
   "metadata": {},
   "outputs": [],
   "source": [
    "p_all = []\n",
    "e_all = []\n",
    "for i in noise_keep:\n",
    "    data_path = f'/global/cfs/projectdirs/m3443/usr/caditi97/iml2020/out{i}/feature_store/1000'\n",
    "    p, e = get_emb_metrics(data_path, emb_model)\n",
    "    p_all.append(p)\n",
    "    e_all.append(e)"
   ]
  },
  {
   "cell_type": "code",
   "execution_count": 10,
   "metadata": {},
   "outputs": [
    {
     "data": {
      "text/plain": [
       "<matplotlib.legend.Legend at 0x2aab8ca84e50>"
      ]
     },
     "execution_count": 10,
     "metadata": {},
     "output_type": "execute_result"
    },
    {
     "data": {
      "image/png": "[encoded data removed]",
      "text/plain": [
       "<Figure size 1080x504 with 2 Axes>"
      ]
     },
     "metadata": {
      "needs_background": "light"
     },
     "output_type": "display_data"
    }
   ],
   "source": [
    "x = np.arange(len(noise_keep))\n",
    "fig1, (ax1,ax2) = plt.subplots(1,2, figsize=(15,7))\n",
    "fig1.suptitle('Evt 1000')\n",
    "fig1.tight_layout(w_pad = 10)\n",
    "ax1.plot(x, p_all, label = 'True Positive / Positive')\n",
    "ax1.set_xlabel('noise_level')\n",
    "ax1.set_ylabel('Purity')\n",
    "ax1.set_xticks(x)\n",
    "ax1.set_xticklabels(noise_keep)\n",
    "ax1.legend()\n",
    "\n",
    "ax2.plot(x, e_all, label = 'True Positive / True')\n",
    "ax2.set_xlabel('noise_level')\n",
    "ax2.set_ylabel('Efficiency')\n",
    "ax2.set_xticks(x)\n",
    "ax2.set_xticklabels(noise_keep)\n",
    "ax2.legend()"
   ]
  },
  {
   "cell_type": "markdown",
   "metadata": {},
   "source": [
    "Average metrics for all events and all noise configurations"
   ]
  },
  {
   "cell_type": "code",
   "execution_count": 11,
   "metadata": {},
   "outputs": [],
   "source": [
    "def get_lvl_emb(mypath,emb_model):\n",
    "    events = [f for f in listdir(mypath) if isfile(join(mypath, f))]\n",
    "    p_lvl = []\n",
    "    e_lvl = []\n",
    "    for evt in events:\n",
    "        data_path = join(mypath,evt)\n",
    "        p, e = get_emb_metrics(data_path, emb_model) \n",
    "        p_lvl.append(p)\n",
    "        e_lvl.append(e)\n",
    "    \n",
    "    return np.mean(p_lvl), np.mean(e_lvl)"
   ]
  },
  {
   "cell_type": "code",
   "execution_count": null,
   "metadata": {},
   "outputs": [],
   "source": [
    "p_avg = []\n",
    "e_avg = []\n",
    "for i in noise_keep:\n",
    "    data_path = f'/global/cfs/projectdirs/m3443/usr/caditi97/iml2020/out{i}/feature_store/'\n",
    "    p, e = get_lvl_emb(data_path,emb_model)\n",
    "    p_avg.append(p)\n",
    "    e_avg.append(e)"
   ]
  },
  {
   "cell_type": "code",
   "execution_count": null,
   "metadata": {},
   "outputs": [],
   "source": [
    "x = np.arange(len(noise_keep))\n",
    "fig2, (ax1,ax2) = plt.subplots(1,2, figsize=(15,7))\n",
    "fig2.tight_layout(w_pad = 10)\n",
    "fig2.suptitle('10 Events')\n",
    "ax1.plot(x, p_avg, label = 'True Positive / Positive')\n",
    "ax1.set_xlabel('noise_level')\n",
    "ax1.set_ylabel('Purity')\n",
    "ax1.set_xticks(x)\n",
    "ax1.set_xticklabels(noise_keep)\n",
    "ax1.legend()\n",
    "\n",
    "ax2.plot(x, e_avg, label = 'True Positive / True')\n",
    "ax2.set_xlabel('noise_level')\n",
    "ax2.set_ylabel('Efficiency')\n",
    "ax2.set_xticks(x)\n",
    "ax2.set_xticklabels(noise_keep)\n",
    "ax2.legend()"
   ]
  },
  {
   "cell_type": "markdown",
   "metadata": {},
   "source": [
    "Tuning Hyperparameters `r_val = 1.7` and `knn_val = 500` with a set level of noise for a specific event.\n",
    "\n",
    "* `r_val` defines the radius of the clustering method\n",
    "* `knn_val` defines the number of maximum neighbors in the embedding space"
   ]
  },
  {
   "cell_type": "code",
   "execution_count": null,
   "metadata": {},
   "outputs": [],
   "source": [
    "noise_lvl = 1\n",
    "evtid = 1000\n",
    "set_event = f'/global/cfs/projectdirs/m3443/usr/caditi97/iml2020/out{noise_lvl}/feature_store/{evtid}'"
   ]
  },
  {
   "cell_type": "code",
   "execution_count": null,
   "metadata": {},
   "outputs": [],
   "source": [
    "og_rval = emb_ckpt['hyper_parameters']['r_val']\n",
    "step = 0.1\n",
    "stop = 10\n",
    "p_val = []\n",
    "e_val = []\n",
    "for n in range(stop):\n",
    "    rval = og_rval + step\n",
    "    print(f\"r_val = {rval}\")\n",
    "    cp_emb = emb_ckpt\n",
    "    cp_emb['hyper_parameters']['r_val'] = rval\n",
    "    cp_model = LayerlessEmbedding(cp_emb['hyper_parameters'])\n",
    "    cp_model.load_state_dict(cp_emb['state_dict'])\n",
    "    cp_model.eval()\n",
    "    p, e = get_emb_metrics(set_event, cp_model)\n",
    "    p_val.append(p)\n",
    "    e_val.append(e)"
   ]
  },
  {
   "cell_type": "code",
   "execution_count": null,
   "metadata": {},
   "outputs": [],
   "source": [
    "x = np.arange(og_rval,rval,step)\n",
    "\n",
    "fig3, (ax1,ax2) = plt.subplots(1,2, figsize=(15,7))\n",
    "fig3.tight_layout(w_pad = 10)\n",
    "fig3.suptitle('Eventid {evtid}')\n",
    "ax1.plot(x, p_val, label = 'True Positive / Positive')\n",
    "ax1.set_xlabel('r_val')\n",
    "ax1.set_ylabel('Purity')\n",
    "ax1.set_xticks(x)\n",
    "ax1.set_xticklabels([','.join(str(r) for r in x)])\n",
    "ax1.legend()\n",
    "\n",
    "ax2.plot(x, e_val, label = 'True Positive / True')\n",
    "ax2.set_xlabel('r_val')\n",
    "ax2.set_ylabel('Efficiency')\n",
    "ax2.set_xticks(x)\n",
    "ax2.set_xticklabels([','.join(str(r) for r in x)])\n",
    "ax2.legend()"
   ]
  },
  {
   "cell_type": "code",
   "execution_count": null,
   "metadata": {},
   "outputs": [],
   "source": []
  }
 ],
 "metadata": {
  "kernelspec": {
   "display_name": "exatrkx-iml",
   "language": "python",
   "name": "exatrkx-iml"
  },
  "language_info": {
   "codemirror_mode": {
    "name": "ipython",
    "version": 3
   },
   "file_extension": ".py",
   "mimetype": "text/x-python",
   "name": "python",
   "nbconvert_exporter": "python",
   "pygments_lexer": "ipython3",
   "version": "3.7.6"
  }
 },
 "nbformat": 4,
 "nbformat_minor": 4
}
