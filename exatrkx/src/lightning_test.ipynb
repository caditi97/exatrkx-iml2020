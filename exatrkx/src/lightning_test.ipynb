{
 "cells": [
  {
   "cell_type": "code",
   "execution_count": 1,
   "metadata": {},
   "outputs": [],
   "source": [
    "import os\n",
    "os.environ['TRKXINPUTDIR']=\"/global/cfs/cdirs/m3443/data/trackml-kaggle/train_10evts\"\n",
    "os.environ['TRKXOUTPUTDIR']= \"/global/cfs/projectdirs/m3443/usr/caditi97/iml2020/outtest\""
   ]
  },
  {
   "cell_type": "code",
   "execution_count": 42,
   "metadata": {},
   "outputs": [
    {
     "name": "stdout",
     "output_type": "stream",
     "text": [
      "The autoreload extension is already loaded. To reload it, use:\n",
      "  %reload_ext autoreload\n"
     ]
    }
   ],
   "source": [
    "%load_ext autoreload\n",
    "%autoreload 2\n",
    "import pkg_resources\n",
    "import yaml\n",
    "import pprint\n",
    "import random\n",
    "random.seed(1234)\n",
    "import numpy as np\n",
    "import pandas as pd\n",
    "import itertools\n",
    "import matplotlib.pyplot as plt\n",
    "import tqdm\n",
    "# %matplotlib widget\n",
    "\n",
    "# 3rd party\n",
    "import torch\n",
    "import torch.nn.functional as F\n",
    "from torch_geometric.data import Data\n",
    "from trackml.dataset import load_event\n",
    "from pytorch_lightning import Trainer\n",
    "from pytorch_lightning.callbacks import ModelCheckpoint\n",
    "\n",
    "\n",
    "# local import\n",
    "# from heptrkx.dataset import event as master\n",
    "from exatrkx import config_dict # for accessing predefined configuration files\n",
    "from exatrkx import outdir_dict # for accessing predefined output directories\n",
    "from exatrkx.src import utils_dir\n",
    "\n",
    "\n",
    "# for preprocessing\n",
    "from exatrkx import FeatureStore\n",
    "from exatrkx.src import utils_torch\n",
    "\n",
    "# for embedding\n",
    "from exatrkx import LayerlessEmbedding\n",
    "from exatrkx.src import utils_torch\n",
    "\n",
    "# for filtering\n",
    "from exatrkx import VanillaFilter\n",
    "\n",
    "# for GNN\n",
    "import tensorflow as tf\n",
    "from graph_nets import utils_tf\n",
    "from exatrkx import SegmentClassifier\n",
    "import sonnet as snt\n",
    "\n",
    "# for labeling\n",
    "from exatrkx.scripts.tracks_from_gnn import prepare as prepare_labeling\n",
    "from exatrkx.scripts.tracks_from_gnn import clustering as dbscan_clustering\n",
    "\n",
    "# track efficiency\n",
    "from trackml.score import _analyze_tracks\n",
    "from exatrkx.scripts.eval_reco_trkx import make_cmp_plot, pt_configs, eta_configs\n",
    "from functools import partial"
   ]
  },
  {
   "cell_type": "code",
   "execution_count": 3,
   "metadata": {},
   "outputs": [],
   "source": [
    "noise_keeps = [\"0\", \"0.2\", \"0.4\", \"0.6\", \"0.8\", \"1\"]"
   ]
  },
  {
   "cell_type": "code",
   "execution_count": 4,
   "metadata": {},
   "outputs": [],
   "source": [
    "import sys\n",
    "import os\n",
    "sys.path.append('..')\n",
    "sys.path.append('/global/homes/c/caditi97/exatrkx-iml2020/exatrkx/src/')\n",
    "%matplotlib inline\n",
    "from utils_robust import *"
   ]
  },
  {
   "cell_type": "markdown",
   "metadata": {},
   "source": [
    "# Noise "
   ]
  },
  {
   "cell_type": "code",
   "execution_count": 5,
   "metadata": {},
   "outputs": [
    {
     "name": "stdout",
     "output_type": "stream",
     "text": [
      "-----\n",
      "Data(cell_data=[103305, 9], event_file=\"/global/cfs/cdirs/m3443/data/trackml-kaggle/train_10evts/event000001000\", hid=[103305], layerless_true_edges=[2, 123429], layers=[103305], pid=[103305], x=[103305, 3])\n",
      "-----\n",
      "Data(cell_data=[106831, 9], event_file=\"/global/cfs/cdirs/m3443/data/trackml-kaggle/train_10evts/event000001000\", hid=[106831], layerless_true_edges=[2, 389588], layers=[106831], pid=[106831], x=[106831, 3])\n",
      "-----\n",
      "Data(cell_data=[110358, 9], event_file=\"/global/cfs/cdirs/m3443/data/trackml-kaggle/train_10evts/event000001000\", hid=[110358], layerless_true_edges=[2, 1146681], layers=[110358], pid=[110358], x=[110358, 3])\n",
      "-----\n",
      "Data(cell_data=[113885, 9], event_file=\"/global/cfs/cdirs/m3443/data/trackml-kaggle/train_10evts/event000001000\", hid=[113885], layerless_true_edges=[2, 2394184], layers=[113885], pid=[113885], x=[113885, 3])\n",
      "-----\n",
      "Data(cell_data=[117412, 9], event_file=\"/global/cfs/cdirs/m3443/data/trackml-kaggle/train_10evts/event000001000\", hid=[117412], layerless_true_edges=[2, 4150600], layers=[117412], pid=[117412], x=[117412, 3])\n",
      "-----\n",
      "Data(cell_data=[120939, 9], event_file=\"/global/cfs/cdirs/m3443/data/trackml-kaggle/train_10evts/event000001000\", hid=[120939], layerless_true_edges=[2, 6455778], layers=[120939], pid=[120939], x=[120939, 3])\n"
     ]
    },
    {
     "data": {
      "image/png": "[encoded data removed]",
      "text/plain": [
       "<Figure size 720x360 with 1 Axes>"
      ]
     },
     "metadata": {
      "needs_background": "light"
     },
     "output_type": "display_data"
    }
   ],
   "source": [
    "dir_path = \"/global/cfs/projectdirs/m3443/usr/caditi97/iml2020\"\n",
    "plot_noise_dist(dir_path, noise_keeps)"
   ]
  },
  {
   "cell_type": "markdown",
   "metadata": {},
   "source": [
    "# Embedding"
   ]
  },
  {
   "cell_type": "code",
   "execution_count": 6,
   "metadata": {},
   "outputs": [],
   "source": [
    "# load model\n",
    "emb_ckpt_path = '/global/cfs/cdirs/m3443/data/lightning_models/embedding/checkpoints/epoch=10.ckpt'\n",
    "emb_ckpt = torch.load(emb_ckpt_path)"
   ]
  },
  {
   "cell_type": "code",
   "execution_count": 7,
   "metadata": {},
   "outputs": [
    {
     "data": {
      "text/plain": [
       "\"adjacent\":       False\n",
       "\"clustering\":     build_edges\n",
       "\"emb_dim\":        8\n",
       "\"emb_hidden\":     512\n",
       "\"endcaps\":        True\n",
       "\"factor\":         0.3\n",
       "\"in_channels\":    12\n",
       "\"input_dir\":      /global/cscratch1/sd/danieltm/ExaTrkX/trackml/feature_store_endcaps\n",
       "\"knn\":            20\n",
       "\"knn_val\":        500\n",
       "\"layerless\":      True\n",
       "\"layerwise\":      False\n",
       "\"lr\":             0.002\n",
       "\"margin\":         1\n",
       "\"max_epochs\":     100\n",
       "\"nb_layer\":       6\n",
       "\"noise\":          False\n",
       "\"output_dir\":     global/cscratch1/sd/danieltm/ExaTrkX/trackml_processed/embedding_processed/0_pt_cut_endcaps\n",
       "\"overwrite\":      True\n",
       "\"patience\":       5\n",
       "\"project\":        EmbeddingStudy\n",
       "\"pt_min\":         0\n",
       "\"r_train\":        1\n",
       "\"r_val\":          1.7\n",
       "\"randomisation\":  2\n",
       "\"regime\":         ['rp', 'hnm', 'ci']\n",
       "\"train_split\":    [8, 1, 1]\n",
       "\"wandb_save_dir\": /global/cscratch1/sd/danieltm/ExaTrkX/wandb_data\n",
       "\"warmup\":         500\n",
       "\"weight\":         4"
      ]
     },
     "execution_count": 7,
     "metadata": {},
     "output_type": "execute_result"
    }
   ],
   "source": [
    "emb_ckpt['hyper_parameters']['train_split'] = [8,1,1]\n",
    "emb_ckpt['hyper_parameters']['clustering'] = 'build_edges'\n",
    "emb_ckpt['hyper_parameters']['knn_val'] = 500\n",
    "emb_ckpt['hyper_parameters']['r_val'] = 1.7\n",
    "emb_ckpt['hyper_parameters']"
   ]
  },
  {
   "cell_type": "code",
   "execution_count": 8,
   "metadata": {},
   "outputs": [
    {
     "data": {
      "text/plain": [
       "<All keys matched successfully>"
      ]
     },
     "execution_count": 8,
     "metadata": {},
     "output_type": "execute_result"
    }
   ],
   "source": [
    "emb_model = LayerlessEmbedding(emb_ckpt['hyper_parameters'])\n",
    "emb_model.load_state_dict(emb_ckpt[\"state_dict\"])"
   ]
  },
  {
   "cell_type": "code",
   "execution_count": 9,
   "metadata": {},
   "outputs": [],
   "source": [
    "# best_emb = emb_model.load_from_checkpoint(emb_ckpt_path, hparams=emb_ckpt['hyper_parameters'])"
   ]
  },
  {
   "cell_type": "code",
   "execution_count": 10,
   "metadata": {},
   "outputs": [
    {
     "data": {
      "text/plain": [
       "LayerlessEmbedding(\n",
       "  (layers): ModuleList(\n",
       "    (0): Linear(in_features=12, out_features=512, bias=True)\n",
       "    (1): Linear(in_features=512, out_features=512, bias=True)\n",
       "    (2): Linear(in_features=512, out_features=512, bias=True)\n",
       "    (3): Linear(in_features=512, out_features=512, bias=True)\n",
       "    (4): Linear(in_features=512, out_features=512, bias=True)\n",
       "    (5): Linear(in_features=512, out_features=512, bias=True)\n",
       "  )\n",
       "  (emb_layer): Linear(in_features=512, out_features=8, bias=True)\n",
       "  (norm): LayerNorm((512,), eps=1e-05, elementwise_affine=True)\n",
       "  (act): Tanh()\n",
       ")"
      ]
     },
     "execution_count": 10,
     "metadata": {},
     "output_type": "execute_result"
    }
   ],
   "source": [
    "emb_model.eval()"
   ]
  },
  {
   "cell_type": "markdown",
   "metadata": {},
   "source": [
    "For one event"
   ]
  },
  {
   "cell_type": "code",
   "execution_count": 11,
   "metadata": {},
   "outputs": [],
   "source": [
    "embed_ckpt_dir = '/global/cfs/cdirs/m3443/data/lightning_models/embedding/checkpoints/epoch=10.ckpt'\n",
    "filter_ckpt_dir = '/global/cfs/cdirs/m3443/data/lightning_models/filtering/checkpoints/epoch=92.ckpt'\n",
    "gnn_ckpt_dir = '/global/cfs/cdirs/m3443/data/lightning_models/gnn'\n",
    "plots_dir = '/global/homes/c/caditi97/exatrkx-iml2020/exatrkx/src/plots/run1' # needs to change...\n",
    "ckpt_idx = -1 # which GNN checkpoint to load\n",
    "dbscan_epsilon, dbscan_minsamples = 0.25, 2 # hyperparameters for DBScan\n",
    "min_hits = 5 # minimum number of hits associated with a particle to define \"reconstructable particles\"\n",
    "frac_reco_matched, frac_truth_matched = 0.5, 0.5 # parameters for track matching"
   ]
  },
  {
   "cell_type": "code",
   "execution_count": 12,
   "metadata": {},
   "outputs": [],
   "source": [
    "evtid = 1000\n",
    "event_file = os.path.join(utils_dir.inputdir, 'event{:09}'.format(evtid))"
   ]
  },
  {
   "cell_type": "code",
   "execution_count": 13,
   "metadata": {},
   "outputs": [
    {
     "name": "stdout",
     "output_type": "stream",
     "text": [
      "{   'adjacent': True,\n",
      "    'cell_information': True,\n",
      "    'endcaps': True,\n",
      "    'layerless': True,\n",
      "    'layerwise': False,\n",
      "    'n_files': 10,\n",
      "    'n_tasks': 1,\n",
      "    'n_workers': 2,\n",
      "    'noise': 0,\n",
      "    'pt_min': 0}\n"
     ]
    }
   ],
   "source": [
    "action = 'build'\n",
    "\n",
    "config_file = pkg_resources.resource_filename(\n",
    "                    \"exatrkx\",\n",
    "                    os.path.join('configs', config_dict[action]))\n",
    "with open(config_file) as f:\n",
    "    b_config = yaml.load(f, Loader=yaml.FullLoader)\n",
    "    \n",
    "pp = pprint.PrettyPrinter(indent=4)\n",
    "pp.pprint(b_config)"
   ]
  },
  {
   "cell_type": "code",
   "execution_count": 16,
   "metadata": {},
   "outputs": [
    {
     "data": {
      "text/plain": [
       "{'adjacent': True,\n",
       " 'cell_information': True,\n",
       " 'endcaps': True,\n",
       " 'layerless': True,\n",
       " 'layerwise': False,\n",
       " 'n_files': 1,\n",
       " 'n_tasks': 1,\n",
       " 'n_workers': 1,\n",
       " 'noise': 1,\n",
       " 'pt_min': 0,\n",
       " 'input_dir': '/global/cfs/cdirs/m3443/data/trackml-kaggle/train_10evts',\n",
       " 'output_dir': '/global/cfs/projectdirs/m3443/usr/caditi97/iml2020/outtest/feature_store'}"
      ]
     },
     "execution_count": 16,
     "metadata": {},
     "output_type": "execute_result"
    }
   ],
   "source": [
    "b_config['pt_min'] = 0\n",
    "b_config['endcaps'] = True\n",
    "b_config['n_workers'] = 1\n",
    "b_config['n_files'] = 1\n",
    "b_config['noise'] = 1\n",
    "b_config"
   ]
  },
  {
   "cell_type": "code",
   "execution_count": 18,
   "metadata": {},
   "outputs": [
    {
     "data": {
      "text/plain": [
       "Data(cell_data=[120939, 9], event_file=\"/global/cfs/cdirs/m3443/data/trackml-kaggle/train_10evts/event000001000\", hid=[120939], layerless_true_edges=[2, 6455778], layers=[120939], pid=[120939], x=[120939, 3])"
      ]
     },
     "execution_count": 18,
     "metadata": {},
     "output_type": "execute_result"
    }
   ],
   "source": [
    "data = torch.load('/global/cfs/projectdirs/m3443/usr/caditi97/iml2020/out1/feature_store/'+ str(evtid))\n",
    "data"
   ]
  },
  {
   "cell_type": "code",
   "execution_count": 22,
   "metadata": {},
   "outputs": [
    {
     "name": "stdout",
     "output_type": "stream",
     "text": [
      "CPU times: user 4.7 s, sys: 1.52 s, total: 6.22 s\n",
      "Wall time: 3.26 s\n"
     ]
    },
    {
     "data": {
      "text/plain": [
       "torch.Size([120939, 8])"
      ]
     },
     "execution_count": 22,
     "metadata": {},
     "output_type": "execute_result"
    }
   ],
   "source": [
    "%%time\n",
    "spatial = emb_model(torch.cat([data.cell_data, data.x], axis=-1))\n",
    "spatial.shape"
   ]
  },
  {
   "cell_type": "code",
   "execution_count": 24,
   "metadata": {},
   "outputs": [
    {
     "name": "stdout",
     "output_type": "stream",
     "text": [
      "CPU times: user 775 ms, sys: 786 ms, total: 1.56 s\n",
      "Wall time: 1.82 s\n"
     ]
    },
    {
     "data": {
      "text/plain": [
       "torch.Size([2, 28846659])"
      ]
     },
     "execution_count": 24,
     "metadata": {},
     "output_type": "execute_result"
    }
   ],
   "source": [
    "%%time\n",
    "if(torch.cuda.is_available()):\n",
    "        spatial = spatial.cuda()\n",
    "\n",
    "e_spatial = utils_torch.build_edges(spatial, emb_model.hparams['r_val'], emb_model.hparams['knn_val'])\n",
    "e_spatial.shape"
   ]
  },
  {
   "cell_type": "code",
   "execution_count": 25,
   "metadata": {},
   "outputs": [
    {
     "data": {
      "text/plain": [
       "array([[     0,      0,      0, ..., 120938, 120938, 120938],\n",
       "       [  5067,  13626,  39148, ..., 109829, 107002, 107280]])"
      ]
     },
     "execution_count": 25,
     "metadata": {},
     "output_type": "execute_result"
    }
   ],
   "source": [
    "e_spatial = e_spatial.cpu().numpy()\n",
    "e_spatial"
   ]
  },
  {
   "cell_type": "code",
   "execution_count": 27,
   "metadata": {},
   "outputs": [
    {
     "data": {
      "text/plain": [
       "tensor([0.4232, 0.4100, 0.3287,  ..., 1.5961, 2.6987, 2.7032])"
      ]
     },
     "execution_count": 27,
     "metadata": {},
     "output_type": "execute_result"
    }
   ],
   "source": [
    "R_dist = torch.sqrt(data.x[:,0]**2 + data.x[:,2]**2) # distance away from origin...\n",
    "R_dist"
   ]
  },
  {
   "cell_type": "code",
   "execution_count": 28,
   "metadata": {},
   "outputs": [
    {
     "data": {
      "text/plain": [
       "array([[     0,      0,      0, ..., 120938, 120938, 120938],\n",
       "       [  5067,  13626,  39148, ..., 120766, 120737, 120714]])"
      ]
     },
     "execution_count": 28,
     "metadata": {},
     "output_type": "execute_result"
    }
   ],
   "source": [
    "e_spatial = e_spatial[:, (R_dist[e_spatial[0]] <= R_dist[e_spatial[1]])]\n",
    "e_spatial"
   ]
  },
  {
   "cell_type": "code",
   "execution_count": 33,
   "metadata": {},
   "outputs": [
    {
     "data": {
      "text/plain": [
       "torch.Size([2, 12911556])"
      ]
     },
     "execution_count": 33,
     "metadata": {},
     "output_type": "execute_result"
    }
   ],
   "source": [
    "# truth information\n",
    "e_bidir = torch.cat([data.layerless_true_edges,\n",
    "                    torch.stack([data.layerless_true_edges[1],\n",
    "                                data.layerless_true_edges[0]], axis=1).T], axis=-1)\n",
    "e_bidir.shape"
   ]
  },
  {
   "cell_type": "code",
   "execution_count": 35,
   "metadata": {},
   "outputs": [],
   "source": [
    "e_spatial_n, y_cluster = graph_intersection(torch.from_numpy(e_spatial), e_bidir)"
   ]
  },
  {
   "cell_type": "code",
   "execution_count": 36,
   "metadata": {},
   "outputs": [
    {
     "data": {
      "text/plain": [
       "0.013091779489700693"
      ]
     },
     "execution_count": 36,
     "metadata": {},
     "output_type": "execute_result"
    }
   ],
   "source": [
    "cluster_true = 2*len(data.layerless_true_edges[0])\n",
    "cluster_true_positive = y_cluster.sum()\n",
    "cluster_positive = len(e_spatial_n[0])\n",
    "purity = cluster_true_positive/cluster_positive\n",
    "purity"
   ]
  },
  {
   "cell_type": "code",
   "execution_count": 65,
   "metadata": {},
   "outputs": [],
   "source": [
    "def get_emb_metrics(data_path, emb_model):\n",
    "    data = torch.load(data_path)\n",
    "    spatial = emb_model(torch.cat([data.cell_data, data.x], axis=-1))\n",
    "    \n",
    "    if(torch.cuda.is_available()):\n",
    "        spatial = spatial.cuda()\n",
    "        \n",
    "    e_spatial = utils_torch.build_edges(spatial, emb_model.hparams['r_val'], emb_model.hparams['knn_val'])\n",
    "    e_spatial_np = e_spatial.cpu().numpy()\n",
    "    \n",
    "    # remove R dist from out to in\n",
    "    R_dist = torch.sqrt(data.x[:,0]**2 + data.x[:,2]**2)\n",
    "    \n",
    "    e_spatial_np = e_spatial_np[:, (R_dist[e_spatial_np[0]] <= R_dist[e_spatial_np[1]])]\n",
    "    e_bidir = torch.cat([data.layerless_true_edges,torch.stack([data.layerless_true_edges[1],\n",
    "                        data.layerless_true_edges[0]], axis=1).T], axis=-1)\n",
    "    e_spatial_n, y_cluster = graph_intersection(torch.from_numpy(e_spatial_np), e_bidir)\n",
    "    \n",
    "    cluster_true = 2*len(data.layerless_true_edges[0])\n",
    "    cluster_true_positive = y_cluster.sum()\n",
    "    cluster_positive = len(e_spatial_n[0])\n",
    "    purity = cluster_true_positive/cluster_positive\n",
    "    eff = cluster_true_positive/cluster_true\n",
    "    \n",
    "    return purity, eff"
   ]
  },
  {
   "cell_type": "code",
   "execution_count": 66,
   "metadata": {},
   "outputs": [],
   "source": [
    "p_all = []\n",
    "e_all = []\n",
    "for i in noise_keeps:\n",
    "    data_path = f'/global/cfs/projectdirs/m3443/usr/caditi97/iml2020/out{i}/feature_store/1000'\n",
    "    p, e = get_emb_metrics(data_path, emb_model)\n",
    "    p_all.append(p)\n",
    "    e_all.append(e)"
   ]
  },
  {
   "cell_type": "code",
   "execution_count": 67,
   "metadata": {},
   "outputs": [
    {
     "data": {
      "text/plain": [
       "[0.011968508575832267,\n",
       " 0.01135323340351619,\n",
       " 0.01127674466870048,\n",
       " 0.011711834057423357,\n",
       " 0.012268168627049913,\n",
       " 0.013091779489700693]"
      ]
     },
     "execution_count": 67,
     "metadata": {},
     "output_type": "execute_result"
    }
   ],
   "source": [
    "p_all"
   ]
  },
  {
   "cell_type": "code",
   "execution_count": 68,
   "metadata": {},
   "outputs": [
    {
     "data": {
      "text/plain": [
       "[0.4871950676097189,\n",
       " 0.1587818413298151,\n",
       " 0.0579986936209809,\n",
       " 0.031104125664527037,\n",
       " 0.020187322314846046,\n",
       " 0.01480611631936538]"
      ]
     },
     "execution_count": 68,
     "metadata": {},
     "output_type": "execute_result"
    }
   ],
   "source": [
    "e_all"
   ]
  },
  {
   "cell_type": "code",
   "execution_count": 71,
   "metadata": {},
   "outputs": [
    {
     "data": {
      "text/plain": [
       "<matplotlib.legend.Legend at 0x2aab8f5aad50>"
      ]
     },
     "execution_count": 71,
     "metadata": {},
     "output_type": "execute_result"
    },
    {
     "data": {
      "image/png": "[encoded data removed]",
      "text/plain": [
       "<Figure size 720x360 with 1 Axes>"
      ]
     },
     "metadata": {
      "needs_background": "light"
     },
     "output_type": "display_data"
    }
   ],
   "source": [
    "x = np.arange(len(noise_keeps))\n",
    "fig1, ax1 = plt.subplots(figsize=(10,5))\n",
    "ax1.plot(x, p_all, label = 'True Positive / Positive')\n",
    "ax1.set_xlabel('noise_level')\n",
    "ax1.set_ylabel('Purity')\n",
    "ax1.set_xticks(x)\n",
    "labels = noise_keeps\n",
    "ax1.set_xticklabels(labels)\n",
    "ax1.legend()"
   ]
  },
  {
   "cell_type": "code",
   "execution_count": 72,
   "metadata": {},
   "outputs": [
    {
     "data": {
      "text/plain": [
       "<matplotlib.legend.Legend at 0x2aab8f61ed90>"
      ]
     },
     "execution_count": 72,
     "metadata": {},
     "output_type": "execute_result"
    },
    {
     "data": {
      "image/png": "[encoded data removed]",
      "text/plain": [
       "<Figure size 720x360 with 1 Axes>"
      ]
     },
     "metadata": {
      "needs_background": "light"
     },
     "output_type": "display_data"
    }
   ],
   "source": [
    "x = np.arange(len(noise_keeps))\n",
    "fig2, ax2 = plt.subplots(figsize=(10,5))\n",
    "ax2.plot(x, e_all, label = 'True Positive / True')\n",
    "ax2.set_xlabel('noise_level')\n",
    "ax2.set_ylabel('Efficiency')\n",
    "ax2.set_xticks(x)\n",
    "labels = noise_keeps\n",
    "ax2.set_xticklabels(labels)\n",
    "ax2.legend()"
   ]
  },
  {
   "cell_type": "code",
   "execution_count": null,
   "metadata": {},
   "outputs": [],
   "source": []
  },
  {
   "cell_type": "code",
   "execution_count": null,
   "metadata": {},
   "outputs": [],
   "source": []
  },
  {
   "cell_type": "markdown",
   "metadata": {},
   "source": [
    "For all events"
   ]
  },
  {
   "cell_type": "code",
   "execution_count": null,
   "metadata": {},
   "outputs": [],
   "source": [
    "# x = np.arange(len(noise_keeps))\n",
    "# purity = []\n",
    "# for i in noise_keeps:\n",
    "#     d_path = f\"/global/cfs/projectdirs/m3443/usr/caditi97/iml2020/out{i}/feature_store/1000\"\n",
    "#     data_in = torch.load(d_path)\n",
    "#     pur = emb_purity(best_emb, data_in)\n",
    "#     purity.append(pur)"
   ]
  },
  {
   "cell_type": "code",
   "execution_count": null,
   "metadata": {},
   "outputs": [],
   "source": [
    "# fig1, ax1 = plt.subplots(figsize=(10,5))\n",
    "# ax1.plot(x, purity, label = 'True Hits / All Hits')\n",
    "# ax1.set_xlabel('noise_level')\n",
    "# ax1.set_xticks(x)\n",
    "# labels = noise_keeps\n",
    "# ax1.set_xticklabels(labels)\n",
    "# ax1.legend()"
   ]
  },
  {
   "cell_type": "code",
   "execution_count": null,
   "metadata": {},
   "outputs": [],
   "source": []
  },
  {
   "cell_type": "markdown",
   "metadata": {},
   "source": [
    "# Filtering"
   ]
  },
  {
   "cell_type": "code",
   "execution_count": null,
   "metadata": {},
   "outputs": [],
   "source": [
    "# # load model\n",
    "# filter_ckpt_path = '/global/cfs/cdirs/m3443/data/lightning_models/filtering/checkpoints/epoch=92.ckpt'\n",
    "# filter_ckpt = torch.load(filter_ckpt_path)\n",
    "# filter_model = VanillaFilter(filter_ckpt['hyper_parameters'])\n",
    "# best_filter = filter_model.load_from_checkpoint(filter_ckpt_path, hparams=filter_ckpt['hyper_parameters'])"
   ]
  },
  {
   "cell_type": "code",
   "execution_count": null,
   "metadata": {},
   "outputs": [],
   "source": [
    "# best_filter.eval()"
   ]
  },
  {
   "cell_type": "code",
   "execution_count": null,
   "metadata": {},
   "outputs": [],
   "source": []
  }
 ],
 "metadata": {
  "kernelspec": {
   "display_name": "exatrkx-iml",
   "language": "python",
   "name": "exatrkx-iml"
  },
  "language_info": {
   "codemirror_mode": {
    "name": "ipython",
    "version": 3
   },
   "file_extension": ".py",
   "mimetype": "text/x-python",
   "name": "python",
   "nbconvert_exporter": "python",
   "pygments_lexer": "ipython3",
   "version": "3.7.6"
  }
 },
 "nbformat": 4,
 "nbformat_minor": 4
}
