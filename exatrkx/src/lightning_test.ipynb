{
 "cells": [
  {
   "cell_type": "code",
   "execution_count": 1,
   "metadata": {},
   "outputs": [],
   "source": [
    "%load_ext autoreload\n",
    "%autoreload 2"
   ]
  },
  {
   "cell_type": "code",
   "execution_count": 2,
   "metadata": {},
   "outputs": [],
   "source": [
    "import os\n",
    "os.environ['TRKXINPUTDIR']=\"/global/cfs/cdirs/m3443/data/trackml-kaggle/train_10evts\"\n",
    "os.environ['TRKXOUTPUTDIR']= \"/global/cfs/projectdirs/m3443/usr/caditi97/iml2020/out0\""
   ]
  },
  {
   "cell_type": "code",
   "execution_count": 3,
   "metadata": {},
   "outputs": [],
   "source": [
    "# import warnings\n",
    "# warnings.filterwarnings(\"ignore\")\n",
    "# from utils_robust import *\n",
    "import sys\n",
    "import torch\n",
    "import pytorch_lightning as pl\n",
    "import yaml\n",
    "import importlib\n",
    "import trackml\n",
    "import trackml.dataset\n",
    "import numpy as np\n",
    "from torch_cluster import radius_graph\n",
    "from utils_torch import build_edges\n",
    "sys.path.append('..')\n",
    "sys.path.append('/global/homes/c/caditi97/exatrkx-iml2020/exatrkx/src/')\n",
    "from embedding.layerless_embedding import *\n",
    "from embedding.embedding_base import *\n",
    "from src.filter import filter_base\n",
    "from src.filter.vanilla_filter import *\n",
    "# from src.Embedding.utils import get_best_run, build_edges, res, graph_intersection\n",
    "# from LightningModules.Filter.utils import stringlist_to_classes\n",
    "# from src.filter.vanilla_filter import VanillaFilter, FilterInferenceCallback\n",
    "# from src.Processing.feature_construction import FeatureStore\n",
    "# from pytorch_lightning.loggers import WandbLogger\n",
    "sys.path.append('/global/u2/c/caditi97/exatrkx-ctd2020')\n",
    "import matplotlib.pyplot as plt\n",
    "%matplotlib inline\n",
    "# from utils_robust import *"
   ]
  },
  {
   "cell_type": "code",
   "execution_count": 4,
   "metadata": {},
   "outputs": [],
   "source": [
    "noise_keeps = [\"0\", \"0.2\", \"0.4\", \"0.6\", \"0.8\", \"1\"]"
   ]
  },
  {
   "cell_type": "markdown",
   "metadata": {},
   "source": [
    "# Noise "
   ]
  },
  {
   "cell_type": "code",
   "execution_count": 5,
   "metadata": {},
   "outputs": [
    {
     "name": "stdout",
     "output_type": "stream",
     "text": [
      "-----\n",
      "Data(cell_data=[103305, 9], event_file=\"/global/cfs/cdirs/m3443/data/trackml-kaggle/train_10evts/event000001000\", hid=[103305], layerless_true_edges=[2, 123429], layers=[103305], pid=[103305], x=[103305, 3])\n",
      "-----\n",
      "Data(cell_data=[106831, 9], event_file=\"/global/cfs/cdirs/m3443/data/trackml-kaggle/train_10evts/event000001000\", hid=[106831], layerless_true_edges=[2, 389588], layers=[106831], pid=[106831], x=[106831, 3])\n",
      "-----\n",
      "Data(cell_data=[110358, 9], event_file=\"/global/cfs/cdirs/m3443/data/trackml-kaggle/train_10evts/event000001000\", hid=[110358], layerless_true_edges=[2, 1146681], layers=[110358], pid=[110358], x=[110358, 3])\n",
      "-----\n",
      "Data(cell_data=[113885, 9], event_file=\"/global/cfs/cdirs/m3443/data/trackml-kaggle/train_10evts/event000001000\", hid=[113885], layerless_true_edges=[2, 2394184], layers=[113885], pid=[113885], x=[113885, 3])\n",
      "-----\n",
      "Data(cell_data=[117412, 9], event_file=\"/global/cfs/cdirs/m3443/data/trackml-kaggle/train_10evts/event000001000\", hid=[117412], layerless_true_edges=[2, 4150600], layers=[117412], pid=[117412], x=[117412, 3])\n",
      "-----\n",
      "Data(cell_data=[120939, 9], event_file=\"/global/cfs/cdirs/m3443/data/trackml-kaggle/train_10evts/event000001000\", hid=[120939], layerless_true_edges=[2, 6455778], layers=[120939], pid=[120939], x=[120939, 3])\n"
     ]
    },
    {
     "data": {
      "text/plain": [
       "<matplotlib.legend.Legend at 0x2aab88e73250>"
      ]
     },
     "execution_count": 5,
     "metadata": {},
     "output_type": "execute_result"
    },
    {
     "data": {
      "image/png": "[encoded data removed]",
      "text/plain": [
       "<Figure size 720x360 with 1 Axes>"
      ]
     },
     "metadata": {
      "needs_background": "light"
     },
     "output_type": "display_data"
    }
   ],
   "source": [
    "noise = []\n",
    "not_noise = []\n",
    "for i in noise_keeps:\n",
    "    dir_path = \"/global/cfs/projectdirs/m3443/usr/caditi97/iml2020\"\n",
    "    data_path = f\"/out{i}/feature_store/1000\"\n",
    "    #data = torch.load(f\"/global/cfs/projectdirs/m3443/usr/caditi97/iml2020/feature_store_endcaps/n{i}/1000\")\n",
    "    data = torch.load(dir_path + data_path)\n",
    "    arr = data['pid']\n",
    "    n_count = np.count_nonzero(arr==0)\n",
    "    not_n = np.count_nonzero(arr)\n",
    "    noise.append(n_count)\n",
    "    not_noise.append(not_n)\n",
    "    print(\"-----\")\n",
    "    print(data)\n",
    "    \n",
    "x = np.arange(len(noise_keeps))  # the label locations\n",
    "width = 0.35  # the width of the bars\n",
    "\n",
    "fig, ax = plt.subplots(figsize=(10,5))\n",
    "rects1 = ax.bar(x - width/2, noise, width, label='noise')\n",
    "rects2 = ax.bar(x + width/2, not_noise, width, label='not noise')\n",
    "\n",
    "# Add some text for labels, title and custom x-axis tick labels, etc.\n",
    "ax.set_ylabel('# of hits')\n",
    "ax.set_xlabel('keep')\n",
    "ax.set_xticks(x)\n",
    "labels = noise_keeps\n",
    "ax.set_xticklabels(labels)\n",
    "ax.legend()"
   ]
  },
  {
   "cell_type": "markdown",
   "metadata": {},
   "source": [
    "# Embedding"
   ]
  },
  {
   "cell_type": "code",
   "execution_count": 6,
   "metadata": {},
   "outputs": [],
   "source": [
    "# load model\n",
    "emb_ckpt_path = '/global/cfs/cdirs/m3443/data/lightning_models/embedding/checkpoints/epoch=10.ckpt'\n",
    "emb_ckpt = torch.load(emb_ckpt_path)"
   ]
  },
  {
   "cell_type": "code",
   "execution_count": 7,
   "metadata": {},
   "outputs": [
    {
     "data": {
      "text/plain": [
       "\"adjacent\":       False\n",
       "\"clustering\":     build_edges\n",
       "\"emb_dim\":        8\n",
       "\"emb_hidden\":     512\n",
       "\"endcaps\":        True\n",
       "\"factor\":         0.3\n",
       "\"in_channels\":    12\n",
       "\"input_dir\":      /global/cscratch1/sd/danieltm/ExaTrkX/trackml/feature_store_endcaps\n",
       "\"knn\":            20\n",
       "\"layerless\":      True\n",
       "\"layerwise\":      False\n",
       "\"lr\":             0.002\n",
       "\"margin\":         1\n",
       "\"max_epochs\":     100\n",
       "\"nb_layer\":       6\n",
       "\"noise\":          False\n",
       "\"output_dir\":     global/cscratch1/sd/danieltm/ExaTrkX/trackml_processed/embedding_processed/0_pt_cut_endcaps\n",
       "\"overwrite\":      True\n",
       "\"patience\":       5\n",
       "\"project\":        EmbeddingStudy\n",
       "\"pt_min\":         0\n",
       "\"r_train\":        1\n",
       "\"r_val\":          0.5\n",
       "\"randomisation\":  2\n",
       "\"regime\":         ['rp', 'hnm', 'ci']\n",
       "\"train_split\":    [8, 1, 1]\n",
       "\"wandb_save_dir\": /global/cscratch1/sd/danieltm/ExaTrkX/wandb_data\n",
       "\"warmup\":         500\n",
       "\"weight\":         4"
      ]
     },
     "execution_count": 7,
     "metadata": {},
     "output_type": "execute_result"
    }
   ],
   "source": [
    "emb_ckpt['hyper_parameters']['train_split'] = [8,1,1]\n",
    "emb_ckpt['hyper_parameters']['clustering'] = 'build_edges'\n",
    "emb_ckpt['hyper_parameters']"
   ]
  },
  {
   "cell_type": "code",
   "execution_count": 8,
   "metadata": {},
   "outputs": [],
   "source": [
    "emb_model = LayerlessEmbedding(emb_ckpt['hyper_parameters'])"
   ]
  },
  {
   "cell_type": "code",
   "execution_count": 9,
   "metadata": {},
   "outputs": [],
   "source": [
    "best_emb = emb_model.load_from_checkpoint(emb_ckpt_path, hparams=emb_ckpt['hyper_parameters'])"
   ]
  },
  {
   "cell_type": "code",
   "execution_count": 10,
   "metadata": {},
   "outputs": [
    {
     "data": {
      "text/plain": [
       "LayerlessEmbedding(\n",
       "  (layers): ModuleList(\n",
       "    (0): Linear(in_features=12, out_features=512, bias=True)\n",
       "    (1): Linear(in_features=512, out_features=512, bias=True)\n",
       "    (2): Linear(in_features=512, out_features=512, bias=True)\n",
       "    (3): Linear(in_features=512, out_features=512, bias=True)\n",
       "    (4): Linear(in_features=512, out_features=512, bias=True)\n",
       "    (5): Linear(in_features=512, out_features=512, bias=True)\n",
       "  )\n",
       "  (emb_layer): Linear(in_features=512, out_features=8, bias=True)\n",
       "  (norm): LayerNorm((512,), eps=1e-05, elementwise_affine=True)\n",
       "  (act): Tanh()\n",
       ")"
      ]
     },
     "execution_count": 10,
     "metadata": {},
     "output_type": "execute_result"
    }
   ],
   "source": [
    "best_emb.eval()"
   ]
  },
  {
   "cell_type": "code",
   "execution_count": 11,
   "metadata": {},
   "outputs": [],
   "source": [
    "def emb_purity(best_emb,batch):\n",
    "#     dev = 'cuda' if torch.cuda.is_available() else 'cpu'\n",
    "#     hparams = ckpt['hyper_parameters']\n",
    "    \n",
    "    if 'ci' in best_emb.hparams[\"regime\"]:\n",
    "            spatial = best_emb(torch.cat([batch.cell_data, batch.x], axis=-1))\n",
    "    else:\n",
    "            spatial = best_emb(batch.x)\n",
    "    \n",
    "    # truth information\n",
    "    e_bidir = torch.cat([batch.layerless_true_edges,\n",
    "                        torch.stack([batch.layerless_true_edges[1],\n",
    "                                    batch.layerless_true_edges[0]], axis=1).T], axis=-1)\n",
    "    if(torch.cuda.is_available()):\n",
    "        spatial = spatial.cuda()\n",
    "        \n",
    "    # clustering\n",
    "    e_spatial = best_emb.clustering(spatial, best_emb.hparams[\"r_val\"], best_emb.hparams[\"knn\"])\n",
    "    \n",
    "    # label edges as true and false\n",
    "    e_spatial, y_cluster = graph_intersection(e_spatial, e_bidir)\n",
    "    \n",
    "    cluster_true = 2*len(batch.layerless_true_edges[0])\n",
    "    cluster_true_positive = y_cluster.sum()\n",
    "    cluster_positive = len(e_spatial[0])\n",
    "    \n",
    "    # add all truth edges \"weight\" times, which is 4,\n",
    "    # to balance the number of truth and fake edges in one batch\n",
    "    \n",
    "    if(torch.cuda.is_available()):\n",
    "        e_spatial = e_spatial.cuda()\n",
    "        e_bidir = e_bidir.cuda()\n",
    "        \n",
    "    \n",
    "    e_spatial = torch.cat([e_spatial,\n",
    "        e_bidir.transpose(0,1).repeat(1,best_emb.hparams[\"weight\"]).view(-1, 2).transpose(0,1)], axis=-1)\n",
    "    y_cluster = np.concatenate([y_cluster.astype(int), np.ones(e_bidir.shape[1]*best_emb.hparams[\"weight\"])])\n",
    "\n",
    "    \n",
    "    # extract emedding features of seed hits and neighbor hits\n",
    "    seed_hits = spatial.index_select(0, e_spatial[1])\n",
    "    neighbors = spatial.index_select(0, e_spatial[0])\n",
    "\n",
    "    \n",
    "    # calculate purity as true hits inside embedding radius / total hits inside embedding radius\n",
    "    \n",
    "    return seed_hits, neighbors, e_spatial, y_cluster"
   ]
  },
  {
   "cell_type": "code",
   "execution_count": 12,
   "metadata": {},
   "outputs": [
    {
     "data": {
      "text/plain": [
       "Data(cell_data=[106831, 9], event_file=\"/global/cfs/cdirs/m3443/data/trackml-kaggle/train_10evts/event000001000\", hid=[106831], layerless_true_edges=[2, 389588], layers=[106831], pid=[106831], x=[106831, 3])"
      ]
     },
     "execution_count": 12,
     "metadata": {},
     "output_type": "execute_result"
    }
   ],
   "source": [
    "n2_path = \"/global/cfs/projectdirs/m3443/usr/caditi97/iml2020/out0.2/feature_store/1000\"\n",
    "data2 = torch.load(n2_path)\n",
    "data2"
   ]
  },
  {
   "cell_type": "code",
   "execution_count": 13,
   "metadata": {},
   "outputs": [],
   "source": [
    "seed_hits, neighbors, e_spatial, y_cluster = emb_purity(best_emb, data2)"
   ]
  },
  {
   "cell_type": "code",
   "execution_count": 14,
   "metadata": {},
   "outputs": [
    {
     "data": {
      "text/plain": [
       "tensor([-8.3380, -1.8881,  0.0560, -0.1523,  3.2889, -0.1843,  1.5527, -7.0874],\n",
       "       device='cuda:0', grad_fn=<SelectBackward>)"
      ]
     },
     "execution_count": 14,
     "metadata": {},
     "output_type": "execute_result"
    }
   ],
   "source": [
    "seed_hits[0]"
   ]
  },
  {
   "cell_type": "code",
   "execution_count": 15,
   "metadata": {},
   "outputs": [
    {
     "data": {
      "text/plain": [
       "tensor([-8.1426, -1.9134, -0.1716, -0.2233,  3.2029, -0.1741,  1.3431, -7.0850],\n",
       "       device='cuda:0', grad_fn=<SelectBackward>)"
      ]
     },
     "execution_count": 15,
     "metadata": {},
     "output_type": "execute_result"
    }
   ],
   "source": [
    "neighbors[0]"
   ]
  },
  {
   "cell_type": "code",
   "execution_count": 16,
   "metadata": {},
   "outputs": [
    {
     "data": {
      "text/plain": [
       "2"
      ]
     },
     "execution_count": 16,
     "metadata": {},
     "output_type": "execute_result"
    }
   ],
   "source": [
    "len(e_spatial)"
   ]
  },
  {
   "cell_type": "code",
   "execution_count": 17,
   "metadata": {},
   "outputs": [
    {
     "data": {
      "text/plain": [
       "tensor([     2,      2,      5,  ..., 100256, 100256, 100256], device='cuda:0')"
      ]
     },
     "execution_count": 17,
     "metadata": {},
     "output_type": "execute_result"
    }
   ],
   "source": [
    "e_spatial[0, :]"
   ]
  },
  {
   "cell_type": "code",
   "execution_count": 18,
   "metadata": {},
   "outputs": [
    {
     "data": {
      "text/plain": [
       "tensor([15264, 25232, 10051,  ..., 96630, 96630, 96630], device='cuda:0')"
      ]
     },
     "execution_count": 18,
     "metadata": {},
     "output_type": "execute_result"
    }
   ],
   "source": [
    "e_spatial[1, :]"
   ]
  },
  {
   "cell_type": "code",
   "execution_count": 19,
   "metadata": {},
   "outputs": [
    {
     "data": {
      "text/plain": [
       "array([0., 0., 0., ..., 1., 1., 1.])"
      ]
     },
     "execution_count": 19,
     "metadata": {},
     "output_type": "execute_result"
    }
   ],
   "source": [
    "y_cluster"
   ]
  },
  {
   "cell_type": "code",
   "execution_count": 20,
   "metadata": {},
   "outputs": [
    {
     "data": {
      "text/plain": [
       "0.9641246326647044"
      ]
     },
     "execution_count": 20,
     "metadata": {},
     "output_type": "execute_result"
    }
   ],
   "source": [
    "cluster_true_positive = y_cluster.sum()\n",
    "cluster_positive = len(e_spatial[0])\n",
    "pur = cluster_true_positive/cluster_positive\n",
    "pur"
   ]
  },
  {
   "cell_type": "code",
   "execution_count": 21,
   "metadata": {},
   "outputs": [
    {
     "data": {
      "text/plain": [
       "tensor(0.9641, dtype=torch.float64)"
      ]
     },
     "execution_count": 21,
     "metadata": {},
     "output_type": "execute_result"
    }
   ],
   "source": [
    "torch.tensor(cluster_true_positive/cluster_positive)"
   ]
  },
  {
   "cell_type": "code",
   "execution_count": 22,
   "metadata": {},
   "outputs": [],
   "source": [
    "x = np.arange(len(noise_keeps))\n",
    "purity = []\n",
    "for i in noise_keeps:\n",
    "    d_path = f\"/global/cfs/projectdirs/m3443/usr/caditi97/iml2020/out{i}/feature_store/1000\"\n",
    "    data_in = torch.load(d_path)\n",
    "    seed_hits, neighbors, e_spatial, y_cluster = emb_purity(best_emb, data_in)\n",
    "    cluster_true_positive = y_cluster.sum()\n",
    "    cluster_positive = len(e_spatial[0])\n",
    "    pur = cluster_true_positive/cluster_positive\n",
    "    purity.append(pur)"
   ]
  },
  {
   "cell_type": "code",
   "execution_count": 23,
   "metadata": {},
   "outputs": [
    {
     "data": {
      "text/plain": [
       "<matplotlib.legend.Legend at 0x2aab8f9f9f90>"
      ]
     },
     "execution_count": 23,
     "metadata": {},
     "output_type": "execute_result"
    },
    {
     "data": {
      "image/png": "[encoded data removed]",
      "text/plain": [
       "<Figure size 720x360 with 1 Axes>"
      ]
     },
     "metadata": {
      "needs_background": "light"
     },
     "output_type": "display_data"
    }
   ],
   "source": [
    "fig1, ax1 = plt.subplots(figsize=(10,5))\n",
    "ax1.plot(x, purity, label = 'True Hits / All Hits')\n",
    "ax1.set_xlabel('noise_level')\n",
    "ax1.set_xticks(x)\n",
    "labels = noise_keeps\n",
    "ax1.set_xticklabels(labels)\n",
    "ax1.legend()"
   ]
  },
  {
   "cell_type": "code",
   "execution_count": 24,
   "metadata": {},
   "outputs": [],
   "source": [
    "# value = 0\n",
    "# for nbr_ind in e_spatial[1,:]:\n",
    "#     value += y_cluster[nbr_ind]\n",
    "# value"
   ]
  },
  {
   "cell_type": "markdown",
   "metadata": {},
   "source": [
    "# Filtering"
   ]
  },
  {
   "cell_type": "code",
   "execution_count": 25,
   "metadata": {},
   "outputs": [],
   "source": [
    "# load model\n",
    "filter_ckpt_path = '/global/cfs/cdirs/m3443/data/lightning_models/filtering/checkpoints/epoch=54.ckpt'\n",
    "filter_ckpt = torch.load(filter_ckpt_path)\n",
    "filter_model = VanillaFilter(filter_ckpt['hyper_parameters'])\n",
    "best_filter = filter_model.load_from_checkpoint(filter_ckpt_path, hparams=filter_ckpt['hyper_parameters'])"
   ]
  },
  {
   "cell_type": "code",
   "execution_count": 26,
   "metadata": {},
   "outputs": [
    {
     "data": {
      "text/plain": [
       "VanillaFilter(\n",
       "  (input_layer): Linear(in_features=24, out_features=512, bias=True)\n",
       "  (layers): ModuleList(\n",
       "    (0): Linear(in_features=512, out_features=512, bias=True)\n",
       "    (1): Linear(in_features=512, out_features=512, bias=True)\n",
       "  )\n",
       "  (output_layer): Linear(in_features=512, out_features=1, bias=True)\n",
       "  (layernorm): LayerNorm((512,), eps=1e-05, elementwise_affine=True)\n",
       "  (batchnorm): BatchNorm1d(512, eps=1e-05, momentum=0.1, affine=True, track_running_stats=False)\n",
       "  (act): Tanh()\n",
       ")"
      ]
     },
     "execution_count": 26,
     "metadata": {},
     "output_type": "execute_result"
    }
   ],
   "source": [
    "best_filter.eval()"
   ]
  },
  {
   "cell_type": "code",
   "execution_count": null,
   "metadata": {},
   "outputs": [],
   "source": []
  }
 ],
 "metadata": {
  "kernelspec": {
   "display_name": "exatrkx-iml",
   "language": "python",
   "name": "exatrkx-iml"
  },
  "language_info": {
   "codemirror_mode": {
    "name": "ipython",
    "version": 3
   },
   "file_extension": ".py",
   "mimetype": "text/x-python",
   "name": "python",
   "nbconvert_exporter": "python",
   "pygments_lexer": "ipython3",
   "version": "3.7.6"
  }
 },
 "nbformat": 4,
 "nbformat_minor": 4
}
